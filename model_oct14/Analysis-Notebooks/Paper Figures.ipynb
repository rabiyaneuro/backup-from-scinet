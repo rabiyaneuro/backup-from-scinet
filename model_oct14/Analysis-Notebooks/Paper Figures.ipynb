{
 "cells": [
  {
   "cell_type": "markdown",
   "metadata": {
    "nbpresent": {
     "id": "00f33ecf-ed6d-4252-8f8e-1d7a0ef216eb"
    }
   },
   "source": [
    "# Figures for paper\n",
    "\n",
    "28-Feb, 20-Mar\n",
    "\n",
    "- 3:30 hour runs\n",
    "- 3 distinct CV distributions, 3 cost functions runs\n",
    "- degenaracy of solutions runs"
   ]
  },
  {
   "cell_type": "code",
   "execution_count": 1,
   "metadata": {
    "nbpresent": {
     "id": "2a2362ed-e353-48f1-b8d2-ffb62a04a43e"
    }
   },
   "outputs": [],
   "source": [
    "import sys\n",
    "import glob\n",
    "import numpy as np\n",
    "import seaborn as sns\n",
    "\n",
    "import matplotlib.mlab as mlab\n",
    "import matplotlib.pyplot as plt\n",
    "%matplotlib inline\n",
    "\n",
    "import sys\n",
    "sys.path.insert(0, \"/scratch/l/lfefebvr/noorir/model/\")\n",
    "\n",
    "OUTPUT_PATH = '/scratch/l/lfefebvr/noorir/model/Output/'"
   ]
  },
  {
   "cell_type": "markdown",
   "metadata": {
    "nbpresent": {
     "id": "1a3cae7d-dbd6-478d-adce-fef91768bc10"
    }
   },
   "source": [
    "# Helper Functions"
   ]
  },
  {
   "cell_type": "code",
   "execution_count": 2,
   "metadata": {
    "nbpresent": {
     "id": "2cb84aed-b22a-4757-8bd4-a213925b52a1"
    }
   },
   "outputs": [],
   "source": [
    "\n",
    "def plot_ts(nodes, all_ts):\n",
    "    plt.figure(2, figsize=(40, 6))\n",
    "    for sing_node in range(nodes):\n",
    "        plt.plot(np.array(all_ts)[sing_node])\n",
    "    plt.show()\n",
    "    "
   ]
  },
  {
   "cell_type": "markdown",
   "metadata": {},
   "source": [
    "# Choosing which jobs to analyze"
   ]
  },
  {
   "cell_type": "code",
   "execution_count": 3,
   "metadata": {},
   "outputs": [],
   "source": [
    "JOB = ['990797','990798', '990799',\n",
    "       '1061083', '1061085','1061086',\n",
    "       '1061632','1061633','1061635']\n",
    "NTASKS =[120]\n",
    "NUM_JOBS = len(JOB)\n",
    "\n",
    "# jobs for 3 diff cases runs\n",
    "# correlation, pli, ploi+corr"
   ]
  },
  {
   "cell_type": "code",
   "execution_count": 5,
   "metadata": {},
   "outputs": [],
   "source": [
    "# JOB = ['1071214', '1071215', '1071216', '1071217',\n",
    "#        '1069947', '1069948', '1069950', '1069951',\n",
    "#        '1070142', '1070143', '1070144', '1070145']\n",
    "\n",
    "# degeneracy of sols all 3 cv cases using pli+corr cost function"
   ]
  },
  {
   "cell_type": "markdown",
   "metadata": {
    "nbpresent": {
     "id": "1d213cc8-e9a9-4875-b33a-205219eaf1cd"
    }
   },
   "source": [
    "# Saving the names of the variable load files for each run"
   ]
  },
  {
   "cell_type": "code",
   "execution_count": 7,
   "metadata": {
    "nbpresent": {
     "id": "452522e7-d6ca-46d8-93cc-0af9aef18548"
    }
   },
   "outputs": [
    {
     "name": "stdout",
     "output_type": "stream",
     "text": [
      "Loaded vars files successfully 9\n"
     ]
    },
    {
     "data": {
      "text/plain": [
       "{'1061083': '/scratch/l/lfefebvr/noorir/model/Output/2019-03-20/1061083/load_genvars_delays4pli.py',\n",
       " '1061085': '/scratch/l/lfefebvr/noorir/model/Output/2019-03-20/1061085/load_genvars_delays5pli.py',\n",
       " '1061086': '/scratch/l/lfefebvr/noorir/model/Output/2019-03-20/1061086/load_genvars_delays6pli.py',\n",
       " '1061632': '/scratch/l/lfefebvr/noorir/model/Output/2019-03-20/1061632/load_genvars_delays_pli_corr4.py',\n",
       " '1061633': '/scratch/l/lfefebvr/noorir/model/Output/2019-03-20/1061633/load_genvars_delays_pli_corr5.py',\n",
       " '1061635': '/scratch/l/lfefebvr/noorir/model/Output/2019-03-20/1061635/load_genvars_delays_pli_corr6.py',\n",
       " '990797': '/scratch/l/lfefebvr/noorir/model/Output/2019-02-28/990797/load_genvars_delays4.py',\n",
       " '990798': '/scratch/l/lfefebvr/noorir/model/Output/2019-02-28/990798/load_genvars_delays5.py',\n",
       " '990799': '/scratch/l/lfefebvr/noorir/model/Output/2019-02-28/990799/load_genvars_delays6.py'}"
      ]
     },
     "execution_count": 7,
     "metadata": {},
     "output_type": "execute_result"
    }
   ],
   "source": [
    "# Loading variable file names we will use for analysis into a dictionary\n",
    "\n",
    "load_files = {} #names of all the load_vars_ts_delays files\n",
    "\n",
    "for job in JOB:\n",
    "    var = glob.glob(OUTPUT_PATH+\"*/\"+job+\"/\"+\"load_genvars_delay*\")\n",
    "    if len(var) ==1:\n",
    "        load_files[job] = glob.glob(OUTPUT_PATH+\"*/\"+job+\"/\"+\"load_genvars_delay*\")[0]\n",
    "        \n",
    "        \n",
    "if len(load_files.keys()) == len(JOB):\n",
    "    print(\"Loaded vars files successfully\", len(JOB))\n",
    "load_files"
   ]
  },
  {
   "cell_type": "markdown",
   "metadata": {},
   "source": [
    "# Creating a dictionary to hold all the best solution vectors (all_res)"
   ]
  },
  {
   "cell_type": "code",
   "execution_count": 8,
   "metadata": {
    "nbpresent": {
     "id": "2abec0de-20ee-4d4a-aa68-27bebcb71dcc"
    }
   },
   "outputs": [
    {
     "name": "stdout",
     "output_type": "stream",
     "text": [
      "0  Job: 990797, lowest MSE:  0.07338092108358579\n",
      "1  Job: 990798, lowest MSE:  0.004047887415854594\n",
      "2  Job: 990799, lowest MSE:  1.232595164407831e-32\n",
      "3  Job: 1061083, lowest MSE:  0.007726127439622802\n",
      "4  Job: 1061085, lowest MSE:  0.011749916991653358\n",
      "5  Job: 1061086, lowest MSE:  0.00423656239233128\n",
      "6  Job: 1061632, lowest MSE:  0.053031927851486665\n",
      "7  Job: 1061633, lowest MSE:  0.024850200161823106\n",
      "8  Job: 1061635, lowest MSE:  0.04030531322479117\n"
     ]
    }
   ],
   "source": [
    "# Retreive the best solution - all_res is dict with arrays with the conduction \n",
    "# velocities vector that had the lowest MSE at the end of the diff evol algorithm\n",
    "\n",
    "all_res = {} #dictionary of all the solution arrays\n",
    "i=0\n",
    "for job in JOB:\n",
    "    full_list = glob.glob(OUTPUT_PATH+\"*/\"+job+\"/\"+\"rank*\") #list of all results for a single job\n",
    "    if len(full_list) in NTASKS:\n",
    "        low = 1\n",
    "        for res in full_list:\n",
    "            start = res.index(\"_\")+1\n",
    "            end = res.index(\".npy\")\n",
    "            if float(res[start:end])< low:\n",
    "                low = float(res[start:end])\n",
    "        print(i,\" Job: \"+job+\", lowest MSE: \", low)\n",
    "        i = i+ 1\n",
    "        final_res_ = glob.glob(OUTPUT_PATH+\"*/\"+job+\"/\"+\"rank*\"+str(low)+\"*\")[0]\n",
    "        all_res[job]= np.load(final_res_)\n",
    "    else:\n",
    "        print(\"Error\", job)\n",
    "        break"
   ]
  },
  {
   "cell_type": "markdown",
   "metadata": {},
   "source": [
    "# Heatmaps - target CV vs estimated CV"
   ]
  },
  {
   "cell_type": "markdown",
   "metadata": {},
   "source": [
    "- list of all mse CV values (all_mse)\n",
    "- dictionary of all target CV matrices (all_res_true)"
   ]
  },
  {
   "cell_type": "code",
   "execution_count": 9,
   "metadata": {
    "scrolled": false
   },
   "outputs": [
    {
     "name": "stdout",
     "output_type": "stream",
     "text": [
      "--------------------------CORR------------------------------------\n",
      "990797  true vs est: mse =  27.3241232755\n"
     ]
    },
    {
     "data": {
      "image/png": "[encoded data removed]",
      "text/plain": [
       "<Figure size 432x288 with 2 Axes>"
      ]
     },
     "metadata": {},
     "output_type": "display_data"
    },
    {
     "data": {
      "image/png": "[encoded data removed]",
      "text/plain": [
       "<Figure size 432x288 with 2 Axes>"
      ]
     },
     "metadata": {},
     "output_type": "display_data"
    },
    {
     "name": "stdout",
     "output_type": "stream",
     "text": [
      "--------------------------CORR------------------------------------\n"
     ]
    },
    {
     "name": "stderr",
     "output_type": "stream",
     "text": [
      "/scinet/niagara/software/2018a/opt/base/anaconda3/5.1.0-hub/lib/python3.6/site-packages/ipykernel_launcher.py:53: RuntimeWarning: divide by zero encountered in reciprocal\n"
     ]
    },
    {
     "name": "stdout",
     "output_type": "stream",
     "text": [
      "990798  true vs est: mse =  13.8053373918\n"
     ]
    },
    {
     "data": {
      "image/png": "[encoded data removed]",
      "text/plain": [
       "<Figure size 432x288 with 2 Axes>"
      ]
     },
     "metadata": {},
     "output_type": "display_data"
    },
    {
     "data": {
      "image/png": "[encoded data removed]",
      "text/plain": [
       "<Figure size 432x288 with 2 Axes>"
      ]
     },
     "metadata": {},
     "output_type": "display_data"
    },
    {
     "name": "stdout",
     "output_type": "stream",
     "text": [
      "--------------------------CORR------------------------------------\n",
      "990799  true vs est: mse =  13.8724006017\n"
     ]
    },
    {
     "data": {
      "image/png": "[encoded data removed]",
      "text/plain": [
       "<Figure size 432x288 with 2 Axes>"
      ]
     },
     "metadata": {},
     "output_type": "display_data"
    },
    {
     "data": {
      "image/png": "[encoded data removed]",
      "text/plain": [
       "<Figure size 432x288 with 2 Axes>"
      ]
     },
     "metadata": {},
     "output_type": "display_data"
    },
    {
     "name": "stdout",
     "output_type": "stream",
     "text": [
      "--------------------------PLI-----------------------------------------\n",
      "Connectivity computation...\n",
      "only using indices for lower-triangular matrix\n",
      "    computing connectivity for 45 connections\n",
      "    using t=0.000s..0.599s for estimation (600 points)\n",
      "    frequencies: 13.3Hz..30.0Hz (11 points)\n",
      "    connectivity scores will be averaged for each band\n",
      "    using FFT with a Hanning window to estimate spectra\n",
      "    the following metrics will be computed: WPLI\n",
      "    computing connectivity for epoch 1\n",
      "    computing connectivity for epoch 2\n",
      "    computing connectivity for epoch 3\n",
      "    assembling connectivity matrix (filling the upper triangular region of the matrix)\n",
      "[Connectivity computation done]\n",
      "1061083  true vs est: mse =  29.8103247875\n"
     ]
    },
    {
     "data": {
      "image/png": "[encoded data removed]",
      "text/plain": [
       "<Figure size 432x288 with 2 Axes>"
      ]
     },
     "metadata": {},
     "output_type": "display_data"
    },
    {
     "data": {
      "image/png": "[encoded data removed]",
      "text/plain": [
       "<Figure size 432x288 with 2 Axes>"
      ]
     },
     "metadata": {},
     "output_type": "display_data"
    },
    {
     "name": "stdout",
     "output_type": "stream",
     "text": [
      "--------------------------PLI-----------------------------------------\n",
      "Connectivity computation...\n",
      "only using indices for lower-triangular matrix\n",
      "    computing connectivity for 45 connections\n",
      "    using t=0.000s..0.599s for estimation (600 points)\n",
      "    frequencies: 13.3Hz..30.0Hz (11 points)\n",
      "    connectivity scores will be averaged for each band\n",
      "    using FFT with a Hanning window to estimate spectra\n",
      "    the following metrics will be computed: WPLI\n",
      "    computing connectivity for epoch 1\n",
      "    computing connectivity for epoch 2\n",
      "    computing connectivity for epoch 3\n",
      "    assembling connectivity matrix (filling the upper triangular region of the matrix)\n",
      "[Connectivity computation done]\n",
      "1061085  true vs est: mse =  10.7330422929\n"
     ]
    },
    {
     "data": {
      "image/png": "[encoded data removed]",
      "text/plain": [
       "<Figure size 432x288 with 2 Axes>"
      ]
     },
     "metadata": {},
     "output_type": "display_data"
    },
    {
     "data": {
      "image/png": "[encoded data removed]",
      "text/plain": [
       "<Figure size 432x288 with 2 Axes>"
      ]
     },
     "metadata": {},
     "output_type": "display_data"
    },
    {
     "name": "stdout",
     "output_type": "stream",
     "text": [
      "--------------------------PLI-----------------------------------------\n",
      "Connectivity computation...\n",
      "only using indices for lower-triangular matrix\n",
      "    computing connectivity for 45 connections\n",
      "    using t=0.000s..0.599s for estimation (600 points)\n",
      "    frequencies: 13.3Hz..30.0Hz (11 points)\n",
      "    connectivity scores will be averaged for each band\n",
      "    using FFT with a Hanning window to estimate spectra\n",
      "    the following metrics will be computed: WPLI\n",
      "    computing connectivity for epoch 1\n",
      "    computing connectivity for epoch 2\n",
      "    computing connectivity for epoch 3\n",
      "    assembling connectivity matrix (filling the upper triangular region of the matrix)\n",
      "[Connectivity computation done]\n",
      "1061086  true vs est: mse =  38.8969202776\n"
     ]
    },
    {
     "data": {
      "image/png": "[encoded data removed]",
      "text/plain": [
       "<Figure size 432x288 with 2 Axes>"
      ]
     },
     "metadata": {},
     "output_type": "display_data"
    },
    {
     "data": {
      "image/png": "[encoded data removed]",
      "text/plain": [
       "<Figure size 432x288 with 2 Axes>"
      ]
     },
     "metadata": {},
     "output_type": "display_data"
    },
    {
     "name": "stdout",
     "output_type": "stream",
     "text": [
      "--------------------------PLI+CORR------------------------------------\n",
      "Connectivity computation...\n",
      "only using indices for lower-triangular matrix\n",
      "    computing connectivity for 45 connections\n",
      "    using t=0.000s..0.599s for estimation (600 points)\n",
      "    frequencies: 13.3Hz..30.0Hz (11 points)\n",
      "    connectivity scores will be averaged for each band\n",
      "    using FFT with a Hanning window to estimate spectra\n",
      "    the following metrics will be computed: WPLI\n",
      "    computing connectivity for epoch 1\n",
      "    computing connectivity for epoch 2\n",
      "    computing connectivity for epoch 3\n",
      "    assembling connectivity matrix (filling the upper triangular region of the matrix)\n",
      "[Connectivity computation done]\n",
      "1061632  true vs est: mse =  21.5763512039\n"
     ]
    },
    {
     "data": {
      "image/png": "[encoded data removed]",
      "text/plain": [
       "<Figure size 432x288 with 2 Axes>"
      ]
     },
     "metadata": {},
     "output_type": "display_data"
    },
    {
     "data": {
      "image/png": "[encoded data removed]",
      "text/plain": [
       "<Figure size 432x288 with 2 Axes>"
      ]
     },
     "metadata": {},
     "output_type": "display_data"
    },
    {
     "name": "stdout",
     "output_type": "stream",
     "text": [
      "--------------------------PLI+CORR------------------------------------\n",
      "Connectivity computation...\n",
      "only using indices for lower-triangular matrix\n",
      "    computing connectivity for 45 connections\n",
      "    using t=0.000s..0.599s for estimation (600 points)\n",
      "    frequencies: 13.3Hz..30.0Hz (11 points)\n",
      "    connectivity scores will be averaged for each band\n",
      "    using FFT with a Hanning window to estimate spectra\n",
      "    the following metrics will be computed: WPLI\n",
      "    computing connectivity for epoch 1\n",
      "    computing connectivity for epoch 2\n",
      "    computing connectivity for epoch 3\n",
      "    assembling connectivity matrix (filling the upper triangular region of the matrix)\n",
      "[Connectivity computation done]\n",
      "1061633  true vs est: mse =  11.7068203802\n"
     ]
    },
    {
     "data": {
      "image/png": "[encoded data removed]",
      "text/plain": [
       "<Figure size 432x288 with 2 Axes>"
      ]
     },
     "metadata": {},
     "output_type": "display_data"
    },
    {
     "data": {
      "image/png": "[encoded data removed]",
      "text/plain": [
       "<Figure size 432x288 with 2 Axes>"
      ]
     },
     "metadata": {},
     "output_type": "display_data"
    },
    {
     "name": "stdout",
     "output_type": "stream",
     "text": [
      "--------------------------PLI+CORR------------------------------------\n",
      "Connectivity computation...\n",
      "only using indices for lower-triangular matrix\n",
      "    computing connectivity for 45 connections\n",
      "    using t=0.000s..0.599s for estimation (600 points)\n",
      "    frequencies: 13.3Hz..30.0Hz (11 points)\n",
      "    connectivity scores will be averaged for each band\n",
      "    using FFT with a Hanning window to estimate spectra\n",
      "    the following metrics will be computed: WPLI\n",
      "    computing connectivity for epoch 1\n",
      "    computing connectivity for epoch 2\n",
      "    computing connectivity for epoch 3\n",
      "    assembling connectivity matrix (filling the upper triangular region of the matrix)\n",
      "[Connectivity computation done]\n",
      "1061635  true vs est: mse =  20.367953423\n"
     ]
    },
    {
     "data": {
      "image/png": "[encoded data removed]",
      "text/plain": [
       "<Figure size 432x288 with 2 Axes>"
      ]
     },
     "metadata": {},
     "output_type": "display_data"
    },
    {
     "data": {
      "image/png": "[encoded data removed]",
      "text/plain": [
       "<Figure size 432x288 with 2 Axes>"
      ]
     },
     "metadata": {},
     "output_type": "display_data"
    }
   ],
   "source": [
    "all_mse = []\n",
    "all_res_true = {} #dictionary of all the target arrays\n",
    "\n",
    "##########################################################################\n",
    "def plot_heat_cv(data, num_i = 0):\n",
    "    \"\"\"\n",
    "    data is on the order of mm/s\n",
    "    \"\"\"\n",
    "    %matplotlib inline\n",
    "    sns.heatmap(hf.p2matrix(data,10)/1000, vmax = 10, vmin = 0.5, cmap = \"viridis\")\n",
    "    plt.xlabel(\"Node\", fontsize = 'large')\n",
    "    plt.ylabel(\"Node\", fontsize = 'large')\n",
    "    #plt.savefig(JOB[num_i]+\"est_cv.png\", facecolor = \"None\")\n",
    "    plt.show()\n",
    "###########################################################################\n",
    "\n",
    "for i in range(NUM_JOBS):\n",
    "    \n",
    "    # visual dividers\n",
    "    if i in range(0,3):\n",
    "        print(\"--------------------------CORR------------------------------------\")\n",
    "    if i in range(3,6):\n",
    "        print(\"--------------------------PLI-------------------------------------\")\n",
    "    elif i in range(6,9):\n",
    "        print(\"------------------------PLI+CORR----------------------------------\")\n",
    "        \n",
    "    exec(open(load_files[JOB[i]]).read()) #loading variables into the environment\n",
    "    all_res_true[JOB[i]] = c_mat\n",
    "    if i == 1:\n",
    "        master_tract = tract_mat\n",
    "    \n",
    "    # Calculate MSE between true and target for each\n",
    "    thing = np.triu(np.reciprocal(all_res_true[JOB[i]], where = all_res_true[JOB[i]] >0),1).ravel()\n",
    "    true_cv_vec = thing[thing != 0]\n",
    "    err = hf.mse(true_cv_vec/1000,all_res[JOB[i]]/1000)\n",
    "    all_mse.append(err)\n",
    "    print(JOB[i], \" true vs est: mse = \", err)\n",
    "    #if you want to white-out the diagonals:\n",
    "    #sns.heatmap(hf.p2matrix(thing[thing != 0],10)/1000, mask = hf.p2matrix(thing[thing != 0],10)/1000 ==0, \n",
    "    #            vmax = 10, vmin = 0.5, cmap = \"viridis\")\n",
    "    plot_heat_cv(true_cv_vec,i)\n",
    "    plot_heat_cv(all_res[JOB[i]],i)"
   ]
  },
  {
   "cell_type": "code",
   "execution_count": null,
   "metadata": {},
   "outputs": [],
   "source": [
    "all_mse"
   ]
  },
  {
   "cell_type": "code",
   "execution_count": null,
   "metadata": {},
   "outputs": [],
   "source": [
    "#save all matrices of all res\n",
    "# for i in range(len(JOB)):\n",
    "#     np.save(JOB[i],hf.p2matrix(all_res[JOB[i]],10)/1000)"
   ]
  },
  {
   "cell_type": "markdown",
   "metadata": {
    "nbpresent": {
     "id": "a5c57588-181c-4686-8dfe-764df53298fc"
    }
   },
   "source": [
    "# Target Data - Plot of MEG time series and Correlation Matrix"
   ]
  },
  {
   "cell_type": "code",
   "execution_count": null,
   "metadata": {
    "scrolled": true
   },
   "outputs": [],
   "source": [
    "for i in range(NUM_JOBS):\n",
    "    exec(open(load_files[JOB[i]]).read())\n",
    "    print(JOB[i])\n",
    "    \n",
    "    plt.figure(3, figsize=(15,6))\n",
    "    for sing_node in range(nodes):\n",
    "        plt.plot(ue_array[sing_node], '-k', linewidth=0.2)\n",
    "    avg = np.mean(ue_array, axis= 0 )\n",
    "    plt.plot(avg, '-k', linewidth = 0.8)\n",
    "    plt.xlabel(\"Time (ms)\", fontsize = \"xx-large\")\n",
    "    plt.ylabel(\"$u_e$\", fontsize = \"xx-large\")\n",
    "    plt.xticks(fontsize = 20)\n",
    "    plt.yticks(fontsize = 20)\n",
    "    plt.show()\n"
   ]
  },
  {
   "cell_type": "markdown",
   "metadata": {},
   "source": [
    "# Histograms of all the estimated CV estimates"
   ]
  },
  {
   "cell_type": "markdown",
   "metadata": {},
   "source": [
    "- mean and std of distribution for each network estimation (the #'s that show on top of the plots):\n",
    "- gr_means = []\n",
    "- gr_std = []"
   ]
  },
  {
   "cell_type": "code",
   "execution_count": null,
   "metadata": {
    "scrolled": true
   },
   "outputs": [],
   "source": [
    "#Estimates\n",
    "\n",
    "gr_means = []\n",
    "gr_std = []\n",
    "for cv in range(NUM_JOBS):\n",
    "    \n",
    "    # visual dividers\n",
    "    if cv in range(0,3):\n",
    "        print(\"--------------------------CORR------------------------------------\")\n",
    "    if cv in range(3,6):\n",
    "        print(\"--------------------------PLI-----------------------------------------\")\n",
    "    elif cv in range(6,9):\n",
    "        print(\"--------------------------PLI+CORR------------------------------------\")\n",
    "        \n",
    "    print(JOB[cv], \"cv estimate distribution\")\n",
    "    # the histogram of the data\n",
    "    n, bins, patches = plt.hist(all_res[JOB[cv]]/1000, density=True, facecolor='blue', alpha=0.5, range = (0.5,10))\n",
    "    \n",
    "    mu = np.average(all_res[JOB[cv]]/1000)\n",
    "    sigma = np.std(all_res[JOB[cv]]/1000)\n",
    "    \n",
    "    gr_means.append(mu)\n",
    "    gr_std.append(sigma)\n",
    "    # add a 'best fit' line\n",
    "    y = mlab.normpdf(bins, mu, sigma)\n",
    "    plt.plot(bins, y, 'r--')\n",
    "    plt.xlabel(\"Conduction Velocity (m/s)\", fontsize = 'x-large')\n",
    "    plt.xticks(fontsize = 13)\n",
    "    plt.yticks(fontsize = 13)\n",
    "    plt.ylabel('Normalized Count', fontsize = 'x-large')\n",
    "    plt.title(r'$\\mu={:.2f}$, $\\sigma={:.2f}$'.format(mu, sigma))\n",
    "\n",
    "    # Tweak spacing to prevent clipping of ylabel\n",
    "    plt.subplots_adjust(left=0.15)\n",
    "    plt.show()\n",
    "    \n",
    "    print(JOB[cv], \"signal delay estimate distribution\")\n",
    "    trac = np.triu(master_tract,1).ravel()\n",
    "    trac= trac[trac > 0]\n",
    "    # the histogram of the data\n",
    "    n, bins, patches = plt.hist((trac/all_res[JOB[cv]])*1000, density=True, facecolor='blue', alpha=0.5, range = (0,100))\n",
    "    \n",
    "    mu = np.average((trac/all_res[JOB[cv]])*1000)\n",
    "    sigma = np.std((trac/all_res[JOB[cv]])*1000)\n",
    "    # add a 'best fit' line\n",
    "    y = mlab.normpdf(bins, mu, sigma)\n",
    "    plt.plot(bins, y, 'r--')\n",
    "    plt.xlabel(\"Signal Delays (ms)\", fontsize = 'x-large')\n",
    "    plt.xticks(fontsize = 13)\n",
    "    plt.yticks(fontsize = 13)\n",
    "    plt.ylabel('Normalized Count', fontsize = 'x-large')\n",
    "    plt.title(r'$\\mu={:.2f}$, $\\sigma={:.2f}$'.format(mu, sigma))\n",
    "\n",
    "    # Tweak spacing to prevent clipping of ylabel\n",
    "    plt.subplots_adjust(left=0.15)\n",
    "    plt.show()\n"
   ]
  },
  {
   "cell_type": "markdown",
   "metadata": {},
   "source": [
    "# Target CV and Signal Delays"
   ]
  },
  {
   "cell_type": "code",
   "execution_count": null,
   "metadata": {
    "scrolled": true
   },
   "outputs": [],
   "source": [
    "for cv in range(NUM_JOBS):    \n",
    "    # visual dividers\n",
    "    if cv in range(0,3):\n",
    "        print(\"--------------------------CORR------------------------------------\")\n",
    "    if cv in range(3,6):\n",
    "        print(\"--------------------------PLI-----------------------------------------\")\n",
    "    elif cv in range(6,9):\n",
    "        print(\"--------------------------PLI+CORR------------------------------------\")\n",
    "        \n",
    "    # the histogram of the data\n",
    "    print(JOB[cv], \"cv true distribution\")\n",
    "    vec= np.reciprocal(all_res_true[JOB[cv]], where = all_res_true[JOB[0]] > 0 )/1000\n",
    "    vec = np.triu(vec,1).ravel()\n",
    "    vec = vec[vec != 0]\n",
    "    if vec.shape[0] ==45:\n",
    "        n, bins, patches = plt.hist(vec, density=True, facecolor='blue', alpha=0.5, range = (0.5,10))\n",
    "\n",
    "        mu = np.average(vec)\n",
    "        sigma = np.std(vec)\n",
    "        # add a 'best fit' line\n",
    "        y = mlab.normpdf(bins, mu, sigma)\n",
    "        plt.plot(bins, y, 'r--')\n",
    "        plt.xlabel(\"Conduction Velocity (m/s)\", fontsize = 'x-large')\n",
    "        plt.xticks(fontsize = 13)\n",
    "        plt.yticks(fontsize = 13)\n",
    "        plt.ylabel('Normalized Count', fontsize = 'x-large')\n",
    "        plt.title(r'$\\mu={:.2f}$, $\\sigma={:.2f}$'.format(mu, sigma))\n",
    "\n",
    "        # Tweak spacing to prevent clipping of ylabel\n",
    "        plt.subplots_adjust(left=0.15)\n",
    "        plt.show()\n",
    "        \n",
    "\n",
    "    # the histogram of the data\n",
    "    print(JOB[cv], \"signal delay true distribution\")\n",
    "    vec= np.reciprocal(all_res_true[JOB[cv]], where = all_res_true[JOB[0]] > 0 )/1000\n",
    "    vec = np.triu(vec,1).ravel()\n",
    "    vec = vec[vec != 0]\n",
    "    trac = np.triu(tract_mat,1).ravel()\n",
    "    trac= trac[trac > 0]\n",
    "    if vec.shape[0] ==45:\n",
    "        n, bins, patches = plt.hist(trac/vec, density=True, facecolor='blue', alpha=0.5, range = (0,100))\n",
    "\n",
    "        mu = np.average(trac/vec)\n",
    "        sigma = np.std(trac/vec)\n",
    "        # add a 'best fit' line\n",
    "        y = mlab.normpdf(bins, mu, sigma)\n",
    "        plt.plot(bins, y, 'r--')\n",
    "        plt.xlabel(\"Signal Delays (ms)\", fontsize = 'x-large')\n",
    "        plt.xticks(fontsize = 13)\n",
    "        plt.yticks(fontsize = 13)\n",
    "        plt.ylabel('Normalized Count', fontsize = 'x-large')\n",
    "        plt.title(r'$\\mu={:.2f}$, $\\sigma={:.2f}$'.format(mu, sigma))\n",
    "\n",
    "        # Tweak spacing to prevent clipping of ylabel\n",
    "        plt.subplots_adjust(left=0.15)\n",
    "        plt.show()"
   ]
  },
  {
   "cell_type": "markdown",
   "metadata": {
    "nbpresent": {
     "id": "1844963f-f7a6-40a2-a212-7bbdf56ae6d9"
    }
   },
   "source": [
    "# Looking at solution matrices + time series"
   ]
  },
  {
   "cell_type": "markdown",
   "metadata": {},
   "source": [
    "# 1 : CORRELATION\n"
   ]
  },
  {
   "cell_type": "code",
   "execution_count": null,
   "metadata": {
    "scrolled": true
   },
   "outputs": [],
   "source": [
    "for i in range(0,3):\n",
    "    exec(open(load_files[JOB[i]]).read()) #loading variables into the environment\n",
    "    print(JOB[i])\n",
    "    cmat_old_, ue_array_, res_, vmax_ , vmin_ = hf.residuals_cw_corr(all_res[JOB[i]], wc_params, nodes, targ_data, w_mat,\n",
    "                                            skip, wc_seed, evol_params['optim'], tract_mat, \n",
    "                                            heavyside= evol_params['heavi'],plot =\"cw\")\n",
    "    \n",
    "    #plot the correlation matrix\n",
    "    import seaborn as sns\n",
    "    skip = 200\n",
    "    exp_data = hf.plot_cor_mat(ue_array_, nodes, skip)\n",
    "    np.fill_diagonal(exp_data, 0)\n",
    "    plt.figure()\n",
    "    sns.heatmap(exp_data, cmap =\"viridis\", vmax = 1, vmin =-1)\n",
    "    plt.xlabel(\"Node\", fontsize = 'large')\n",
    "    plt.ylabel(\"Node\", fontsize = 'large')\n",
    "#     plt.savefig(JOB[i]+\"corr.png\", facecolor = \"None\")\n",
    "    plt.show()\n",
    "    \n",
    "    \n",
    "    #plot the true correlation matrix\n",
    "    import seaborn as sns\n",
    "    skip = 200\n",
    "    plt.figure()\n",
    "    sns.heatmap(targ_data, cmap =\"viridis\", vmax = 1, vmin =-1)\n",
    "    plt.xlabel(\"Node\", fontsize = 'large')\n",
    "    plt.ylabel(\"Node\", fontsize = 'large')\n",
    "#     plt.savefig(JOB[i]+\"corr_true.png\", facecolor = \"None\")\n",
    "    plt.show()\n",
    "    print(\"MSE\", res_)\n",
    "\n",
    "    #experimental time series\n",
    "    plt.figure(3, figsize=(15,6))\n",
    "    for sing_node in range(nodes):\n",
    "        plt.plot(ue_array_[sing_node], '-k', linewidth=0.2)\n",
    "    avg = np.mean(ue_array_, axis= 0 )\n",
    "    plt.plot(avg, '-k', linewidth = 0.8)\n",
    "    plt.xlabel(\"Time (ms)\", fontsize = \"xx-large\")\n",
    "    plt.ylabel(\"$u_e$\", fontsize = \"xx-large\")\n",
    "    plt.xticks(fontsize = 20)\n",
    "    plt.yticks(fontsize = 20)\n",
    "#     plt.savefig(JOB[i]+\"ts.png\", facecolor = \"None\")\n",
    "    plt.show()\n",
    "    "
   ]
  },
  {
   "cell_type": "markdown",
   "metadata": {},
   "source": [
    "# 2 : PLI"
   ]
  },
  {
   "cell_type": "code",
   "execution_count": null,
   "metadata": {
    "scrolled": true
   },
   "outputs": [],
   "source": [
    "for i in range(3,6):\n",
    "    exec(open(load_files[JOB[i]]).read()) #loading variables into the environment\n",
    "    print(JOB[i])\n",
    "    cmat_old_, ue_array_, res_, exp_pli = hf.residuals_pli(all_res[JOB[i]], wc_params, fs, nodes, targ_data, w_mat, chunk,\n",
    "                                            skip, wc_seed, evol_params['optim'], tract_mat, \n",
    "                                            evol_params['heavi'], fmin, fmax, plot = True)\n",
    "    \n",
    "    #plot the pli matrix\n",
    "    import seaborn as sns\n",
    "    skip = 200\n",
    "    exp_data = exp_pli\n",
    "    for row in range(1,nodes):\n",
    "        for col in range(0, row):\n",
    "            exp_data[col,row] = exp_data[row,col]\n",
    "    \n",
    "    plt.figure()\n",
    "    sns.heatmap(exp_data, cmap =\"viridis\", vmax = 1, vmin =0)\n",
    "    plt.xlabel(\"Node\", fontsize = 'large')\n",
    "    plt.ylabel(\"Node\", fontsize = 'large')\n",
    "#     plt.savefig(JOB[i]+\"pli.png\", facecolor = \"None\")\n",
    "    plt.show()\n",
    "    print(exp_data)\n",
    "    \n",
    "    #plot the true pli matrix\n",
    "    import seaborn as sns\n",
    "    skip = 200\n",
    "    \n",
    "    exp_data = targ_data\n",
    "    for row in range(1,nodes):\n",
    "        for col in range(0, row):\n",
    "            exp_data[col,row] = exp_data[row,col]\n",
    "\n",
    "            \n",
    "    plt.figure()\n",
    "    sns.heatmap(exp_data, cmap =\"viridis\", vmax = 1, vmin =0)\n",
    "    plt.xlabel(\"Node\", fontsize = 'large')\n",
    "    plt.ylabel(\"Node\", fontsize = 'large')\n",
    "#     plt.savefig(JOB[i]+\"pli_true.png\", facecolor = \"None\")\n",
    "    plt.show()\n",
    "    print(\"MSE\", res_)\n",
    "\n",
    "\n",
    "    #experimental time series\n",
    "    plt.figure(3, figsize=(15,6))\n",
    "    for sing_node in range(nodes):\n",
    "        plt.plot(ue_array_[sing_node], '-k', linewidth=0.2)\n",
    "    avg = np.mean(ue_array_, axis= 0 )\n",
    "    plt.plot(avg, '-k', linewidth = 0.8)\n",
    "    plt.xlabel(\"Time (ms)\", fontsize = \"xx-large\")\n",
    "    plt.ylabel(\"$u_e$\", fontsize = \"xx-large\")\n",
    "    plt.xticks(fontsize = 20)\n",
    "    plt.yticks(fontsize = 20)\n",
    "#     plt.savefig(JOB[i]+\"ts.png\", facecolor = \"None\")\n",
    "    plt.show()"
   ]
  },
  {
   "cell_type": "markdown",
   "metadata": {},
   "source": [
    "# 3 : CORRELATION + PLI"
   ]
  },
  {
   "cell_type": "code",
   "execution_count": null,
   "metadata": {
    "scrolled": true
   },
   "outputs": [],
   "source": [
    "for i in range(6,9):\n",
    "    exec(open(load_files[JOB[i]]).read()) #loading variables into the environment\n",
    "    print(JOB[i])\n",
    "    cmat_old_, ue_array_, res_, exp_data_pli_, exp_data_corr_ = hf.residuals_pli_corr(all_res[JOB[i]], wc_params, fs, nodes,\n",
    "                                                                    targ_data_corr, targ_data_pli, w_mat, chunk, skip, wc_seed,\n",
    "                                                                     evol_params['optim'], tract_mat,\n",
    "                                                                     evol_params['heavi'], \n",
    "                                                                     fmin, fmax, plot = True)\n",
    "    \n",
    "    #plot the correlation matrix\n",
    "    import seaborn as sns\n",
    "    skip = 200\n",
    "    exp_data = hf.plot_cor_mat(ue_array_, nodes, skip)\n",
    "    np.fill_diagonal(exp_data_corr_, 0)\n",
    "    plt.figure()\n",
    "    sns.heatmap(exp_data_corr_, cmap =\"viridis\", vmax = 1, vmin =-1)\n",
    "    plt.xlabel(\"Node\", fontsize = 'large')\n",
    "    plt.ylabel(\"Node\", fontsize = 'large')\n",
    "#     plt.savefig(JOB[i]+\"corr.png\", facecolor = \"None\")\n",
    "\n",
    "    plt.show()\n",
    "    \n",
    "    #plot the pli matrix\n",
    "    import seaborn as sns\n",
    "    skip = 200\n",
    "    \n",
    "    exp_data = exp_data_pli_\n",
    "    for row in range(1,nodes):\n",
    "        for col in range(0, row):\n",
    "            exp_data[col,row] = exp_data[row,col]\n",
    "            \n",
    "    plt.figure()\n",
    "    sns.heatmap(exp_data, cmap =\"viridis\", vmax = 1, vmin =0)\n",
    "    plt.xlabel(\"Node\", fontsize = 'large')\n",
    "    plt.ylabel(\"Node\", fontsize = 'large')\n",
    "#     plt.savefig(JOB[i]+\"pli.png\", facecolor = \"None\")\n",
    "\n",
    "    plt.show()\n",
    "    print(\"MSE\", res_)\n",
    "\n",
    "    #experimental time series\n",
    "    plt.figure(3, figsize=(15,6))\n",
    "    for sing_node in range(nodes):\n",
    "        plt.plot(ue_array_[sing_node], '-k', linewidth=0.2)\n",
    "    avg = np.mean(ue_array, axis= 0 )\n",
    "    plt.plot(avg, '-k', linewidth = 0.8)\n",
    "    plt.xlabel(\"Time (ms)\", fontsize = \"xx-large\")\n",
    "    plt.ylabel(\"$u_e$\", fontsize = \"xx-large\")\n",
    "    plt.xticks(fontsize = 20)\n",
    "    plt.yticks(fontsize = 20)\n",
    "#     plt.savefig(JOB[i]+\"ts.png\", facecolor = \"None\")\n",
    "\n",
    "    plt.show()"
   ]
  },
  {
   "cell_type": "markdown",
   "metadata": {},
   "source": [
    "#  break"
   ]
  },
  {
   "cell_type": "raw",
   "metadata": {
    "scrolled": false
   },
   "source": [
    "# plt.figure(figsize=(15.0,15.0))\n",
    "import matplotlib.mlab as mlab\n",
    "import scipy.stats as ss\n",
    "\n",
    "pl_rows = 3 \n",
    "pl_col = 3 \n",
    "range_st = 500 \n",
    "range_en= 10000\n",
    "for i in range(3,6): \n",
    "    #plt.subplot(pl_rows, pl_col, i+1)\n",
    "\n",
    "\n",
    "    print(i+1, \"JOB #: \", JOB[i], \"min: {} max: {} avg: {}\".format(np.min(all_res[JOB[i]]), \n",
    "                                                                   np.max(all_res[JOB[i]]), np.average(all_res[JOB[i]])))\n",
    "#     bins=np.arange(range_st, range_en, 100)\n",
    "    \n",
    "    true = np.triu(np.reciprocal(all_res_true[JOB[i]]),1).ravel()\n",
    "    est = all_res[JOB[i]]\n",
    "    \n",
    "    mu_true = np.average(true[true != 0])\n",
    "    sigma_true = np.std(true[true != 0])\n",
    "    \n",
    "    mu_est = np.average(est)\n",
    "    sigma_est = np.std(est)\n",
    "    \n",
    "    plt.style.use('seaborn-deep')\n",
    "#     n, bins, patches  = plt.hist([true, est], range = (range_st,range_en), label=['True', 'Estimate'])\n",
    "#     y_true = ss.norm.pdf(bins[0], mu_true, sigma_true)\n",
    "#     plt.plot(bins, y_true, 'b--')\n",
    "    \n",
    "#     y_est = mlab.normpdf(bins[1], mu_est, sigma_est)\n",
    "#     plt.plot(bins, y_est, 'g--')\n",
    "\n",
    "    n, bins, patches= plt.hist(true[true != 0], range = (range_st,range_en), label='True', alpha = 0.6, normed = 1)\n",
    "    y_true = ss.norm.pdf(bins, mu_true, sigma_true)\n",
    "    print(mu_true, mu_est, \"HERE\")\n",
    "    \n",
    "    plt.plot(bins, y_true, 'b--')\n",
    "    \n",
    "    \n",
    "#     plt.hist(est, range = (range_st,range_en), label='Estimate', alpha = 0.5, bins = bins)\n",
    "    \n",
    "    plt.tight_layout()\n",
    "\n",
    "    \n",
    "\n",
    "    plt.legend(loc='upper right')\n",
    "    #plt.hist([true, est], range = (500, 10000), facecolor ='g')\n",
    "#     mu = np.average(all_res[JOB[i]])\n",
    "#     plt.text(60, .025, r'$\\mu=\\$')\n",
    "    \n",
    "    #plt.hist(np.reciprocal(all_res_true[JOB[i]]), range = (500, 10000), facecolor = 'b')\n",
    "    #plt.text(np.average(np.reciprocal(all_res_true[JOB[i]]), r'$\\mu=100$')\n",
    "    \n",
    "    plt.xlabel(\"Conduction Velocity\", fontsize = 'x-large')\n",
    "    plt.xticks(fontsize = 13)\n",
    "    plt.show()\n",
    "    #row major counting\n"
   ]
  },
  {
   "cell_type": "code",
   "execution_count": null,
   "metadata": {},
   "outputs": [],
   "source": [
    "true[true!=0]"
   ]
  },
  {
   "cell_type": "code",
   "execution_count": null,
   "metadata": {},
   "outputs": [],
   "source": [
    "thing  = np.triu(np.reciprocal(all_res_true[JOB[0]]),1).ravel()\n",
    "thing.shape"
   ]
  },
  {
   "cell_type": "code",
   "execution_count": null,
   "metadata": {},
   "outputs": [],
   "source": [
    "hf.p2matrix(all_res[JOB[i]], 10).shape"
   ]
  },
  {
   "cell_type": "code",
   "execution_count": null,
   "metadata": {},
   "outputs": [],
   "source": [
    "left  = 0.125  # the left side of the subplots of the figure\n",
    "right = 0.9    # the right side of the subplots of the figure\n",
    "bottom = 0.1   # the bottom of the subplots of the figure\n",
    "\n",
    "top = 0.9      # the top of the subplots of the figure\n",
    "wspace = 0.2   # the amount of width reserved for blank space between subplots\n",
    "hspace = 0.2   # the amount of height reserved for white space between subplots"
   ]
  },
  {
   "cell_type": "code",
   "execution_count": null,
   "metadata": {
    "scrolled": false
   },
   "outputs": [],
   "source": [
    "# ALL THE RESULTS AT ONCE\n",
    "\n",
    "for i in range(1, 4):\n",
    "    exec(open(load_files[JOB[i]]).read()) #loading variables into the environment\n",
    "    print(JOB[i])\n",
    "    final_res = hf.residuals_cw_corr(all_res[JOB[i]], wc_params, nodes, targ_data, MAT,\n",
    "                                            skip, wc_seed, evol_params['optim'], tract_mat, heavyside= evol_params['heavi'],\n",
    "                                     plot =\"cw\", vmax_= 10, vmin_=0.5)\n",
    "\n",
    "\"\"\"  \n",
    "    ind = 0\n",
    "    mat = np.ones((nodes, nodes))\n",
    "    c = np.reciprocal(all_res[JOB[i]])\n",
    "    for row in range(0,nodes):\n",
    "        \n",
    "        for col in range(row+1, nodes):\n",
    "            mat[row,col] =c[ind]\n",
    "            mat[col,row] = c[ind]\n",
    "            ind += 1\n",
    "    np.fill_diagonal(mat,0)\n",
    "    #mat[0:5,5:10] =0\n",
    "    #mat[5:10,0:5] =0\n",
    "    plt.figure()\n",
    "    plt.hist(mat, range=(3000,7000))\n",
    "    plt.show()\n",
    "    print(\"JOB #: {}, max: {} min: {}\".format(JOB[i],np.max(c), np.min(c)))\n",
    "    plt.figure()\n",
    "    sns.heatmap(mat, cmap = \"viridis\", vmax =7000, vmin = 3000)\"\"\""
   ]
  },
  {
   "cell_type": "code",
   "execution_count": null,
   "metadata": {
    "scrolled": false
   },
   "outputs": [],
   "source": [
    "# ALL THE RESULTS AT ONCE\n",
    "\n",
    "for i in range(4, NUM_JOBS):\n",
    "    exec(open(load_files[JOB[i]]).read()) #loading variables into the environment\n",
    "    print(JOB[i])\n",
    "    final_res = hf.residuals_cw_corr(all_res[JOB[i]], wc_params, nodes, targ_data, MAT,\n",
    "                                            skip, wc_seed, evol_params['optim'], tract_mat, heavyside= evol_params['heavi'],\n",
    "                                     plot =\"cw\", vmax_= 5, vmin_=0.5)\n",
    "\n",
    "\"\"\"  \n",
    "    ind = 0\n",
    "    mat = np.ones((nodes, nodes))\n",
    "    c = np.reciprocal(all_res[JOB[i]])\n",
    "    for row in range(0,nodes):\n",
    "        \n",
    "        for col in range(row+1, nodes):\n",
    "            mat[row,col] =c[ind]\n",
    "            mat[col,row] = c[ind]\n",
    "            ind += 1\n",
    "    np.fill_diagonal(mat,0)\n",
    "    #mat[0:5,5:10] =0\n",
    "    #mat[5:10,0:5] =0\n",
    "    plt.figure()\n",
    "    plt.hist(mat, range=(3000,7000))\n",
    "    plt.show()\n",
    "    print(\"JOB #: {}, max: {} min: {}\".format(JOB[i],np.max(c), np.min(c)))\n",
    "    plt.figure()\n",
    "    sns.heatmap(mat, cmap = \"viridis\", vmax =7000, vmin = 3000)\"\"\""
   ]
  },
  {
   "cell_type": "code",
   "execution_count": null,
   "metadata": {},
   "outputs": [],
   "source": [
    "final_res"
   ]
  },
  {
   "cell_type": "code",
   "execution_count": null,
   "metadata": {
    "scrolled": true
   },
   "outputs": [],
   "source": [
    "sns.heatmap(tract_mat)"
   ]
  },
  {
   "cell_type": "code",
   "execution_count": null,
   "metadata": {},
   "outputs": [],
   "source": []
  },
  {
   "cell_type": "code",
   "execution_count": null,
   "metadata": {},
   "outputs": [],
   "source": [
    "sns.heatmap(targ_data, cmap=\"viridis\", vmin = -1)"
   ]
  },
  {
   "cell_type": "code",
   "execution_count": null,
   "metadata": {},
   "outputs": [],
   "source": [
    "c_mat\n"
   ]
  },
  {
   "cell_type": "code",
   "execution_count": null,
   "metadata": {},
   "outputs": [],
   "source": [
    "tract_p = np.array(hf.matrix2p(tract_mat))"
   ]
  },
  {
   "cell_type": "code",
   "execution_count": null,
   "metadata": {},
   "outputs": [],
   "source": [
    "all_res[JOB[i]].shape"
   ]
  },
  {
   "cell_type": "code",
   "execution_count": null,
   "metadata": {},
   "outputs": [],
   "source": [
    "tract_p.shape"
   ]
  },
  {
   "cell_type": "code",
   "execution_count": null,
   "metadata": {},
   "outputs": [],
   "source": [
    "where = tract_p==0\n",
    "c = all_res[JOB[i]][where]"
   ]
  },
  {
   "cell_type": "code",
   "execution_count": null,
   "metadata": {},
   "outputs": [],
   "source": [
    "c.shape"
   ]
  },
  {
   "cell_type": "code",
   "execution_count": null,
   "metadata": {},
   "outputs": [],
   "source": [
    "where"
   ]
  },
  {
   "cell_type": "code",
   "execution_count": null,
   "metadata": {},
   "outputs": [],
   "source": [
    "plt.hist(c)\n",
    "plt.show()"
   ]
  },
  {
   "cell_type": "code",
   "execution_count": null,
   "metadata": {},
   "outputs": [],
   "source": [
    "np.mean(c)"
   ]
  },
  {
   "cell_type": "code",
   "execution_count": null,
   "metadata": {},
   "outputs": [],
   "source": [
    "np.mean(all_res[JOB[i]])"
   ]
  },
  {
   "cell_type": "code",
   "execution_count": null,
   "metadata": {},
   "outputs": [],
   "source": []
  }
 ],
 "metadata": {
  "kernelspec": {
   "display_name": "Python 3",
   "language": "python",
   "name": "python3"
  },
  "language_info": {
   "codemirror_mode": {
    "name": "ipython",
    "version": 3
   },
   "file_extension": ".py",
   "mimetype": "text/x-python",
   "name": "python",
   "nbconvert_exporter": "python",
   "pygments_lexer": "ipython3",
   "version": "3.6.4"
  }
 },
 "nbformat": 4,
 "nbformat_minor": 2
}
