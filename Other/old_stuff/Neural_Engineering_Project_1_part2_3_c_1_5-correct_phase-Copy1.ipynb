{
 "cells": [
  {
   "cell_type": "code",
   "execution_count": 1,
   "metadata": {
    "collapsed": false
   },
   "outputs": [],
   "source": [
    "import numpy as np\n",
    "from scipy.integrate import odeint\n",
    "import matplotlib.pyplot as plt\n",
    "from scipy.signal import argrelextrema\n",
    "import pandas as pd\n",
    "from scipy.signal import hilbert, chirp"
   ]
  },
  {
   "cell_type": "code",
   "execution_count": 2,
   "metadata": {
    "collapsed": true
   },
   "outputs": [],
   "source": [
    "import measures as nolds"
   ]
  },
  {
   "cell_type": "code",
   "execution_count": 3,
   "metadata": {
    "collapsed": true
   },
   "outputs": [],
   "source": [
    "def var(u_e):\n",
    "    return np.var(u_e)\n",
    "\n",
    "def freq(u_e):\n",
    "    ind = argrelextrema(np.array(u_e), np.greater)\n",
    "#     print(ind)\n",
    "    diffs = np.diff(argrelextrema(np.array(u_e), np.greater))\n",
    "#     print(diffs)\n",
    "    n = int(len(diffs)/2)\n",
    "    sub_ind = diffs[n-1:n+1]\n",
    "    abso = np.absolute(sub_ind)\n",
    "#   print(mean(abso), \"here\")\n",
    "    #print(1/(0.01*mean(abso)))\n",
    "    freq = 1/np.mean(abso)\n",
    "    return 1/(0.01*np.mean(abso))\n",
    "#TIME STEP IS SIZE 0.01\n",
    "\n",
    "#print(freq(G[:,0]),freq(G[:,1]))"
   ]
  },
  {
   "cell_type": "code",
   "execution_count": 4,
   "metadata": {
    "collapsed": false
   },
   "outputs": [
    {
     "name": "stderr",
     "output_type": "stream",
     "text": [
      "/scinet/gpc/Applications/anaconda3/4.2.0_hub/lib/python3.5/site-packages/numpy/core/_methods.py:59: RuntimeWarning: Mean of empty slice.\n",
      "  warnings.warn(\"Mean of empty slice.\", RuntimeWarning)\n"
     ]
    }
   ],
   "source": [
    "#FINAL ONE\n",
    "#param\n",
    "freq_x = []\n",
    "freq_y = []\n",
    "var_x =[]\n",
    "z_list = list(np.arange(-3,0,0.1))\n",
    "for z in z_list:\n",
    "    #print(z)\n",
    "    alpha = 3\n",
    "    a = 0.7\n",
    "    b = 0.8\n",
    "    omega_sq = 1\n",
    "    #model -> G[x,y]\n",
    "\n",
    "    def model(G,t):\n",
    "        return np.array([ alpha*(G[1] + G[0] - ((G[0]**3)/3) + z), -(1/alpha)*(G[0] - a + (b*G[1]) )])\n",
    "\n",
    "    t = np.linspace(0, 100,  10000)              # time step\n",
    "    G0 = np.array([0, 0])                     # initials conditions\n",
    "    G = odeint(model, G0, t)\n",
    "\n",
    "#     plt.show()\n",
    "    freq_x.append(freq(G[:,0]))\n",
    "    var_x.append(var(G[5000:,0]))\n",
    "    freq_y.append(freq(G[:,1]))\n",
    "\n"
   ]
  },
  {
   "cell_type": "code",
   "execution_count": 5,
   "metadata": {
    "collapsed": true
   },
   "outputs": [],
   "source": [
    "#fixing the frequencies\n",
    "\n",
    "freq_new = []\n",
    "\n",
    "for i in range(len(z_list)):\n",
    "    if var_x[i] < 0.1:\n",
    "        freq_new.append(0)\n",
    "    else:\n",
    "        freq_new.append(freq_x[i])\n"
   ]
  },
  {
   "cell_type": "code",
   "execution_count": 6,
   "metadata": {
    "collapsed": false
   },
   "outputs": [
    {
     "data": {
      "image/png": "[encoded data removed]",
      "text/plain": [
       "<matplotlib.figure.Figure at 0x2b6f2123db38>"
      ]
     },
     "metadata": {},
     "output_type": "display_data"
    }
   ],
   "source": [
    "# #FINAL PLOT\n",
    "plt.plot(z_list, freq_new)\n",
    "plt.xlabel(\"z\")\n",
    "plt.ylabel(\"Intrinsic Frequency\")\n",
    "plt.show()\n",
    "# freq_new"
   ]
  },
  {
   "cell_type": "code",
   "execution_count": 7,
   "metadata": {
    "collapsed": true
   },
   "outputs": [],
   "source": [
    "#GETTING THE VALUES FOR K1 AND K2\n",
    "table = [z_list, freq_new]\n",
    "\n",
    "\n",
    "k1_col = []\n",
    "k1freq = []\n",
    "k2_col = []\n",
    "k2freq = []\n",
    "perc_diff = []\n",
    "\n",
    "k_freq = np.transpose(table)[16:-2]\n",
    "k_freq\n",
    "num_k_vals = np.shape(k_freq)[0] #num of rows\n",
    "\n",
    "#k_freq is a 12x2 array with k values in first column and the corresponding freq in second, it contains the subset of k that \n",
    "#actually result in oscillations\n",
    "\n",
    "for i in range(num_k_vals):\n",
    "    for j in range(i,num_k_vals):\n",
    "        #appending the k1 value from the ith row in the first column of k_freq\n",
    "        k1_col.append(k_freq[:,0][i])\n",
    "        #appending the k1 frequency from the ith row in the second column of k_freq\n",
    "        k1freq.append(k_freq[:,1][i])\n",
    "        k2_col.append(k_freq[:,0][j])\n",
    "        k2freq.append(k_freq[:,1][j])\n",
    "        \n",
    "        #calculating the percent difference in frequencies\n",
    "        perc = (1- (min(k_freq[j,1],k_freq[i,1])/max(k_freq[j,1],k_freq[i,1])))*100\n",
    "        perc_diff.append(perc)"
   ]
  },
  {
   "cell_type": "code",
   "execution_count": 10,
   "metadata": {
    "collapsed": false
   },
   "outputs": [],
   "source": [
    "#converting to dataframe to see what data looks like\n",
    "d = {'k1': k1_col, 'freq1': k1freq, 'k2': k2_col, 'freq2': k2freq, 'perc_diff': perc_diff}\n",
    "df = pd.DataFrame(data=d)\n",
    "#df"
   ]
  },
  {
   "cell_type": "code",
   "execution_count": 11,
   "metadata": {
    "collapsed": true
   },
   "outputs": [],
   "source": [
    "#FINAL PERCENT DIFFERENCE COLUMN\n",
    "df_sorted = df.sort_values('perc_diff')\n",
    "df_single = df_sorted.drop_duplicates('perc_diff')\n",
    "df_final= df_single.drop(77)\n",
    "#df_final"
   ]
  },
  {
   "cell_type": "code",
   "execution_count": 12,
   "metadata": {
    "collapsed": false
   },
   "outputs": [
    {
     "name": "stdout",
     "output_type": "stream",
     "text": [
      "[  2.57574038   5.7312253    6.56879554   7.99399914   8.56935367\n",
      "  10.92436975  11.50700862  13.70423981  15.02059904  16.03167258\n",
      "  18.04720037  19.54984832  20.70157849  21.54738033  22.74409995]\n",
      "(15, 5)\n"
     ]
    }
   ],
   "source": [
    "#fixing the perc diff values -- final_df_numpy\n",
    "df_numpy = df_final.values\n",
    "arr_perc_diff = df_numpy[:,4] #saving the 5th column (the percent differences)\n",
    "\n",
    "indices = [len(arr_perc_diff)-1] #saving a list of indices to remove rows from df_numpy becuase we don't want\n",
    "                                        #we don't want freq diff too close to one another\n",
    "                                        #the first element is the last index bc we dont want 100% diff (skews graph)\n",
    "first_diff = np.round(np.diff(arr_perc_diff))\n",
    "\n",
    "#going through first difference\n",
    "for i in range(len(first_diff)):\n",
    "    if first_diff[i] < 1:\n",
    "        indices.append(i)\n",
    "\n",
    "final_df_numpy = np.delete(df_numpy, indices, 0)\n",
    "#now final_df_numpy is same as df_numpy except a bunch of rows removed that we don't need\n",
    "print(final_df_numpy[:,4])\n",
    "print(np.shape(final_df_numpy))"
   ]
  },
  {
   "cell_type": "code",
   "execution_count": 13,
   "metadata": {
    "collapsed": true
   },
   "outputs": [],
   "source": [
    "#PART 2, PLOTTING COUPLED OSCI\n",
    "#The following code defines the \"right hand side\" of the system of equations (also known as a vector field). \n",
    "\n",
    "from scipy.integrate import odeint\n",
    "import matplotlib.pyplot as plt\n",
    "\n",
    "def vectorfield(w, t, p):\n",
    "    \"\"\"\n",
    "    Defines the differential equations for the coupled spring-mass system.\n",
    "\n",
    "    Arguments:\n",
    "        w :  vector of the state variables:\n",
    "                  w = [x1,y1,x2,y2]\n",
    "        t :  time\n",
    "        p :  vector of the parameters:\n",
    "                  p = [alpha, k1, k2, c, b,a]\n",
    "    \"\"\"\n",
    "    x1, y1, x2, y2 = w\n",
    "    alpha, k1, k2, c, b, a = p\n",
    "\n",
    "    # Create f = (x1',y1',x2',y2'):\n",
    "    f = [ alpha*(y1 + x1 - ((x1**3)/3) + k1+ c*x2),\n",
    "         -(1/alpha)*( x1- a + (b*y1)), \n",
    "         alpha*(y2 + x2 - ((x2**3)/3) + k2+ c*x1),\n",
    "        -(1/alpha)*( x2- a + (b*y2))]\n",
    "    \n",
    "    return f"
   ]
  },
  {
   "cell_type": "code",
   "execution_count": 14,
   "metadata": {
    "collapsed": false
   },
   "outputs": [
    {
     "name": "stderr",
     "output_type": "stream",
     "text": [
      "/scinet/gpc/Applications/anaconda3/4.2.0_hub/lib/python3.5/site-packages/numpy/core/_methods.py:59: RuntimeWarning: Mean of empty slice.\n",
      "  warnings.warn(\"Mean of empty slice.\", RuntimeWarning)\n"
     ]
    }
   ],
   "source": [
    "# Use ODEINT to solve the differential equations defined by the vector field\n",
    "solution_list = [] #from this we can get time series for everything\n",
    "\n",
    "freq_listx1 = []\n",
    "freq_listx2 = []\n",
    "\n",
    "var_listx1 = []\n",
    "var_listx2 = []\n",
    "\n",
    "x1ts_list = []\n",
    "x2ts_list = []\n",
    "\n",
    "c_list = np.linspace(0,5,50)\n",
    "\n",
    "# freq_listy2 = []\n",
    "# freq_listy1 = []\n",
    "# var_listy1 = []\n",
    "# var_listy2 = []\n",
    "\n",
    "#for each row in final_df_numpy set the k1 and k2\n",
    "for i in range(np.shape(final_df_numpy)[0]):\n",
    "    k1 = final_df_numpy[i,2]\n",
    "    k2 = final_df_numpy[i,3]\n",
    "    \n",
    "    for c in c_list:\n",
    "\n",
    "        # Parameter values\n",
    "        alpha = 3\n",
    "        a = 0.7\n",
    "        b = 0.8\n",
    "\n",
    "        # Initial conditions\n",
    "        x1 = 0.0\n",
    "        y1 = 0.0\n",
    "        x2 = 0.0\n",
    "        y2 = 0.0\n",
    "\n",
    "        # Pack up the parameters and initial conditions:\n",
    "        p = [alpha, k1, k2, c, b, a]\n",
    "        w0 = [x1, y1, x2, y2]\n",
    "        t = np.linspace(0, 100,  10000)              # time step\n",
    "\n",
    "        #Call the ODE solver.\n",
    "        wsol = odeint(vectorfield, w0, t, args=(p,))\n",
    "        \n",
    "        x1= wsol[:,0]\n",
    "        x2= wsol[:,2]\n",
    "        \n",
    "\n",
    "        solution_list.append(wsol)\n",
    "        \n",
    "        freq_listx1.append(freq(x1))\n",
    "        freq_listx2.append(freq(x2))\n",
    "        \n",
    "        var_listx2.append(var(x2))\n",
    "        var_listx1.append(var(x1))\n",
    "\n",
    "        x1ts_list.append(x1)\n",
    "        x2ts_list.append(x2)\n",
    "        \n",
    "\n",
    "#         y1= wsol[:,1]\n",
    "#         y2= wsol[:,3]\n",
    "#         freq_listy1.append(freq(y1))\n",
    "#         freq_listy2.append(freq(y2))\n",
    "#         var_listy2.append(var(y2))\n",
    "#         var_listy1.append(var(y1))"
   ]
  },
  {
   "cell_type": "code",
   "execution_count": 15,
   "metadata": {
    "collapsed": false
   },
   "outputs": [
    {
     "name": "stdout",
     "output_type": "stream",
     "text": [
      "750\n"
     ]
    }
   ],
   "source": [
    "#fixing the frequencies x1 and x2\n",
    "\n",
    "freq_newx1b = []\n",
    "freq_newx2b = []\n",
    "num_runs = len(var_listx1)\n",
    "print(num_runs)\n",
    "for i in range(num_runs):\n",
    "    if var_listx1[i] < 0.1:\n",
    "        freq_newx1b.append(0)\n",
    "    if var_listx2[i] < 0.1:\n",
    "        freq_newx2b.append(0)\n",
    "    \n",
    "    if var_listx1[i] >= 0.1:\n",
    "        freq_newx1b.append(freq_listx1[i])\n",
    "    if var_listx2[i] >= 0.1:\n",
    "        freq_newx2b.append(freq_listx2[i])"
   ]
  },
  {
   "cell_type": "code",
   "execution_count": 17,
   "metadata": {
    "collapsed": false
   },
   "outputs": [
    {
     "data": {
      "image/png": "[encoded data removed]",
      "text/plain": [
       "<matplotlib.figure.Figure at 0x2b6f21dc21d0>"
      ]
     },
     "metadata": {},
     "output_type": "display_data"
    }
   ],
   "source": [
    "##CALCULATING THE R AGAIN BUT THIS WITH A DIFFERENT TECHNIQUE\n",
    "\n",
    "## testing\n",
    "#len(x1ts_list)\n",
    "# signal = x1ts_list[0]\n",
    "# analytic_signal = hilbert(x1ts_list[0])\n",
    "# amplitude_envelope = np.abs(analytic_signal)\n",
    "# instantaneous_phase = np.unwrap(np.angle(analytic_signal))\n",
    "# np.shape(instantaneous_phase)\n",
    "# plt.plot(instantaneous_phase)\n",
    "# plt.show()\n",
    "\n",
    "#CALCULATING\n",
    "# new_phase_list = []\n",
    "\n",
    "# for i in range(num_runs):\n",
    "#     print(i)\n",
    "#     signal1 = x1ts_list[i]\n",
    "#     signal2 = x2ts_list[i]\n",
    "\n",
    "#     analytic_signal1 = hilbert(signal1)\n",
    "#     analytic_signal2 = hilbert(signal2)\n",
    "\n",
    "#     instantaneous_phase1 = np.unwrap(np.angle(analytic_signal1))\n",
    "#     instantaneous_phase2 = np.unwrap(np.angle(analytic_signal2))\n",
    "    \n",
    "#     diff = instantaneous_phase1 - instantaneous_phase2\n",
    "#     r = np.abs(np.sum(np.exp(1j*diff))/len(signal1))\n",
    "    \n",
    "#     new_phase_list.append(r)\n",
    "    \n",
    "# PLOTTING\n",
    "x=c_list\n",
    "y=final_df_numpy[:,4] #this is the last column - list of percent differences (15 of them)\n",
    "z=np.array(new_phase_list)\n",
    "\n",
    "x=np.unique(x)\n",
    "y=np.unique(y)\n",
    "X,Y = np.meshgrid(x,y)\n",
    "\n",
    "Z= z.reshape(len(y),len(x))\n",
    "\n",
    "# plt.pcolormesh(X,Y,Z,edgecolor='k')\n",
    "plt.pcolormesh(X,Y,Z)\n",
    "plt.xlabel('Coupling Strength')\n",
    "plt.ylabel('Intrinsic Frequency Percent Difference')\n",
    "plt.colorbar()\n",
    "plt.show()\n",
    "    \n"
   ]
  },
  {
   "cell_type": "code",
   "execution_count": 61,
   "metadata": {
    "collapsed": false
   },
   "outputs": [
    {
     "data": {
      "text/plain": [
       "81.496589095398889"
      ]
     },
     "execution_count": 61,
     "metadata": {},
     "output_type": "execute_result"
    }
   ],
   "source": [
    "np.sum(x1ts_list[0]-x1ts_list[1])"
   ]
  },
  {
   "cell_type": "code",
   "execution_count": 43,
   "metadata": {
    "collapsed": false
   },
   "outputs": [
    {
     "data": {
      "image/png": "[encoded data removed]",
      "text/plain": [
       "<matplotlib.figure.Figure at 0x2b2cf0134d68>"
      ]
     },
     "metadata": {},
     "output_type": "display_data"
    }
   ],
   "source": [
    "\n",
    "\n",
    "\n",
    "fig = plt.figure()\n",
    "ax0 = fig.add_subplot(211)\n",
    "ax0.plot(t, signal, label='signal')\n",
    "ax0.plot(t, amplitude_envelope, label='envelope')\n",
    "ax0.set_xlabel(\"time in seconds\")\n",
    "ax0.legend()\n",
    "ax1 = fig.add_subplot(212)\n",
    "ax1.plot(t[1:], instantaneous_frequency)\n",
    "ax1.set_xlabel(\"time in seconds\")\n",
    "ax1.set_ylim(0.0, 120.0)"
   ]
  },
  {
   "cell_type": "code",
   "execution_count": 46,
   "metadata": {
    "collapsed": false
   },
   "outputs": [
    {
     "name": "stdout",
     "output_type": "stream",
     "text": [
      "150 15\n",
      "2250 2250 2250\n"
     ]
    }
   ],
   "source": [
    "#data to use for the rest of the proj\n",
    "# x axis - c_list\n",
    "\n",
    "#y_axis\n",
    "perc_diff_list = final_df_numpy[:,4]\n",
    "\n",
    "print(len(c_list), len(perc_diff_list))\n",
    "print(num_runs, len(x1ts_list), len(c_list)*len(perc_diff_list))"
   ]
  },
  {
   "cell_type": "code",
   "execution_count": 21,
   "metadata": {
    "collapsed": false
   },
   "outputs": [
    {
     "data": {
      "text/plain": [
       "2.0351508123487569"
      ]
     },
     "execution_count": 21,
     "metadata": {},
     "output_type": "execute_result"
    }
   ],
   "source": [
    "#MAXIMUM LYAPUNOV EXPONENT\n",
    "rwalk = np.cumsum(np.random.random(1000))\n",
    "h = nolds.dfa(rwalk)\n",
    "h"
   ]
  },
  {
   "cell_type": "code",
   "execution_count": 34,
   "metadata": {
    "collapsed": false
   },
   "outputs": [],
   "source": [
    "np.save('max_lyap_x1.npy', max_lyap_x1)\n",
    "np.save('max_lyap_x1.npy', max_lyap_x2)\n",
    "np.save('x1ts_list.npy', x1ts_list)\n",
    "np.save('x2ts_list.npy',x2ts_list)"
   ]
  },
  {
   "cell_type": "code",
   "execution_count": null,
   "metadata": {
    "collapsed": false
   },
   "outputs": [
    {
     "name": "stderr",
     "output_type": "stream",
     "text": [
      "/bg01/homescinet/l/lfefebvr/noorir/measures.py:248: RuntimeWarning: signal has very low mean frequency, setting min_tsep = 2500\n",
      "  warnings.warn(msg.format(min_tsep), RuntimeWarning)\n",
      "/bg01/homescinet/l/lfefebvr/noorir/measures.py:248: RuntimeWarning: signal has very low mean frequency, setting min_tsep = 2500\n",
      "  warnings.warn(msg.format(min_tsep), RuntimeWarning)\n",
      "/bg01/homescinet/l/lfefebvr/noorir/measures.py:248: RuntimeWarning: signal has very low mean frequency, setting min_tsep = 2500\n",
      "  warnings.warn(msg.format(min_tsep), RuntimeWarning)\n",
      "/bg01/homescinet/l/lfefebvr/noorir/measures.py:248: RuntimeWarning: signal has very low mean frequency, setting min_tsep = 2500\n",
      "  warnings.warn(msg.format(min_tsep), RuntimeWarning)\n",
      "/bg01/homescinet/l/lfefebvr/noorir/measures.py:248: RuntimeWarning: signal has very low mean frequency, setting min_tsep = 2500\n",
      "  warnings.warn(msg.format(min_tsep), RuntimeWarning)\n",
      "/bg01/homescinet/l/lfefebvr/noorir/measures.py:248: RuntimeWarning: signal has very low mean frequency, setting min_tsep = 2500\n",
      "  warnings.warn(msg.format(min_tsep), RuntimeWarning)\n"
     ]
    }
   ],
   "source": [
    "max_lyap_x1 = []\n",
    "max_lyap_x2 = []\n",
    "posx1_ind = []\n",
    "posx2_ind = []\n",
    "\n",
    "for i in range(num_runs):\n",
    "    lx1 = nolds.lyap_r(x1ts_list[i])\n",
    "    lx2 = nolds.lyap_r(x2ts_list[i])\n",
    "    \n",
    "    max_lyap_x1.append(lx1)\n",
    "    max_lyap_x2.append(lx2)\n",
    "    \n",
    "    if lx1 > 0:\n",
    "        posx1_ind.append(i)\n",
    "    if lx2 > 0:\n",
    "        posx2_ind.append(i)\n",
    "\n",
    "#         print(i, n)\n",
    "#         plt.plot(x1_tsb[i])\n",
    "#         plt.show()\n"
   ]
  },
  {
   "cell_type": "code",
   "execution_count": 32,
   "metadata": {
    "collapsed": false
   },
   "outputs": [
    {
     "name": "stdout",
     "output_type": "stream",
     "text": [
      "layp x1\n"
     ]
    },
    {
     "data": {
      "image/png": "[encoded data removed]",
      "text/plain": [
       "<matplotlib.figure.Figure at 0x2b2cf0105b00>"
      ]
     },
     "metadata": {},
     "output_type": "display_data"
    },
    {
     "name": "stdout",
     "output_type": "stream",
     "text": [
      "layp x2\n"
     ]
    },
    {
     "data": {
      "image/png": "[encoded data removed]",
      "text/plain": [
       "<matplotlib.figure.Figure at 0x2b2cf015b208>"
      ]
     },
     "metadata": {},
     "output_type": "display_data"
    }
   ],
   "source": [
    "#PLOTTING LYAP FOR X1\n",
    "print(\"layp x1\")\n",
    "x=c_list\n",
    "y=perc_diff_list\n",
    "z=np.array(max_lyap_x1)\n",
    "\n",
    "x=np.unique(x)\n",
    "y=np.unique(y)\n",
    "X,Y = np.meshgrid(x,y)\n",
    "\n",
    "#phase_list is arranged so that its a sequence of 15 groups, each of 50 values (for diff c), since numpy is row-major, it'll\n",
    "#fill array by rows, so you want there to be 15 rows, and 50 columns\n",
    "\n",
    "Z= z.reshape(len(y),len(x))\n",
    "\n",
    "plt.pcolormesh(X,Y,Z)\n",
    "plt.colorbar()\n",
    "\n",
    "plt.show()\n",
    "\n",
    "#PLOTTING LYAP FOR X2\n",
    "print(\"layp x2\")\n",
    "\n",
    "x=c_list\n",
    "y=perc_diff_list\n",
    "z=np.array(max_lyap_x2)\n",
    "\n",
    "x=np.unique(x)\n",
    "y=np.unique(y)\n",
    "X,Y = np.meshgrid(x,y)\n",
    "\n",
    "#phase_list is arranged so that its a sequence of 15 groups, each of 50 values (for diff c), since numpy is row-major, it'll\n",
    "#fill array by rows, so you want there to be 15 rows, and 50 columns\n",
    "\n",
    "Z= z.reshape(len(y),len(x))\n",
    "\n",
    "# plt.pcolormesh(X,Y,Z,edgecolor='k')\n",
    "plt.pcolormesh(X,Y,Z)\n",
    "plt.colorbar()\n",
    "\n",
    "plt.show()"
   ]
  },
  {
   "cell_type": "code",
   "execution_count": null,
   "metadata": {
    "collapsed": true
   },
   "outputs": [],
   "source": [
    "nolds.corr_dim(x1ts_list[0],10)"
   ]
  },
  {
   "cell_type": "code",
   "execution_count": 36,
   "metadata": {
    "collapsed": false
   },
   "outputs": [
    {
     "data": {
      "text/plain": [
       "(2,)"
      ]
     },
     "execution_count": 36,
     "metadata": {},
     "output_type": "execute_result"
    }
   ],
   "source": [
    "np.shape(dim_x1)"
   ]
  },
  {
   "cell_type": "code",
   "execution_count": 35,
   "metadata": {
    "collapsed": false
   },
   "outputs": [
    {
     "ename": "KeyboardInterrupt",
     "evalue": "",
     "output_type": "error",
     "traceback": [
      "\u001b[0;31m---------------------------------------------------------------------------\u001b[0m",
      "\u001b[0;31mKeyboardInterrupt\u001b[0m                         Traceback (most recent call last)",
      "\u001b[0;32m<ipython-input-35-836daee3e375>\u001b[0m in \u001b[0;36m<module>\u001b[0;34m()\u001b[0m\n\u001b[1;32m      4\u001b[0m \u001b[0;32mfor\u001b[0m \u001b[0mi\u001b[0m \u001b[0;32min\u001b[0m \u001b[0mrange\u001b[0m\u001b[0;34m(\u001b[0m\u001b[0mnum_runs\u001b[0m\u001b[0;34m)\u001b[0m\u001b[0;34m:\u001b[0m\u001b[0;34m\u001b[0m\u001b[0m\n\u001b[1;32m      5\u001b[0m     \u001b[0mdx1\u001b[0m \u001b[0;34m=\u001b[0m \u001b[0mnolds\u001b[0m\u001b[0;34m.\u001b[0m\u001b[0mcorr_dim\u001b[0m\u001b[0;34m(\u001b[0m\u001b[0mx1ts_list\u001b[0m\u001b[0;34m[\u001b[0m\u001b[0mi\u001b[0m\u001b[0;34m]\u001b[0m\u001b[0;34m,\u001b[0m\u001b[0;36m10\u001b[0m\u001b[0;34m)\u001b[0m\u001b[0;34m\u001b[0m\u001b[0m\n\u001b[0;32m----> 6\u001b[0;31m     \u001b[0mdx2\u001b[0m \u001b[0;34m=\u001b[0m \u001b[0mnolds\u001b[0m\u001b[0;34m.\u001b[0m\u001b[0mcorr_dim\u001b[0m\u001b[0;34m(\u001b[0m\u001b[0mx2ts_list\u001b[0m\u001b[0;34m[\u001b[0m\u001b[0mi\u001b[0m\u001b[0;34m]\u001b[0m\u001b[0;34m,\u001b[0m\u001b[0;36m10\u001b[0m\u001b[0;34m)\u001b[0m\u001b[0;34m\u001b[0m\u001b[0m\n\u001b[0m\u001b[1;32m      7\u001b[0m \u001b[0;34m\u001b[0m\u001b[0m\n\u001b[1;32m      8\u001b[0m     \u001b[0mdim_x1\u001b[0m\u001b[0;34m.\u001b[0m\u001b[0mappend\u001b[0m\u001b[0;34m(\u001b[0m\u001b[0mdx1\u001b[0m\u001b[0;34m)\u001b[0m\u001b[0;34m\u001b[0m\u001b[0m\n",
      "\u001b[0;32m/bg01/homescinet/l/lfefebvr/noorir/measures.py\u001b[0m in \u001b[0;36mcorr_dim\u001b[0;34m(data, emb_dim, rvals, dist, fit, debug_plot, debug_data, plot_file)\u001b[0m\n\u001b[1;32m   1293\u001b[0m   \u001b[0mcsums\u001b[0m \u001b[0;34m=\u001b[0m \u001b[0;34m[\u001b[0m\u001b[0;34m]\u001b[0m\u001b[0;34m\u001b[0m\u001b[0m\n\u001b[1;32m   1294\u001b[0m   \u001b[0;32mfor\u001b[0m \u001b[0mr\u001b[0m \u001b[0;32min\u001b[0m \u001b[0mrvals\u001b[0m\u001b[0;34m:\u001b[0m\u001b[0;34m\u001b[0m\u001b[0m\n\u001b[0;32m-> 1295\u001b[0;31m     \u001b[0ms\u001b[0m \u001b[0;34m=\u001b[0m \u001b[0;36m1.0\u001b[0m \u001b[0;34m/\u001b[0m \u001b[0;34m(\u001b[0m\u001b[0mn\u001b[0m \u001b[0;34m*\u001b[0m \u001b[0;34m(\u001b[0m\u001b[0mn\u001b[0m \u001b[0;34m-\u001b[0m \u001b[0;36m1\u001b[0m\u001b[0;34m)\u001b[0m\u001b[0;34m)\u001b[0m \u001b[0;34m*\u001b[0m \u001b[0mnp\u001b[0m\u001b[0;34m.\u001b[0m\u001b[0msum\u001b[0m\u001b[0;34m(\u001b[0m\u001b[0mdists\u001b[0m \u001b[0;34m<\u001b[0m \u001b[0mr\u001b[0m\u001b[0;34m)\u001b[0m\u001b[0;34m\u001b[0m\u001b[0m\n\u001b[0m\u001b[1;32m   1296\u001b[0m     \u001b[0mcsums\u001b[0m\u001b[0;34m.\u001b[0m\u001b[0mappend\u001b[0m\u001b[0;34m(\u001b[0m\u001b[0ms\u001b[0m\u001b[0;34m)\u001b[0m\u001b[0;34m\u001b[0m\u001b[0m\n\u001b[1;32m   1297\u001b[0m   \u001b[0mcsums\u001b[0m \u001b[0;34m=\u001b[0m \u001b[0mnp\u001b[0m\u001b[0;34m.\u001b[0m\u001b[0marray\u001b[0m\u001b[0;34m(\u001b[0m\u001b[0mcsums\u001b[0m\u001b[0;34m)\u001b[0m\u001b[0;34m\u001b[0m\u001b[0m\n",
      "\u001b[0;32m/scinet/gpc/Applications/anaconda3/4.2.0_hub/lib/python3.5/site-packages/numpy/core/fromnumeric.py\u001b[0m in \u001b[0;36msum\u001b[0;34m(a, axis, dtype, out, keepdims)\u001b[0m\n\u001b[1;32m   1838\u001b[0m     \u001b[0;32melse\u001b[0m\u001b[0;34m:\u001b[0m\u001b[0;34m\u001b[0m\u001b[0m\n\u001b[1;32m   1839\u001b[0m         return _methods._sum(a, axis=axis, dtype=dtype,\n\u001b[0;32m-> 1840\u001b[0;31m                              out=out, keepdims=keepdims)\n\u001b[0m\u001b[1;32m   1841\u001b[0m \u001b[0;34m\u001b[0m\u001b[0m\n\u001b[1;32m   1842\u001b[0m \u001b[0;34m\u001b[0m\u001b[0m\n",
      "\u001b[0;32m/scinet/gpc/Applications/anaconda3/4.2.0_hub/lib/python3.5/site-packages/numpy/core/_methods.py\u001b[0m in \u001b[0;36m_sum\u001b[0;34m(a, axis, dtype, out, keepdims)\u001b[0m\n\u001b[1;32m     30\u001b[0m \u001b[0;34m\u001b[0m\u001b[0m\n\u001b[1;32m     31\u001b[0m \u001b[0;32mdef\u001b[0m \u001b[0m_sum\u001b[0m\u001b[0;34m(\u001b[0m\u001b[0ma\u001b[0m\u001b[0;34m,\u001b[0m \u001b[0maxis\u001b[0m\u001b[0;34m=\u001b[0m\u001b[0;32mNone\u001b[0m\u001b[0;34m,\u001b[0m \u001b[0mdtype\u001b[0m\u001b[0;34m=\u001b[0m\u001b[0;32mNone\u001b[0m\u001b[0;34m,\u001b[0m \u001b[0mout\u001b[0m\u001b[0;34m=\u001b[0m\u001b[0;32mNone\u001b[0m\u001b[0;34m,\u001b[0m \u001b[0mkeepdims\u001b[0m\u001b[0;34m=\u001b[0m\u001b[0;32mFalse\u001b[0m\u001b[0;34m)\u001b[0m\u001b[0;34m:\u001b[0m\u001b[0;34m\u001b[0m\u001b[0m\n\u001b[0;32m---> 32\u001b[0;31m     \u001b[0;32mreturn\u001b[0m \u001b[0mumr_sum\u001b[0m\u001b[0;34m(\u001b[0m\u001b[0ma\u001b[0m\u001b[0;34m,\u001b[0m \u001b[0maxis\u001b[0m\u001b[0;34m,\u001b[0m \u001b[0mdtype\u001b[0m\u001b[0;34m,\u001b[0m \u001b[0mout\u001b[0m\u001b[0;34m,\u001b[0m \u001b[0mkeepdims\u001b[0m\u001b[0;34m)\u001b[0m\u001b[0;34m\u001b[0m\u001b[0m\n\u001b[0m\u001b[1;32m     33\u001b[0m \u001b[0;34m\u001b[0m\u001b[0m\n\u001b[1;32m     34\u001b[0m \u001b[0;32mdef\u001b[0m \u001b[0m_prod\u001b[0m\u001b[0;34m(\u001b[0m\u001b[0ma\u001b[0m\u001b[0;34m,\u001b[0m \u001b[0maxis\u001b[0m\u001b[0;34m=\u001b[0m\u001b[0;32mNone\u001b[0m\u001b[0;34m,\u001b[0m \u001b[0mdtype\u001b[0m\u001b[0;34m=\u001b[0m\u001b[0;32mNone\u001b[0m\u001b[0;34m,\u001b[0m \u001b[0mout\u001b[0m\u001b[0;34m=\u001b[0m\u001b[0;32mNone\u001b[0m\u001b[0;34m,\u001b[0m \u001b[0mkeepdims\u001b[0m\u001b[0;34m=\u001b[0m\u001b[0;32mFalse\u001b[0m\u001b[0;34m)\u001b[0m\u001b[0;34m:\u001b[0m\u001b[0;34m\u001b[0m\u001b[0m\n",
      "\u001b[0;31mKeyboardInterrupt\u001b[0m: "
     ]
    }
   ],
   "source": [
    "dim_x1 = []\n",
    "dim_x2 = []\n",
    "\n",
    "for i in range(num_runs):\n",
    "    dx1 = nolds.corr_dim(x1ts_list[i],10)\n",
    "    dx2 = nolds.corr_dim(x2ts_list[i],10)\n",
    "    \n",
    "    dim_x1.append(dx1)\n",
    "    dim_x2.append(dx2)\n",
    "\n",
    "np.save('dim_x1.npy', dim_x1)\n",
    "np.save('dim_x2.npy', dim_x2)"
   ]
  },
  {
   "cell_type": "code",
   "execution_count": null,
   "metadata": {
    "collapsed": true
   },
   "outputs": [],
   "source": [
    "#PLOTTING DIM FOR X1\n",
    "print(\"DIM x1\")\n",
    "x=c_list\n",
    "y=perc_diff_list\n",
    "z=np.array(dim_x1)\n",
    "\n",
    "x=np.unique(x)\n",
    "y=np.unique(y)\n",
    "X,Y = np.meshgrid(x,y)\n",
    "\n",
    "Z= z.reshape(len(y),len(x))\n",
    "\n",
    "plt.pcolormesh(X,Y,Z)\n",
    "plt.colorbar()\n",
    "\n",
    "plt.show()\n",
    "\n",
    "#PLOTTING LYAP FOR X2\n",
    "print(\"DIM x2\")\n",
    "\n",
    "x=c_list\n",
    "y=perc_diff_list\n",
    "z=np.array(dim_x2)\n",
    "\n",
    "x=np.unique(x)\n",
    "y=np.unique(y)\n",
    "X,Y = np.meshgrid(x,y)\n",
    "\n",
    "Z= z.reshape(len(y),len(x))\n",
    "\n",
    "plt.pcolormesh(X,Y,Z)\n",
    "plt.colorbar()\n",
    "\n",
    "plt.show()"
   ]
  }
 ],
 "metadata": {
  "anaconda-cloud": {},
  "kernelspec": {
   "display_name": "Python [default]",
   "language": "python",
   "name": "python3"
  },
  "language_info": {
   "codemirror_mode": {
    "name": "ipython",
    "version": 3
   },
   "file_extension": ".py",
   "mimetype": "text/x-python",
   "name": "python",
   "nbconvert_exporter": "python",
   "pygments_lexer": "ipython3",
   "version": "3.5.2"
  }
 },
 "nbformat": 4,
 "nbformat_minor": 2
}
