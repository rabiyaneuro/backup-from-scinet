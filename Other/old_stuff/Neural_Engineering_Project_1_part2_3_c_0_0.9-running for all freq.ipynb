{
 "cells": [
  {
   "cell_type": "code",
   "execution_count": 1,
   "metadata": {
    "collapsed": false
   },
   "outputs": [],
   "source": [
    "import numpy as np\n",
    "from scipy.integrate import odeint\n",
    "import matplotlib.pyplot as plt\n",
    "from scipy.signal import argrelextrema\n",
    "import pandas as pd"
   ]
  },
  {
   "cell_type": "code",
   "execution_count": 2,
   "metadata": {
    "collapsed": true
   },
   "outputs": [],
   "source": [
    "import measures as nolds"
   ]
  },
  {
   "cell_type": "code",
   "execution_count": 3,
   "metadata": {
    "collapsed": true
   },
   "outputs": [],
   "source": [
    "def var(u_e):\n",
    "    return np.var(u_e)\n",
    "\n",
    "def freq(u_e):\n",
    "    ind = argrelextrema(np.array(u_e), np.greater)\n",
    "#     print(ind)\n",
    "    diffs = np.diff(argrelextrema(np.array(u_e), np.greater))\n",
    "#     print(diffs)\n",
    "    n = int(len(diffs)/2)\n",
    "    sub_ind = diffs[n-1:n+1]\n",
    "    abso = np.absolute(sub_ind)\n",
    "#   print(mean(abso), \"here\")\n",
    "    #print(1/(0.01*mean(abso)))\n",
    "    freq = 1/np.mean(abso)\n",
    "    return 1/(0.01*np.mean(abso))\n",
    "#TIME STEP IS SIZE 0.01\n",
    "\n",
    "#print(freq(G[:,0]),freq(G[:,1]))"
   ]
  },
  {
   "cell_type": "code",
   "execution_count": 4,
   "metadata": {
    "collapsed": false
   },
   "outputs": [
    {
     "name": "stderr",
     "output_type": "stream",
     "text": [
      "/scinet/gpc/Applications/anaconda3/4.2.0_hub/lib/python3.5/site-packages/numpy/core/_methods.py:59: RuntimeWarning: Mean of empty slice.\n",
      "  warnings.warn(\"Mean of empty slice.\", RuntimeWarning)\n"
     ]
    }
   ],
   "source": [
    "#FINAL ONE\n",
    "#param\n",
    "freq_x = []\n",
    "freq_y = []\n",
    "var_x =[]\n",
    "z_list = list(np.arange(-3,0,0.1))\n",
    "for z in z_list:\n",
    "    #print(z)\n",
    "    alpha = 3\n",
    "    a = 0.7\n",
    "    b = 0.8\n",
    "    omega_sq = 1\n",
    "    #model -> G[x,y]\n",
    "\n",
    "    def model(G,t):\n",
    "        return np.array([ alpha*(G[1] + G[0] - ((G[0]**3)/3) + z), -(1/alpha)*(G[0] - a + (b*G[1]) )])\n",
    "\n",
    "    t = np.linspace(0, 100,  10000)              # time step\n",
    "    G0 = np.array([0, 0])                     # initials conditions\n",
    "    G = odeint(model, G0, t)\n",
    "\n",
    "#     plt.show()\n",
    "    freq_x.append(freq(G[:,0]))\n",
    "    var_x.append(var(G[5000:,0]))\n",
    "    freq_y.append(freq(G[:,1]))\n",
    "\n"
   ]
  },
  {
   "cell_type": "code",
   "execution_count": 5,
   "metadata": {
    "collapsed": true
   },
   "outputs": [],
   "source": [
    "#fixing the frequencies\n",
    "\n",
    "freq_new = []\n",
    "\n",
    "for i in range(len(z_list)):\n",
    "    if var_x[i] < 0.1:\n",
    "        freq_new.append(0)\n",
    "    else:\n",
    "        freq_new.append(freq_x[i])\n"
   ]
  },
  {
   "cell_type": "code",
   "execution_count": 6,
   "metadata": {
    "collapsed": false
   },
   "outputs": [
    {
     "data": {
      "image/png": "[encoded data removed]",
      "text/plain": [
       "<matplotlib.figure.Figure at 0x2b6b15db2b38>"
      ]
     },
     "metadata": {},
     "output_type": "display_data"
    }
   ],
   "source": [
    "# #FINAL PLOT\n",
    "plt.plot(z_list, freq_new)\n",
    "plt.xlabel(\"z\")\n",
    "plt.ylabel(\"Intrinsic Frequency\")\n",
    "plt.show()\n",
    "# freq_new"
   ]
  },
  {
   "cell_type": "code",
   "execution_count": 7,
   "metadata": {
    "collapsed": true
   },
   "outputs": [],
   "source": [
    "#GETTING THE VALUES FOR K1 AND K2\n",
    "table = [z_list, freq_new]\n",
    "\n",
    "\n",
    "k1_col = []\n",
    "k1freq = []\n",
    "k2_col = []\n",
    "k2freq = []\n",
    "perc_diff = []\n",
    "\n",
    "k_freq = np.transpose(table)[16:-2]\n",
    "k_freq\n",
    "num_k_vals = np.shape(k_freq)[0] #num of rows\n",
    "\n",
    "#k_freq is a 12x2 array with k values in first column and the corresponding freq in second, it contains the subset of k that \n",
    "#actually result in oscillations\n",
    "\n",
    "for i in range(num_k_vals):\n",
    "    for j in range(i,num_k_vals):\n",
    "        #appending the k1 value from the ith row in the first column of k_freq\n",
    "        k1_col.append(k_freq[:,0][i])\n",
    "        #appending the k1 frequency from the ith row in the second column of k_freq\n",
    "        k1freq.append(k_freq[:,1][i])\n",
    "        k2_col.append(k_freq[:,0][j])\n",
    "        k2freq.append(k_freq[:,1][j])\n",
    "        \n",
    "        #calculating the percent difference in frequencies\n",
    "        perc = (1- (min(k_freq[j,1],k_freq[i,1])/max(k_freq[j,1],k_freq[i,1])))*100\n",
    "        perc_diff.append(perc)"
   ]
  },
  {
   "cell_type": "code",
   "execution_count": 8,
   "metadata": {
    "collapsed": false
   },
   "outputs": [],
   "source": [
    "#converting to dataframe to see what data looks like\n",
    "d = {'k1': k1_col, 'freq1': k1freq, 'k2': k2_col, 'freq2': k2freq, 'perc_diff': perc_diff}\n",
    "df = pd.DataFrame(data=d)\n",
    "#df"
   ]
  },
  {
   "cell_type": "code",
   "execution_count": 15,
   "metadata": {
    "collapsed": false
   },
   "outputs": [],
   "source": [
    "#FINAL PERCENT DIFFERENCE COLUMN\n",
    "df_sorted = df.sort_values('perc_diff')\n",
    "#df_single = df_sorted.drop_duplicates('perc_diff')\n",
    "#df_final= df_s.drop(77)\n",
    "#df_final\n",
    "df_sorted\n",
    "df_numpy = df_sorted.values\n",
    "final_df_numpy = df_numpy[0:-12]"
   ]
  },
  {
   "cell_type": "code",
   "execution_count": 16,
   "metadata": {
    "collapsed": true
   },
   "outputs": [],
   "source": [
    "#PART 2, PLOTTING COUPLED OSCI\n",
    "#The following code defines the \"right hand side\" of the system of equations (also known as a vector field). \n",
    "\n",
    "from scipy.integrate import odeint\n",
    "import matplotlib.pyplot as plt\n",
    "\n",
    "def vectorfield(w, t, p):\n",
    "    \"\"\"\n",
    "    Defines the differential equations for the coupled spring-mass system.\n",
    "\n",
    "    Arguments:\n",
    "        w :  vector of the state variables:\n",
    "                  w = [x1,y1,x2,y2]\n",
    "        t :  time\n",
    "        p :  vector of the parameters:\n",
    "                  p = [alpha, k1, k2, c, b,a]\n",
    "    \"\"\"\n",
    "    x1, y1, x2, y2 = w\n",
    "    alpha, k1, k2, c, b, a = p\n",
    "\n",
    "    # Create f = (x1',y1',x2',y2'):\n",
    "    f = [ alpha*(y1 + x1 - ((x1**3)/3) + k1+ c*x2),\n",
    "         -(1/alpha)*( x1- a + (b*y1)), \n",
    "         alpha*(y2 + x2 - ((x2**3)/3) + k2+ c*x1),\n",
    "        -(1/alpha)*( x2- a + (b*y2))]\n",
    "    \n",
    "    return f"
   ]
  },
  {
   "cell_type": "code",
   "execution_count": 18,
   "metadata": {
    "collapsed": false
   },
   "outputs": [
    {
     "name": "stderr",
     "output_type": "stream",
     "text": [
      "/scinet/gpc/Applications/anaconda3/4.2.0_hub/lib/python3.5/site-packages/numpy/core/_methods.py:59: RuntimeWarning: Mean of empty slice.\n",
      "  warnings.warn(\"Mean of empty slice.\", RuntimeWarning)\n"
     ]
    }
   ],
   "source": [
    "# Use ODEINT to solve the differential equations defined by the vector field\n",
    "solution_list = [] #from this we can get time series for everything\n",
    "\n",
    "freq_listx1 = []\n",
    "freq_listx2 = []\n",
    "\n",
    "var_listx1 = []\n",
    "var_listx2 = []\n",
    "\n",
    "x1ts_list = []\n",
    "x2ts_list = []\n",
    "\n",
    "c_list = np.linspace(0,1,20)\n",
    "\n",
    "#for each row in final_df_numpy set the k1 and k2\n",
    "for i in range(np.shape(final_df_numpy)[0]):\n",
    "    k1 = final_df_numpy[i,2]\n",
    "    k2 = final_df_numpy[i,3]\n",
    "    \n",
    "    for c in c_list:\n",
    "\n",
    "        # Parameter values\n",
    "        alpha = 3\n",
    "        a = 0.7\n",
    "        b = 0.8\n",
    "\n",
    "        # Initial conditions\n",
    "        x1 = 0.0\n",
    "        y1 = 0.0\n",
    "        x2 = 0.0\n",
    "        y2 = 0.0\n",
    "\n",
    "        # Pack up the parameters and initial conditions:\n",
    "        p = [alpha, k1, k2, c, b, a]\n",
    "        w0 = [x1, y1, x2, y2]\n",
    "        t = np.linspace(0, 100,  10000)              # time step\n",
    "\n",
    "        #Call the ODE solver.\n",
    "        wsol = odeint(vectorfield, w0, t, args=(p,))\n",
    "        \n",
    "        x1= wsol[:,0]\n",
    "        x2= wsol[:,2]\n",
    "        \n",
    "\n",
    "        solution_list.append(wsol)\n",
    "        \n",
    "        freq_listx1.append(freq(x1))\n",
    "        freq_listx2.append(freq(x2))\n",
    "        \n",
    "        var_listx2.append(var(x2))\n",
    "        var_listx1.append(var(x1))\n",
    "\n",
    "        x1ts_list.append(x1)\n",
    "        x2ts_list.append(x2)\n",
    "\n",
    "np.save('x1ts_listall.npy', x1ts_list)\n",
    "np.save('x2ts_listall.npy',x2ts_list)"
   ]
  },
  {
   "cell_type": "code",
   "execution_count": 37,
   "metadata": {
    "collapsed": false
   },
   "outputs": [
    {
     "ename": "FileNotFoundError",
     "evalue": "[Errno 2] No such file or directory: 'x1ts_list20.npy'",
     "output_type": "error",
     "traceback": [
      "\u001b[0;31m---------------------------------------------------------------------------\u001b[0m",
      "\u001b[0;31mFileNotFoundError\u001b[0m                         Traceback (most recent call last)",
      "\u001b[0;32m<ipython-input-37-05a712970b39>\u001b[0m in \u001b[0;36m<module>\u001b[0;34m()\u001b[0m\n\u001b[0;32m----> 1\u001b[0;31m \u001b[0mnp\u001b[0m\u001b[0;34m.\u001b[0m\u001b[0mload\u001b[0m\u001b[0;34m(\u001b[0m\u001b[0;34m'x1ts_list20.npy'\u001b[0m\u001b[0;34m)\u001b[0m\u001b[0;34m\u001b[0m\u001b[0m\n\u001b[0m",
      "\u001b[0;32m/scinet/gpc/Applications/anaconda3/4.2.0_hub/lib/python3.5/site-packages/numpy/lib/npyio.py\u001b[0m in \u001b[0;36mload\u001b[0;34m(file, mmap_mode, allow_pickle, fix_imports, encoding)\u001b[0m\n\u001b[1;32m    360\u001b[0m     \u001b[0mown_fid\u001b[0m \u001b[0;34m=\u001b[0m \u001b[0;32mFalse\u001b[0m\u001b[0;34m\u001b[0m\u001b[0m\n\u001b[1;32m    361\u001b[0m     \u001b[0;32mif\u001b[0m \u001b[0misinstance\u001b[0m\u001b[0;34m(\u001b[0m\u001b[0mfile\u001b[0m\u001b[0;34m,\u001b[0m \u001b[0mbasestring\u001b[0m\u001b[0;34m)\u001b[0m\u001b[0;34m:\u001b[0m\u001b[0;34m\u001b[0m\u001b[0m\n\u001b[0;32m--> 362\u001b[0;31m         \u001b[0mfid\u001b[0m \u001b[0;34m=\u001b[0m \u001b[0mopen\u001b[0m\u001b[0;34m(\u001b[0m\u001b[0mfile\u001b[0m\u001b[0;34m,\u001b[0m \u001b[0;34m\"rb\"\u001b[0m\u001b[0;34m)\u001b[0m\u001b[0;34m\u001b[0m\u001b[0m\n\u001b[0m\u001b[1;32m    363\u001b[0m         \u001b[0mown_fid\u001b[0m \u001b[0;34m=\u001b[0m \u001b[0;32mTrue\u001b[0m\u001b[0;34m\u001b[0m\u001b[0m\n\u001b[1;32m    364\u001b[0m     \u001b[0;32melse\u001b[0m\u001b[0;34m:\u001b[0m\u001b[0;34m\u001b[0m\u001b[0m\n",
      "\u001b[0;31mFileNotFoundError\u001b[0m: [Errno 2] No such file or directory: 'x1ts_list20.npy'"
     ]
    }
   ],
   "source": [
    "np.load('x1ts_list20.npy')"
   ]
  },
  {
   "cell_type": "code",
   "execution_count": 23,
   "metadata": {
    "collapsed": true
   },
   "outputs": [],
   "source": [
    "perc_diff_list = np.arange(66)"
   ]
  },
  {
   "cell_type": "code",
   "execution_count": 24,
   "metadata": {
    "collapsed": false
   },
   "outputs": [
    {
     "name": "stdout",
     "output_type": "stream",
     "text": [
      "20 66\n",
      "1320 1320 1320\n"
     ]
    }
   ],
   "source": [
    "#data to use for the rest of the proj\n",
    "# x axis - c_list\n",
    "\n",
    "\n",
    "print(len(c_list), len(perc_diff_list))\n",
    "print(num_runs, len(x1ts_list), len(c_list)*len(perc_diff_list))"
   ]
  },
  {
   "cell_type": "code",
   "execution_count": 21,
   "metadata": {
    "collapsed": false
   },
   "outputs": [
    {
     "data": {
      "text/plain": [
       "2.0351508123487569"
      ]
     },
     "execution_count": 21,
     "metadata": {},
     "output_type": "execute_result"
    }
   ],
   "source": [
    "#MAXIMUM LYAPUNOV EXPONENT\n",
    "rwalk = np.cumsum(np.random.random(1000))\n",
    "h = nolds.dfa(rwalk)\n",
    "h"
   ]
  },
  {
   "cell_type": "code",
   "execution_count": null,
   "metadata": {
    "collapsed": false
   },
   "outputs": [
    {
     "name": "stderr",
     "output_type": "stream",
     "text": [
      "/bg01/homescinet/l/lfefebvr/noorir/measures.py:248: RuntimeWarning: signal has very low mean frequency, setting min_tsep = 2500\n",
      "  warnings.warn(msg.format(min_tsep), RuntimeWarning)\n",
      "/bg01/homescinet/l/lfefebvr/noorir/measures.py:248: RuntimeWarning: signal has very low mean frequency, setting min_tsep = 2500\n",
      "  warnings.warn(msg.format(min_tsep), RuntimeWarning)\n",
      "/bg01/homescinet/l/lfefebvr/noorir/measures.py:248: RuntimeWarning: signal has very low mean frequency, setting min_tsep = 2500\n",
      "  warnings.warn(msg.format(min_tsep), RuntimeWarning)\n",
      "/bg01/homescinet/l/lfefebvr/noorir/measures.py:278: RuntimeWarning: autocorrelation declined too slowly to find suitable lag, setting lag to 813\n",
      "  warnings.warn(msg.format(lag), RuntimeWarning)\n",
      "/bg01/homescinet/l/lfefebvr/noorir/measures.py:248: RuntimeWarning: signal has very low mean frequency, setting min_tsep = 2500\n",
      "  warnings.warn(msg.format(min_tsep), RuntimeWarning)\n",
      "/bg01/homescinet/l/lfefebvr/noorir/measures.py:248: RuntimeWarning: signal has very low mean frequency, setting min_tsep = 2500\n",
      "  warnings.warn(msg.format(min_tsep), RuntimeWarning)\n",
      "/bg01/homescinet/l/lfefebvr/noorir/measures.py:248: RuntimeWarning: signal has very low mean frequency, setting min_tsep = 2500\n",
      "  warnings.warn(msg.format(min_tsep), RuntimeWarning)\n",
      "/bg01/homescinet/l/lfefebvr/noorir/measures.py:248: RuntimeWarning: signal has very low mean frequency, setting min_tsep = 2500\n",
      "  warnings.warn(msg.format(min_tsep), RuntimeWarning)\n",
      "/bg01/homescinet/l/lfefebvr/noorir/measures.py:248: RuntimeWarning: signal has very low mean frequency, setting min_tsep = 2500\n",
      "  warnings.warn(msg.format(min_tsep), RuntimeWarning)\n"
     ]
    }
   ],
   "source": [
    "max_lyap_x1 = []\n",
    "max_lyap_x2 = []\n",
    "# posx1_ind = []\n",
    "# posx2_ind = []\n",
    "\n",
    "for i in range(num_runs):\n",
    "    lx1 = nolds.lyap_r(x1ts_list[i])\n",
    "    lx2 = nolds.lyap_r(x2ts_list[i])\n",
    "    \n",
    "    max_lyap_x1.append(lx1)\n",
    "    max_lyap_x2.append(lx2)\n",
    "    \n",
    "#     if lx1 > 0:\n",
    "#         posx1_ind.append(i)\n",
    "#     if lx2 > 0:\n",
    "#         posx2_ind.append(i)\n",
    "\n",
    "np.save('max_lyap_x1_all.npy', max_lyap_x1)\n",
    "np.save('max_lyap_x2_all.npy', max_lyap_x2)"
   ]
  },
  {
   "cell_type": "code",
   "execution_count": 27,
   "metadata": {
    "collapsed": false
   },
   "outputs": [
    {
     "name": "stdout",
     "output_type": "stream",
     "text": [
      "layp x1\n"
     ]
    },
    {
     "data": {
      "image/png": "[encoded data removed]",
      "text/plain": [
       "<matplotlib.figure.Figure at 0x2b6b2e24b240>"
      ]
     },
     "metadata": {},
     "output_type": "display_data"
    },
    {
     "name": "stdout",
     "output_type": "stream",
     "text": [
      "layp x2\n"
     ]
    },
    {
     "data": {
      "image/png": "[encoded data removed]",
      "text/plain": [
       "<matplotlib.figure.Figure at 0x2b6b2e481160>"
      ]
     },
     "metadata": {},
     "output_type": "display_data"
    }
   ],
   "source": [
    "#PLOTTING LYAP FOR X1\n",
    "print(\"layp x1\")\n",
    "x=c_list\n",
    "y=perc_diff_list\n",
    "z=np.array(max_lyap_x1)\n",
    "\n",
    "x=np.unique(x)\n",
    "y=np.unique(y)\n",
    "X,Y = np.meshgrid(x,y)\n",
    "\n",
    "#phase_list is arranged so that its a sequence of 15 groups, each of 50 values (for diff c), since numpy is row-major, it'll\n",
    "#fill array by rows, so you want there to be 15 rows, and 50 columns\n",
    "\n",
    "Z= z.reshape(len(y),len(x))\n",
    "\n",
    "plt.pcolormesh(X,Y,Z)\n",
    "plt.colorbar()\n",
    "\n",
    "plt.show()\n",
    "\n",
    "#PLOTTING LYAP FOR X2\n",
    "print(\"layp x2\")\n",
    "\n",
    "x=c_list\n",
    "y=perc_diff_list\n",
    "z=np.array(max_lyap_x2)\n",
    "\n",
    "x=np.unique(x)\n",
    "y=np.unique(y)\n",
    "X,Y = np.meshgrid(x,y)\n",
    "\n",
    "#phase_list is arranged so that its a sequence of 15 groups, each of 50 values (for diff c), since numpy is row-major, it'll\n",
    "#fill array by rows, so you want there to be 15 rows, and 50 columns\n",
    "\n",
    "Z= z.reshape(len(y),len(x))\n",
    "\n",
    "# plt.pcolormesh(X,Y,Z,edgecolor='k')\n",
    "plt.pcolormesh(X,Y,Z)\n",
    "plt.colorbar()\n",
    "\n",
    "plt.show()"
   ]
  },
  {
   "cell_type": "code",
   "execution_count": 35,
   "metadata": {
    "collapsed": false
   },
   "outputs": [
    {
     "data": {
      "text/plain": [
       "(66, 20)"
      ]
     },
     "execution_count": 35,
     "metadata": {},
     "output_type": "execute_result"
    }
   ],
   "source": [
    "np.shape(Z)"
   ]
  },
  {
   "cell_type": "code",
   "execution_count": 34,
   "metadata": {
    "collapsed": false
   },
   "outputs": [
    {
     "name": "stdout",
     "output_type": "stream",
     "text": [
      "-1.4 -1.4\n",
      "-0.4 -0.4\n",
      "-1.3 -1.3\n",
      "-1.0 -1.0\n",
      "-1.1 -1.1\n",
      "-0.9 -0.9\n",
      "-1.2 -1.2\n",
      "-0.8 -0.8\n",
      "-0.7 -0.7\n",
      "-0.6 -0.6\n",
      "-0.5 -0.5\n",
      "-0.9 -0.8\n",
      "-1.0 -0.8\n",
      "-1.0 -0.9\n",
      "-1.0 -0.7\n",
      "-1.1 -0.7\n",
      "-0.8 -0.7\n",
      "-1.1 -0.6\n",
      "-0.9 -0.7\n",
      "-1.1 -1.0\n",
      "-1.2 -0.6\n",
      "-1.1 -0.8\n",
      "-1.2 -0.5\n",
      "-0.7 -0.6\n",
      "-1.1 -0.9\n",
      "-1.3 -0.5\n",
      "-1.0 -0.6\n",
      "-1.2 -1.1\n",
      "-0.8 -0.6\n",
      "-0.9 -0.6\n",
      "-0.6 -0.5\n",
      "-1.2 -0.7\n",
      "-1.3 -0.4\n",
      "-1.2 -1.0\n",
      "-1.2 -0.8\n",
      "-1.3 -1.2\n",
      "-1.1 -0.5\n",
      "-1.2 -0.9\n",
      "-0.7 -0.5\n",
      "-1.3 -0.6\n",
      "-1.0 -0.5\n",
      "-0.5 -0.4\n",
      "-0.8 -0.5\n",
      "-0.9 -0.5\n",
      "-1.3 -1.1\n",
      "-1.4 -0.4\n",
      "-1.3 -0.7\n",
      "-1.2 -0.4\n",
      "-1.3 -1.0\n",
      "-1.3 -0.8\n",
      "-1.3 -0.9\n",
      "-0.6 -0.4\n",
      "-1.1 -0.4\n",
      "-1.4 -1.3\n",
      "-0.7 -0.4\n",
      "-1.0 -0.4\n",
      "-0.8 -0.4\n",
      "-0.9 -0.4\n",
      "-1.4 -0.5\n",
      "-1.4 -1.2\n",
      "-1.4 -0.6\n",
      "-1.4 -1.1\n",
      "-1.4 -0.7\n",
      "-1.4 -1.0\n",
      "-1.4 -0.8\n",
      "-1.4 -0.9\n"
     ]
    }
   ],
   "source": [
    "for i in range(66):\n",
    "    print(final_df_numpy[i,2], final_df_numpy[i,3])"
   ]
  },
  {
   "cell_type": "code",
   "execution_count": 43,
   "metadata": {
    "collapsed": false
   },
   "outputs": [
    {
     "data": {
      "text/plain": [
       "array([ -3.72679072e-04,  -9.24491882e-04,  -3.59156616e-04,\n",
       "                   -inf,             -inf,             -inf,\n",
       "                   -inf,             -inf,             -inf,\n",
       "        -3.70897566e-04,  -1.02300811e-04,  -2.98000278e-04,\n",
       "        -3.90073231e-04,             -inf,             -inf,\n",
       "                   -inf,             -inf,             -inf,\n",
       "                   -inf,             -inf,  -8.84087283e-04,\n",
       "        -5.09859441e-05,             -inf,             -inf,\n",
       "                   -inf,             -inf,             -inf,\n",
       "                   -inf,             -inf,             -inf,\n",
       "                   -inf,             -inf,  -8.83766762e-04,\n",
       "                   -inf,             -inf,             -inf,\n",
       "                   -inf,             -inf,             -inf,\n",
       "                   -inf,  -4.40039312e-04,             -inf,\n",
       "                   -inf,             -inf,             -inf,\n",
       "                   -inf,             -inf,             -inf,\n",
       "                   -inf,             -inf,             -inf,\n",
       "                   -inf,  -3.71241749e-04,  -6.28017483e-04,\n",
       "        -2.82979908e-04,  -6.04472483e-04,             -inf,\n",
       "                   -inf,             -inf,             -inf,\n",
       "                   -inf,             -inf,             -inf,\n",
       "                   -inf,  -3.92871871e-04,             -inf,\n",
       "                   -inf,             -inf,             -inf,\n",
       "                   -inf,             -inf,             -inf,\n",
       "                   -inf,             -inf,             -inf,\n",
       "                   -inf,             -inf,             -inf,\n",
       "        -3.93473833e-04,             -inf,             -inf,\n",
       "                   -inf,             -inf,             -inf,\n",
       "                   -inf,             -inf,             -inf,\n",
       "                   -inf,             -inf,             -inf,\n",
       "        -3.93749538e-04,             -inf,             -inf,\n",
       "                   -inf,             -inf,             -inf,\n",
       "                   -inf,             -inf,             -inf,\n",
       "        -8.83310361e-04,  -1.12090268e-04,             -inf,\n",
       "                   -inf,             -inf,             -inf,\n",
       "        -4.28906061e-04,             -inf,             -inf,\n",
       "                   -inf,             -inf,             -inf,\n",
       "                   -inf,             -inf,             -inf,\n",
       "                   -inf,             -inf,             -inf,\n",
       "                   -inf,             -inf,             -inf,\n",
       "        -9.97233570e-04,             -inf,             -inf,\n",
       "                   -inf,             -inf,             -inf,\n",
       "        -4.38807423e-04,             -inf,             -inf,\n",
       "                   -inf,             -inf,             -inf,\n",
       "                   -inf,             -inf,             -inf,\n",
       "                   -inf,             -inf,             -inf,\n",
       "                   -inf,  -2.64381108e-04,             -inf,\n",
       "                   -inf,             -inf,             -inf,\n",
       "                   -inf,             -inf,  -3.70665242e-04,\n",
       "                   -inf,             -inf,             -inf,\n",
       "                   -inf,             -inf,             -inf,\n",
       "                   -inf,             -inf,             -inf])"
      ]
     },
     "execution_count": 43,
     "metadata": {},
     "output_type": "execute_result"
    }
   ],
   "source": [
    "Z[Z<0]"
   ]
  },
  {
   "cell_type": "code",
   "execution_count": null,
   "metadata": {
    "collapsed": true
   },
   "outputs": [],
   "source": [
    "1+1"
   ]
  },
  {
   "cell_type": "code",
   "execution_count": 29,
   "metadata": {
    "collapsed": false
   },
   "outputs": [
    {
     "data": {
      "text/plain": [
       "300"
      ]
     },
     "execution_count": 29,
     "metadata": {},
     "output_type": "execute_result"
    }
   ],
   "source": [
    "num_runs"
   ]
  },
  {
   "cell_type": "code",
   "execution_count": null,
   "metadata": {
    "collapsed": false
   },
   "outputs": [],
   "source": [
    "dim_x1 = []\n",
    "dim_x2 = []\n",
    "\n",
    "for i in range(num_runs):\n",
    "    dx1 = nolds.corr_dim(x1ts_list[i],10)\n",
    "    dx2 = nolds.corr_dim(x2ts_list[i],10)\n",
    "    \n",
    "    dim_x1.append(dx1)\n",
    "    dim_x2.append(dx2)\n",
    "\n",
    "np.save('dim_x1.npy', dim_x1)\n",
    "np.save('dim_x2.npy', dim_x2)"
   ]
  },
  {
   "cell_type": "code",
   "execution_count": 34,
   "metadata": {
    "collapsed": false
   },
   "outputs": [
    {
     "name": "stdout",
     "output_type": "stream",
     "text": [
      "DIM x1\n"
     ]
    },
    {
     "data": {
      "image/png": "[encoded data removed]",
      "text/plain": [
       "<matplotlib.figure.Figure at 0x2ad0357df080>"
      ]
     },
     "metadata": {},
     "output_type": "display_data"
    },
    {
     "name": "stdout",
     "output_type": "stream",
     "text": [
      "DIM x2\n"
     ]
    },
    {
     "data": {
      "image/png": "[encoded data removed]",
      "text/plain": [
       "<matplotlib.figure.Figure at 0x2ad0354fe4a8>"
      ]
     },
     "metadata": {},
     "output_type": "display_data"
    }
   ],
   "source": [
    "#PLOTTING DIM FOR X1\n",
    "print(\"DIM x1\")\n",
    "x=c_list\n",
    "y=perc_diff_list\n",
    "z=np.array(dim_x1)\n",
    "\n",
    "x=np.unique(x)\n",
    "y=np.unique(y)\n",
    "X,Y = np.meshgrid(x,y)\n",
    "\n",
    "Z= z.reshape(len(y),len(x))\n",
    "\n",
    "plt.pcolormesh(X,Y,Z)\n",
    "plt.title(\"Correlation Dimension for x1(t)\")\n",
    "plt.xlabel('Coupling Strength')\n",
    "plt.ylabel('Intrinsic Frequency Difference')\n",
    "plt.colorbar()\n",
    "\n",
    "plt.show()\n",
    "\n",
    "#PLOTTING LYAP FOR X2\n",
    "print(\"DIM x2\")\n",
    "\n",
    "x=c_list\n",
    "y=perc_diff_list\n",
    "z=np.array(dim_x2)\n",
    "\n",
    "x=np.unique(x)\n",
    "y=np.unique(y)\n",
    "X,Y = np.meshgrid(x,y)\n",
    "\n",
    "Z= z.reshape(len(y),len(x))\n",
    "\n",
    "plt.pcolormesh(X,Y,Z)\n",
    "plt.title(\"Correlation Dimension for x2(t)\")\n",
    "plt.xlabel('Coupling Strength')\n",
    "plt.ylabel('Intrinsic Frequency Difference')\n",
    "plt.colorbar()\n",
    "\n",
    "plt.show()"
   ]
  },
  {
   "cell_type": "code",
   "execution_count": null,
   "metadata": {
    "collapsed": true
   },
   "outputs": [],
   "source": []
  }
 ],
 "metadata": {
  "anaconda-cloud": {},
  "kernelspec": {
   "display_name": "Python [default]",
   "language": "python",
   "name": "python3"
  },
  "language_info": {
   "codemirror_mode": {
    "name": "ipython",
    "version": 3
   },
   "file_extension": ".py",
   "mimetype": "text/x-python",
   "name": "python",
   "nbconvert_exporter": "python",
   "pygments_lexer": "ipython3",
   "version": "3.5.2"
  }
 },
 "nbformat": 4,
 "nbformat_minor": 2
}
