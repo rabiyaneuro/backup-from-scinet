{
 "cells": [
  {
   "cell_type": "code",
   "execution_count": 2,
   "metadata": {
    "collapsed": false
   },
   "outputs": [],
   "source": [
    "import numpy as np\n",
    "from scipy.integrate import odeint\n",
    "import matplotlib.pyplot as plt\n",
    "from scipy.signal import argrelextrema\n",
    "import pandas as pd\n",
    "from scipy.signal import hilbert, chirp\n",
    "import measures as nolds"
   ]
  },
  {
   "cell_type": "code",
   "execution_count": 3,
   "metadata": {
    "collapsed": true
   },
   "outputs": [],
   "source": [
    "def var(u_e):\n",
    "    return np.var(u_e)\n",
    "\n",
    "def freq(u_e):\n",
    "    ind = argrelextrema(np.array(u_e), np.greater)\n",
    "#     print(ind)\n",
    "    diffs = np.diff(argrelextrema(np.array(u_e), np.greater))\n",
    "#     print(diffs)\n",
    "    n = int(len(diffs)/2)\n",
    "    sub_ind = diffs[n-1:n+1]\n",
    "    abso = np.absolute(sub_ind)\n",
    "#   print(mean(abso), \"here\")\n",
    "    #print(1/(0.01*mean(abso)))\n",
    "    freq = 1/np.mean(abso)\n",
    "    return 1/(0.01*np.mean(abso))\n",
    "#TIME STEP IS SIZE 0.01\n",
    "\n",
    "#print(freq(G[:,0]),freq(G[:,1]))"
   ]
  },
  {
   "cell_type": "code",
   "execution_count": 4,
   "metadata": {
    "collapsed": false
   },
   "outputs": [
    {
     "name": "stderr",
     "output_type": "stream",
     "text": [
      "/scinet/gpc/Applications/anaconda3/4.2.0_hub/lib/python3.5/site-packages/numpy/core/_methods.py:59: RuntimeWarning: Mean of empty slice.\n",
      "  warnings.warn(\"Mean of empty slice.\", RuntimeWarning)\n"
     ]
    }
   ],
   "source": [
    "#FINAL ONE\n",
    "#param\n",
    "freq_x = []\n",
    "freq_y = []\n",
    "var_x =[]\n",
    "z_list = list(np.arange(-3,0,0.05))\n",
    "for z in z_list:\n",
    "    #print(z)\n",
    "    alpha = 3\n",
    "    a = 0.7\n",
    "    b = 0.8\n",
    "    omega_sq = 1\n",
    "    #model -> G[x,y]\n",
    "\n",
    "    def model(G,t):\n",
    "        return np.array([ alpha*(G[1] + G[0] - ((G[0]**3)/3) + z), -(1/alpha)*(G[0] - a + (b*G[1]) )])\n",
    "\n",
    "    t = np.linspace(0, 100,  10000)              # time step\n",
    "    G0 = np.array([0, 0])                     # initials conditions\n",
    "    G = odeint(model, G0, t)\n",
    "\n",
    "#     plt.show()\n",
    "    freq_x.append(freq(G[:,0]))\n",
    "    var_x.append(var(G[5000:,0]))\n",
    "    freq_y.append(freq(G[:,1]))\n",
    "\n"
   ]
  },
  {
   "cell_type": "code",
   "execution_count": 5,
   "metadata": {
    "collapsed": true
   },
   "outputs": [],
   "source": [
    "#fixing the frequencies\n",
    "\n",
    "freq_new = []\n",
    "\n",
    "for i in range(len(z_list)):\n",
    "    if var_x[i] < 0.1:\n",
    "        freq_new.append(0)\n",
    "    else:\n",
    "        freq_new.append(freq_x[i])\n"
   ]
  },
  {
   "cell_type": "code",
   "execution_count": 6,
   "metadata": {
    "collapsed": false
   },
   "outputs": [
    {
     "data": {
      "image/png": "[encoded data removed]",
      "text/plain": [
       "<matplotlib.figure.Figure at 0x2b21b6748128>"
      ]
     },
     "metadata": {},
     "output_type": "display_data"
    }
   ],
   "source": [
    "# #FINAL PLOT\n",
    "plt.plot(z_list, freq_new)\n",
    "plt.xlabel(\"Stimulus, z\")\n",
    "plt.ylabel(\"Intrinsic Frequency\")\n",
    "plt.show()\n",
    "# freq_new"
   ]
  },
  {
   "cell_type": "code",
   "execution_count": 7,
   "metadata": {
    "collapsed": false
   },
   "outputs": [],
   "source": [
    "#dict of k:freq pairs\n",
    "k_freq_dict = dict(zip(z_list, freq_new))\n",
    "k_want =[]\n",
    "freq_want=[]\n",
    "for i in z_list:\n",
    "    if k_freq_dict[i] >0 :\n",
    "        k_want.append(i)\n",
    "        freq_want.append(k_freq_dict[i])"
   ]
  },
  {
   "cell_type": "code",
   "execution_count": 8,
   "metadata": {
    "collapsed": false
   },
   "outputs": [],
   "source": [
    "#appendng 0 freq\n",
    "k_want.append(z_list[31])\n",
    "freq_want.append(freq_new[31])"
   ]
  },
  {
   "cell_type": "code",
   "execution_count": 9,
   "metadata": {
    "collapsed": true
   },
   "outputs": [],
   "source": [
    "#GETTING THE VALUES FOR K1 AND K2\n",
    "table = [k_want, freq_want]\n",
    "\n",
    "\n",
    "k1_col = []\n",
    "k1freq = []\n",
    "k2_col = []\n",
    "k2freq = []\n",
    "perc_diff = []\n",
    "\n",
    "k_freq = np.transpose(table)\n",
    "k_freq\n",
    "num_k_vals = np.shape(k_freq)[0] #num of rows\n",
    "\n",
    "#k_freq is a 12x2 array with k values in first column and the corresponding freq in second, it contains the subset of k that \n",
    "#actually result in oscillations\n",
    "\n",
    "for i in range(num_k_vals):\n",
    "    for j in range(i,num_k_vals):\n",
    "        #appending the k1 value from the ith row in the first column of k_freq\n",
    "        k1_col.append(k_freq[:,0][i])\n",
    "        #appending the k1 frequency from the ith row in the second column of k_freq\n",
    "        k1freq.append(k_freq[:,1][i])\n",
    "        k2_col.append(k_freq[:,0][j])\n",
    "        k2freq.append(k_freq[:,1][j])\n",
    "        \n",
    "        #calculating the percent difference in frequencies\n",
    "        perc = (1- (min(k_freq[j,1],k_freq[i,1])/max(k_freq[j,1],k_freq[i,1])))*100\n",
    "        perc_diff.append(perc)"
   ]
  },
  {
   "cell_type": "code",
   "execution_count": 10,
   "metadata": {
    "collapsed": false
   },
   "outputs": [],
   "source": [
    "#converting to dataframe to see what data looks like\n",
    "d = {'k1': k1_col, 'freq1': k1freq, 'k2': k2_col, 'freq2': k2freq, 'perc_diff': perc_diff}\n",
    "df = pd.DataFrame(data=d)\n",
    "df\n",
    "\n",
    "df_sorted = df.sort_values(['k1', 'perc_diff'])\n",
    "df_single = df_sorted.drop_duplicates('perc_diff')\n",
    "\n",
    "df_single\n",
    "df_single_new = df_single.reset_index()\n",
    "final_df_numpy = df_single_new[1:16].values\n"
   ]
  },
  {
   "cell_type": "code",
   "execution_count": 11,
   "metadata": {
    "collapsed": false
   },
   "outputs": [
    {
     "data": {
      "text/html": [
       "<div>\n",
       "<table border=\"1\" class=\"dataframe\">\n",
       "  <thead>\n",
       "    <tr style=\"text-align: right;\">\n",
       "      <th></th>\n",
       "      <th>index</th>\n",
       "      <th>freq1</th>\n",
       "      <th>freq2</th>\n",
       "      <th>k1</th>\n",
       "      <th>k2</th>\n",
       "      <th>perc_diff</th>\n",
       "    </tr>\n",
       "  </thead>\n",
       "  <tbody>\n",
       "    <tr>\n",
       "      <th>1</th>\n",
       "      <td>0</td>\n",
       "      <td>0.080981</td>\n",
       "      <td>0.080981</td>\n",
       "      <td>-1.4</td>\n",
       "      <td>-1.40</td>\n",
       "      <td>0.000000</td>\n",
       "    </tr>\n",
       "    <tr>\n",
       "      <th>2</th>\n",
       "      <td>1</td>\n",
       "      <td>0.080981</td>\n",
       "      <td>0.089077</td>\n",
       "      <td>-1.4</td>\n",
       "      <td>-1.35</td>\n",
       "      <td>9.088674</td>\n",
       "    </tr>\n",
       "    <tr>\n",
       "      <th>3</th>\n",
       "      <td>2</td>\n",
       "      <td>0.080981</td>\n",
       "      <td>0.093371</td>\n",
       "      <td>-1.4</td>\n",
       "      <td>-1.30</td>\n",
       "      <td>13.269320</td>\n",
       "    </tr>\n",
       "    <tr>\n",
       "      <th>4</th>\n",
       "      <td>18</td>\n",
       "      <td>0.080981</td>\n",
       "      <td>0.096442</td>\n",
       "      <td>-1.4</td>\n",
       "      <td>-0.50</td>\n",
       "      <td>16.031673</td>\n",
       "    </tr>\n",
       "    <tr>\n",
       "      <th>5</th>\n",
       "      <td>3</td>\n",
       "      <td>0.080981</td>\n",
       "      <td>0.096455</td>\n",
       "      <td>-1.4</td>\n",
       "      <td>-1.25</td>\n",
       "      <td>16.042920</td>\n",
       "    </tr>\n",
       "    <tr>\n",
       "      <th>6</th>\n",
       "      <td>4</td>\n",
       "      <td>0.080981</td>\n",
       "      <td>0.098814</td>\n",
       "      <td>-1.4</td>\n",
       "      <td>-1.20</td>\n",
       "      <td>18.047200</td>\n",
       "    </tr>\n",
       "    <tr>\n",
       "      <th>7</th>\n",
       "      <td>16</td>\n",
       "      <td>0.080981</td>\n",
       "      <td>0.100660</td>\n",
       "      <td>-1.4</td>\n",
       "      <td>-0.60</td>\n",
       "      <td>19.549848</td>\n",
       "    </tr>\n",
       "    <tr>\n",
       "      <th>8</th>\n",
       "      <td>5</td>\n",
       "      <td>0.080981</td>\n",
       "      <td>0.100671</td>\n",
       "      <td>-1.4</td>\n",
       "      <td>-1.15</td>\n",
       "      <td>19.558846</td>\n",
       "    </tr>\n",
       "    <tr>\n",
       "      <th>9</th>\n",
       "      <td>15</td>\n",
       "      <td>0.080981</td>\n",
       "      <td>0.102110</td>\n",
       "      <td>-1.4</td>\n",
       "      <td>-0.65</td>\n",
       "      <td>20.692581</td>\n",
       "    </tr>\n",
       "    <tr>\n",
       "      <th>10</th>\n",
       "      <td>6</td>\n",
       "      <td>0.080981</td>\n",
       "      <td>0.102122</td>\n",
       "      <td>-1.4</td>\n",
       "      <td>-1.10</td>\n",
       "      <td>20.701578</td>\n",
       "    </tr>\n",
       "    <tr>\n",
       "      <th>11</th>\n",
       "      <td>14</td>\n",
       "      <td>0.080981</td>\n",
       "      <td>0.103223</td>\n",
       "      <td>-1.4</td>\n",
       "      <td>-0.70</td>\n",
       "      <td>21.547380</td>\n",
       "    </tr>\n",
       "    <tr>\n",
       "      <th>12</th>\n",
       "      <td>7</td>\n",
       "      <td>0.080981</td>\n",
       "      <td>0.103235</td>\n",
       "      <td>-1.4</td>\n",
       "      <td>-1.05</td>\n",
       "      <td>21.556378</td>\n",
       "    </tr>\n",
       "    <tr>\n",
       "      <th>13</th>\n",
       "      <td>8</td>\n",
       "      <td>0.080981</td>\n",
       "      <td>0.104022</td>\n",
       "      <td>-1.4</td>\n",
       "      <td>-1.00</td>\n",
       "      <td>22.150239</td>\n",
       "    </tr>\n",
       "    <tr>\n",
       "      <th>14</th>\n",
       "      <td>9</td>\n",
       "      <td>0.080981</td>\n",
       "      <td>0.104554</td>\n",
       "      <td>-1.4</td>\n",
       "      <td>-0.95</td>\n",
       "      <td>22.546146</td>\n",
       "    </tr>\n",
       "    <tr>\n",
       "      <th>15</th>\n",
       "      <td>10</td>\n",
       "      <td>0.080981</td>\n",
       "      <td>0.104822</td>\n",
       "      <td>-1.4</td>\n",
       "      <td>-0.90</td>\n",
       "      <td>22.744100</td>\n",
       "    </tr>\n",
       "  </tbody>\n",
       "</table>\n",
       "</div>"
      ],
      "text/plain": [
       "    index     freq1     freq2   k1    k2  perc_diff\n",
       "1       0  0.080981  0.080981 -1.4 -1.40   0.000000\n",
       "2       1  0.080981  0.089077 -1.4 -1.35   9.088674\n",
       "3       2  0.080981  0.093371 -1.4 -1.30  13.269320\n",
       "4      18  0.080981  0.096442 -1.4 -0.50  16.031673\n",
       "5       3  0.080981  0.096455 -1.4 -1.25  16.042920\n",
       "6       4  0.080981  0.098814 -1.4 -1.20  18.047200\n",
       "7      16  0.080981  0.100660 -1.4 -0.60  19.549848\n",
       "8       5  0.080981  0.100671 -1.4 -1.15  19.558846\n",
       "9      15  0.080981  0.102110 -1.4 -0.65  20.692581\n",
       "10      6  0.080981  0.102122 -1.4 -1.10  20.701578\n",
       "11     14  0.080981  0.103223 -1.4 -0.70  21.547380\n",
       "12      7  0.080981  0.103235 -1.4 -1.05  21.556378\n",
       "13      8  0.080981  0.104022 -1.4 -1.00  22.150239\n",
       "14      9  0.080981  0.104554 -1.4 -0.95  22.546146\n",
       "15     10  0.080981  0.104822 -1.4 -0.90  22.744100"
      ]
     },
     "execution_count": 11,
     "metadata": {},
     "output_type": "execute_result"
    }
   ],
   "source": [
    "df_single_new[1:16]"
   ]
  },
  {
   "cell_type": "code",
   "execution_count": 12,
   "metadata": {
    "collapsed": false
   },
   "outputs": [],
   "source": [
    "# #fixing the perc diff values -- final_df_numpy\n",
    "# df_numpy = df_final.values\n",
    "arr_perc_diff = final_df_numpy[:,5] #saving the 5th column (the percent differences)\n"
   ]
  },
  {
   "cell_type": "code",
   "execution_count": 12,
   "metadata": {
    "collapsed": true
   },
   "outputs": [],
   "source": [
    "#PART 2, PLOTTING COUPLED OSCI\n",
    "#The following code defines the \"right hand side\" of the system of equations (also known as a vector field). \n",
    "\n",
    "from scipy.integrate import odeint\n",
    "import matplotlib.pyplot as plt\n",
    "\n",
    "def vectorfield(w, t, p):\n",
    "    \"\"\"\n",
    "    Defines the differential equations for the coupled spring-mass system.\n",
    "\n",
    "    Arguments:\n",
    "        w :  vector of the state variables:\n",
    "                  w = [x1,y1,x2,y2]\n",
    "        t :  time\n",
    "        p :  vector of the parameters:\n",
    "                  p = [alpha, k1, k2, c, b,a]\n",
    "    \"\"\"\n",
    "    x1, y1, x2, y2 = w\n",
    "    alpha, k1, k2, c, b, a = p\n",
    "\n",
    "    # Create f = (x1',y1',x2',y2'):\n",
    "    f = [ alpha*(y1 + x1 - ((x1**3)/3) + k1+ c*x2),\n",
    "         -(1/alpha)*( x1- a + (b*y1)), \n",
    "         alpha*(y2 + x2 - ((x2**3)/3) + k2+ c*x1),\n",
    "        -(1/alpha)*( x2- a + (b*y2))]\n",
    "    \n",
    "    return f"
   ]
  },
  {
   "cell_type": "code",
   "execution_count": 14,
   "metadata": {
    "collapsed": true
   },
   "outputs": [],
   "source": [
    "# Use ODEINT to solve the differential equations defined by the vector field\n",
    "solution_list = [] #from this we can get time series for everything\n",
    "\n",
    "freq_listx1 = []\n",
    "freq_listx2 = []\n",
    "\n",
    "var_listx1 = []\n",
    "var_listx2 = []\n",
    "\n",
    "x1ts_list = []\n",
    "x2ts_list = []\n",
    "\n",
    "c_list = np.linspace(0,1.5,150)\n",
    "\n",
    "# freq_listy2 = []\n",
    "# freq_listy1 = []\n",
    "# var_listy1 = []\n",
    "# var_listy2 = []\n",
    "\n",
    "#for each row in final_df_numpy set the k1 and k2\n",
    "for i in range(np.shape(final_df_numpy)[0]):\n",
    "    k1 = final_df_numpy[i,2]\n",
    "    k2 = final_df_numpy[i,3]\n",
    "    \n",
    "    for c in c_list:\n",
    "\n",
    "        # Parameter values\n",
    "        alpha = 3\n",
    "        a = 0.7\n",
    "        b = 0.8\n",
    "\n",
    "        # Initial conditions\n",
    "        x1 = 0.0\n",
    "        y1 = 0.0\n",
    "        x2 = 0.0\n",
    "        y2 = 0.0\n",
    "\n",
    "        # Pack up the parameters and initial conditions:\n",
    "        p = [alpha, k1, k2, c, b, a]\n",
    "        w0 = [x1, y1, x2, y2]\n",
    "        t = np.linspace(0, 100,  10000)              # time step\n",
    "\n",
    "        #Call the ODE solver.\n",
    "        wsol = odeint(vectorfield, w0, t, args=(p,))\n",
    "        \n",
    "        x1= wsol[:,0]\n",
    "        x2= wsol[:,2]\n",
    "        \n",
    "\n",
    "        solution_list.append(wsol)\n",
    "        \n",
    "        freq_listx1.append(freq(x1))\n",
    "        freq_listx2.append(freq(x2))\n",
    "        \n",
    "        var_listx2.append(var(x2))\n",
    "        var_listx1.append(var(x1))\n",
    "\n",
    "        x1ts_list.append(x1)\n",
    "        x2ts_list.append(x2)\n",
    "        \n",
    "\n",
    "#         y1= wsol[:,1]\n",
    "#         y2= wsol[:,3]\n",
    "#         freq_listy1.append(freq(y1))\n",
    "#         freq_listy2.append(freq(y2))\n",
    "#         var_listy2.append(var(y2))\n",
    "#         var_listy1.append(var(y1))"
   ]
  },
  {
   "cell_type": "code",
   "execution_count": 15,
   "metadata": {
    "collapsed": false
   },
   "outputs": [],
   "source": [
    "num_runs = len(x1ts_list)"
   ]
  },
  {
   "cell_type": "code",
   "execution_count": 16,
   "metadata": {
    "collapsed": false
   },
   "outputs": [
    {
     "name": "stdout",
     "output_type": "stream",
     "text": [
      "20 15\n",
      "300 300 300\n"
     ]
    }
   ],
   "source": [
    "#data to use for the rest of the proj\n",
    "# x axis - c_list\n",
    "c_list = np.linspace(0,0.04,20)\n",
    "\n",
    "#y_axis\n",
    "arr_perc_diff = final_df_numpy[:,5]\n",
    "\n",
    "print(len(c_list), len(arr_perc_diff))\n",
    "print(num_runs, len(x1ts_list), len(c_list)*len(arr_perc_diff))"
   ]
  },
  {
   "cell_type": "code",
   "execution_count": 1,
   "metadata": {
    "collapsed": false
   },
   "outputs": [
    {
     "ename": "NameError",
     "evalue": "name 'num_runs' is not defined",
     "output_type": "error",
     "traceback": [
      "\u001b[0;31m---------------------------------------------------------------------------\u001b[0m",
      "\u001b[0;31mNameError\u001b[0m                                 Traceback (most recent call last)",
      "\u001b[0;32m<ipython-input-1-5d92d57f5500>\u001b[0m in \u001b[0;36m<module>\u001b[0;34m()\u001b[0m\n\u001b[1;32m     14\u001b[0m \u001b[0mnew_phase_list\u001b[0m \u001b[0;34m=\u001b[0m \u001b[0;34m[\u001b[0m\u001b[0;34m]\u001b[0m\u001b[0;34m\u001b[0m\u001b[0m\n\u001b[1;32m     15\u001b[0m \u001b[0;34m\u001b[0m\u001b[0m\n\u001b[0;32m---> 16\u001b[0;31m \u001b[0;32mfor\u001b[0m \u001b[0mi\u001b[0m \u001b[0;32min\u001b[0m \u001b[0mrange\u001b[0m\u001b[0;34m(\u001b[0m\u001b[0mnum_runs\u001b[0m\u001b[0;34m)\u001b[0m\u001b[0;34m:\u001b[0m\u001b[0;34m\u001b[0m\u001b[0m\n\u001b[0m\u001b[1;32m     17\u001b[0m     \u001b[0;31m#print(i)\u001b[0m\u001b[0;34m\u001b[0m\u001b[0;34m\u001b[0m\u001b[0m\n\u001b[1;32m     18\u001b[0m     \u001b[0msignal1\u001b[0m \u001b[0;34m=\u001b[0m \u001b[0mx1ts_list\u001b[0m\u001b[0;34m[\u001b[0m\u001b[0mi\u001b[0m\u001b[0;34m]\u001b[0m\u001b[0;34m\u001b[0m\u001b[0m\n",
      "\u001b[0;31mNameError\u001b[0m: name 'num_runs' is not defined"
     ]
    }
   ],
   "source": [
    "##CALCULATING THE R AGAIN BUT THIS WITH A DIFFERENT TECHNIQUE\n",
    "\n",
    "## testing\n",
    "#len(x1ts_list)\n",
    "# signal = x1ts_list[0]\n",
    "# analytic_signal = hilbert(x1ts_list[0])\n",
    "# amplitude_envelope = np.abs(analytic_signal)\n",
    "# instantaneous_phase = np.unwrap(np.angle(analytic_signal))\n",
    "# np.shape(instantaneous_phase)\n",
    "# plt.plot(instantaneous_phase)\n",
    "# plt.show()\n",
    "\n",
    "#CALCULATING\n",
    "new_phase_list = []\n",
    "\n",
    "for i in range(num_runs):\n",
    "    #print(i)\n",
    "    signal1 = x1ts_list[i]\n",
    "    signal2 = x2ts_list[i]\n",
    "\n",
    "    analytic_signal1 = hilbert(signal1)\n",
    "    analytic_signal2 = hilbert(signal2)\n",
    "\n",
    "    instantaneous_phase1 = np.unwrap(np.angle(analytic_signal1))\n",
    "    instantaneous_phase2 = np.unwrap(np.angle(analytic_signal2))\n",
    "    \n",
    "    diff = instantaneous_phase1 - instantaneous_phase2\n",
    "    r = np.abs(np.sum(np.exp(1j*diff))/len(signal1))\n",
    "    \n",
    "    new_phase_list.append(r)\n",
    "    \n",
    "# PLOTTING\n",
    "x=c_list\n",
    "y=arr_perc_diff #this is the last column - list of percent differences (15 of them)\n",
    "z=np.array(new_phase_list)\n",
    "\n",
    "x=np.unique(x)\n",
    "y=np.unique(y)\n",
    "X,Y = np.meshgrid(x,y)\n",
    "\n",
    "Z= z.reshape(len(y),len(x))\n",
    "\n",
    "# plt.pcolormesh(X,Y,Z,edgecolor='k')\n",
    "plt.pcolormesh(X,Y,Z)\n",
    "plt.xlabel('Symmetric Coupling Strength, c')\n",
    "plt.ylabel('Intrinsic Frequency Difference (%)')\n",
    "plt.title('Phase Coherence Index, R')\n",
    "plt.colorbar()\n",
    "plt.show()"
   ]
  },
  {
   "cell_type": "code",
   "execution_count": 18,
   "metadata": {
    "collapsed": false
   },
   "outputs": [
    {
     "name": "stdout",
     "output_type": "stream",
     "text": [
      "98\n",
      "99\n",
      "100\n",
      "101\n",
      "102\n",
      "103\n",
      "104\n",
      "105\n",
      "106\n",
      "107\n",
      "108\n",
      "109\n",
      "110\n",
      "111\n",
      "112\n",
      "113\n",
      "114\n",
      "115\n",
      "116\n",
      "117\n",
      "118\n",
      "119\n",
      "120\n",
      "121\n",
      "122\n",
      "123\n",
      "124\n",
      "125\n",
      "126\n",
      "127\n",
      "128\n",
      "129\n",
      "130\n",
      "131\n",
      "132\n",
      "133\n",
      "134\n",
      "135\n",
      "136\n",
      "137\n",
      "138\n",
      "139\n",
      "140\n",
      "141\n",
      "142\n",
      "143\n",
      "144\n",
      "145\n",
      "146\n",
      "147\n"
     ]
    }
   ],
   "source": [
    "dim_x1 = []\n",
    "dim_x2 = []\n",
    "\n",
    "for i in range(98,148):\n",
    "    print(i)\n",
    "    dx1 = nolds.corr_dim(x1ts_list[i],5)\n",
    "    dx2 = nolds.corr_dim(x2ts_list[i],5)\n",
    "    \n",
    "    dim_x1.append(dx1)\n",
    "    dim_x2.append(dx2)\n",
    "\n",
    "np.save('4dim_x10p04.npy', dim_x1)\n",
    "np.save('4dim_x20p04.npy', dim_x2)"
   ]
  },
  {
   "cell_type": "code",
   "execution_count": 34,
   "metadata": {
    "collapsed": false
   },
   "outputs": [
    {
     "name": "stdout",
     "output_type": "stream",
     "text": [
      "DIM x1\n"
     ]
    },
    {
     "data": {
      "image/png": "[encoded data removed]",
      "text/plain": [
       "<matplotlib.figure.Figure at 0x2ad0357df080>"
      ]
     },
     "metadata": {},
     "output_type": "display_data"
    },
    {
     "name": "stdout",
     "output_type": "stream",
     "text": [
      "DIM x2\n"
     ]
    },
    {
     "data": {
      "image/png": "[encoded data removed]",
      "text/plain": [
       "<matplotlib.figure.Figure at 0x2ad0354fe4a8>"
      ]
     },
     "metadata": {},
     "output_type": "display_data"
    }
   ],
   "source": [
    "#PLOTTING DIM FOR X1\n",
    "print(\"DIM x1\")\n",
    "x=c_list\n",
    "y=perc_diff_list\n",
    "z=np.array(dim_x1)\n",
    "\n",
    "x=np.unique(x)\n",
    "y=np.unique(y)\n",
    "X,Y = np.meshgrid(x,y)\n",
    "\n",
    "Z= z.reshape(len(y),len(x))\n",
    "\n",
    "plt.pcolormesh(X,Y,Z)\n",
    "plt.title(\"Correlation Dimension for x1(t)\")\n",
    "plt.xlabel('Coupling Strength')\n",
    "plt.ylabel('Intrinsic Frequency Difference')\n",
    "plt.colorbar()\n",
    "\n",
    "plt.show()\n",
    "\n",
    "#PLOTTING LYAP FOR X2\n",
    "print(\"DIM x2\")\n",
    "\n",
    "x=c_list\n",
    "y=perc_diff_list\n",
    "z=np.array(dim_x2)\n",
    "\n",
    "x=np.unique(x)\n",
    "y=np.unique(y)\n",
    "X,Y = np.meshgrid(x,y)\n",
    "\n",
    "Z= z.reshape(len(y),len(x))\n",
    "\n",
    "plt.pcolormesh(X,Y,Z)\n",
    "plt.title(\"Correlation Dimension for x2(t)\")\n",
    "plt.xlabel('Coupling Strength')\n",
    "plt.ylabel('Intrinsic Frequency Difference')\n",
    "plt.colorbar()\n",
    "\n",
    "plt.show()"
   ]
  },
  {
   "cell_type": "code",
   "execution_count": null,
   "metadata": {
    "collapsed": true
   },
   "outputs": [],
   "source": []
  }
 ],
 "metadata": {
  "anaconda-cloud": {},
  "kernelspec": {
   "display_name": "Python [default]",
   "language": "python",
   "name": "python3"
  },
  "language_info": {
   "codemirror_mode": {
    "name": "ipython",
    "version": 3
   },
   "file_extension": ".py",
   "mimetype": "text/x-python",
   "name": "python",
   "nbconvert_exporter": "python",
   "pygments_lexer": "ipython3",
   "version": "3.5.2"
  }
 },
 "nbformat": 4,
 "nbformat_minor": 2
}
