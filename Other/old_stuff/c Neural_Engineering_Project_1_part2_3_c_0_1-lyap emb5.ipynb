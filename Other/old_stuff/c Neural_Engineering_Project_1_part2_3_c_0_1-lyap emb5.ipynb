{
 "cells": [
  {
   "cell_type": "code",
   "execution_count": 119,
   "metadata": {
    "collapsed": false
   },
   "outputs": [],
   "source": [
    "import numpy as np\n",
    "from scipy.integrate import odeint\n",
    "import matplotlib.pyplot as plt\n",
    "from scipy.signal import argrelextrema\n",
    "import pandas as pd\n",
    "from scipy.signal import hilbert, chirp\n",
    "import measures as nolds"
   ]
  },
  {
   "cell_type": "code",
   "execution_count": 4,
   "metadata": {
    "collapsed": true
   },
   "outputs": [],
   "source": [
    "def var(u_e):\n",
    "    return np.var(u_e)\n",
    "\n",
    "def freq(u_e):\n",
    "    ind = argrelextrema(np.array(u_e), np.greater)\n",
    "#     print(ind)\n",
    "    diffs = np.diff(argrelextrema(np.array(u_e), np.greater))\n",
    "#     print(diffs)\n",
    "    n = int(len(diffs)/2)\n",
    "    sub_ind = diffs[n-1:n+1]\n",
    "    abso = np.absolute(sub_ind)\n",
    "#   print(mean(abso), \"here\")\n",
    "    #print(1/(0.01*mean(abso)))\n",
    "    freq = 1/np.mean(abso)\n",
    "    return 1/(0.01*np.mean(abso))\n",
    "#TIME STEP IS SIZE 0.01\n",
    "\n",
    "#print(freq(G[:,0]),freq(G[:,1]))"
   ]
  },
  {
   "cell_type": "code",
   "execution_count": 85,
   "metadata": {
    "collapsed": false
   },
   "outputs": [
    {
     "name": "stderr",
     "output_type": "stream",
     "text": [
      "/scinet/gpc/Applications/anaconda3/4.2.0_hub/lib/python3.5/site-packages/numpy/core/_methods.py:59: RuntimeWarning: Mean of empty slice.\n",
      "  warnings.warn(\"Mean of empty slice.\", RuntimeWarning)\n"
     ]
    }
   ],
   "source": [
    "#FINAL ONE\n",
    "#param\n",
    "freq_x = []\n",
    "freq_y = []\n",
    "var_x =[]\n",
    "z_list = list(np.arange(-3,0,0.05))\n",
    "for z in z_list:\n",
    "    #print(z)\n",
    "    alpha = 3\n",
    "    a = 0.7\n",
    "    b = 0.8\n",
    "    omega_sq = 1\n",
    "    #model -> G[x,y]\n",
    "\n",
    "    def model(G,t):\n",
    "        return np.array([ alpha*(G[1] + G[0] - ((G[0]**3)/3) + z), -(1/alpha)*(G[0] - a + (b*G[1]) )])\n",
    "\n",
    "    t = np.linspace(0, 100,  10000)              # time step\n",
    "    G0 = np.array([0, 0])                     # initials conditions\n",
    "    G = odeint(model, G0, t)\n",
    "\n",
    "#     plt.show()\n",
    "    freq_x.append(freq(G[:,0]))\n",
    "    var_x.append(var(G[5000:,0]))\n",
    "    freq_y.append(freq(G[:,1]))\n",
    "\n"
   ]
  },
  {
   "cell_type": "code",
   "execution_count": 86,
   "metadata": {
    "collapsed": true
   },
   "outputs": [],
   "source": [
    "#fixing the frequencies\n",
    "\n",
    "freq_new = []\n",
    "\n",
    "for i in range(len(z_list)):\n",
    "    if var_x[i] < 0.1:\n",
    "        freq_new.append(0)\n",
    "    else:\n",
    "        freq_new.append(freq_x[i])\n"
   ]
  },
  {
   "cell_type": "code",
   "execution_count": 87,
   "metadata": {
    "collapsed": false
   },
   "outputs": [
    {
     "data": {
      "image/png": "[encoded data removed]",
      "text/plain": [
       "<matplotlib.figure.Figure at 0x2b2ca1188ba8>"
      ]
     },
     "metadata": {},
     "output_type": "display_data"
    }
   ],
   "source": [
    "# #FINAL PLOT\n",
    "plt.plot(z_list, freq_new)\n",
    "plt.xlabel(\"Stimulus, z\")\n",
    "plt.ylabel(\"Intrinsic Frequency\")\n",
    "plt.show()\n",
    "# freq_new"
   ]
  },
  {
   "cell_type": "code",
   "execution_count": 88,
   "metadata": {
    "collapsed": false
   },
   "outputs": [],
   "source": [
    "#dict of k:freq pairs\n",
    "k_freq_dict = dict(zip(z_list, freq_new))\n",
    "k_want =[]\n",
    "freq_want=[]\n",
    "for i in z_list:\n",
    "    if k_freq_dict[i] >0 :\n",
    "        k_want.append(i)\n",
    "        freq_want.append(k_freq_dict[i])"
   ]
  },
  {
   "cell_type": "code",
   "execution_count": 89,
   "metadata": {
    "collapsed": false
   },
   "outputs": [],
   "source": [
    "#appendng 0 freq\n",
    "k_want.append(z_list[31])\n",
    "freq_want.append(freq_new[31])"
   ]
  },
  {
   "cell_type": "code",
   "execution_count": 90,
   "metadata": {
    "collapsed": false
   },
   "outputs": [
    {
     "data": {
      "text/plain": [
       "[-1.4000000000000057,\n",
       " -1.3500000000000059,\n",
       " -1.300000000000006,\n",
       " -1.2500000000000062,\n",
       " -1.2000000000000064,\n",
       " -1.1500000000000066,\n",
       " -1.1000000000000068,\n",
       " -1.0500000000000069,\n",
       " -1.0000000000000071,\n",
       " -0.95000000000000728,\n",
       " -0.90000000000000746,\n",
       " -0.85000000000000764,\n",
       " -0.80000000000000782,\n",
       " -0.75000000000000799,\n",
       " -0.70000000000000817,\n",
       " -0.65000000000000835,\n",
       " -0.60000000000000853,\n",
       " -0.5500000000000087,\n",
       " -0.50000000000000888,\n",
       " -0.45000000000000906,\n",
       " -0.40000000000000924,\n",
       " -0.35000000000000941,\n",
       " -1.4500000000000055]"
      ]
     },
     "execution_count": 90,
     "metadata": {},
     "output_type": "execute_result"
    }
   ],
   "source": [
    "k_want"
   ]
  },
  {
   "cell_type": "code",
   "execution_count": 91,
   "metadata": {
    "collapsed": true
   },
   "outputs": [],
   "source": [
    "#GETTING THE VALUES FOR K1 AND K2\n",
    "table = [k_want, freq_want]\n",
    "\n",
    "\n",
    "k1_col = []\n",
    "k1freq = []\n",
    "k2_col = []\n",
    "k2freq = []\n",
    "perc_diff = []\n",
    "\n",
    "k_freq = np.transpose(table)\n",
    "k_freq\n",
    "num_k_vals = np.shape(k_freq)[0] #num of rows\n",
    "\n",
    "#k_freq is a 12x2 array with k values in first column and the corresponding freq in second, it contains the subset of k that \n",
    "#actually result in oscillations\n",
    "\n",
    "for i in range(num_k_vals):\n",
    "    for j in range(i,num_k_vals):\n",
    "        #appending the k1 value from the ith row in the first column of k_freq\n",
    "        k1_col.append(k_freq[:,0][i])\n",
    "        #appending the k1 frequency from the ith row in the second column of k_freq\n",
    "        k1freq.append(k_freq[:,1][i])\n",
    "        k2_col.append(k_freq[:,0][j])\n",
    "        k2freq.append(k_freq[:,1][j])\n",
    "        \n",
    "        #calculating the percent difference in frequencies\n",
    "        perc = (1- (min(k_freq[j,1],k_freq[i,1])/max(k_freq[j,1],k_freq[i,1])))*100\n",
    "        perc_diff.append(perc)"
   ]
  },
  {
   "cell_type": "code",
   "execution_count": 105,
   "metadata": {
    "collapsed": false,
    "scrolled": true
   },
   "outputs": [],
   "source": [
    "#converting to dataframe to see what data looks like\n",
    "d = {'k1': k1_col, 'freq1': k1freq, 'k2': k2_col, 'freq2': k2freq, 'perc_diff': perc_diff}\n",
    "df = pd.DataFrame(data=d)\n",
    "df\n",
    "\n",
    "df_sorted = df.sort_values(['k1', 'perc_diff'])\n",
    "df_single = df_sorted.drop_duplicates('perc_diff')\n",
    "\n",
    "df_single\n",
    "df_single_new = df_single.reset_index()\n",
    "final_df_numpy = df_single_new[1:16].values"
   ]
  },
  {
   "cell_type": "code",
   "execution_count": 114,
   "metadata": {
    "collapsed": false
   },
   "outputs": [
    {
     "data": {
      "text/plain": [
       "(15, 6)"
      ]
     },
     "execution_count": 114,
     "metadata": {},
     "output_type": "execute_result"
    }
   ],
   "source": [
    "np.shape(final_df_numpy)"
   ]
  },
  {
   "cell_type": "code",
   "execution_count": 110,
   "metadata": {
    "collapsed": false
   },
   "outputs": [
    {
     "data": {
      "text/html": [
       "<div>\n",
       "<table border=\"1\" class=\"dataframe\">\n",
       "  <thead>\n",
       "    <tr style=\"text-align: right;\">\n",
       "      <th></th>\n",
       "      <th>index</th>\n",
       "      <th>freq1</th>\n",
       "      <th>freq2</th>\n",
       "      <th>k1</th>\n",
       "      <th>k2</th>\n",
       "      <th>perc_diff</th>\n",
       "    </tr>\n",
       "  </thead>\n",
       "  <tbody>\n",
       "    <tr>\n",
       "      <th>1</th>\n",
       "      <td>0</td>\n",
       "      <td>0.080981</td>\n",
       "      <td>0.080981</td>\n",
       "      <td>-1.4</td>\n",
       "      <td>-1.40</td>\n",
       "      <td>0.000000</td>\n",
       "    </tr>\n",
       "    <tr>\n",
       "      <th>2</th>\n",
       "      <td>1</td>\n",
       "      <td>0.080981</td>\n",
       "      <td>0.089077</td>\n",
       "      <td>-1.4</td>\n",
       "      <td>-1.35</td>\n",
       "      <td>9.088674</td>\n",
       "    </tr>\n",
       "    <tr>\n",
       "      <th>3</th>\n",
       "      <td>2</td>\n",
       "      <td>0.080981</td>\n",
       "      <td>0.093371</td>\n",
       "      <td>-1.4</td>\n",
       "      <td>-1.30</td>\n",
       "      <td>13.269320</td>\n",
       "    </tr>\n",
       "    <tr>\n",
       "      <th>4</th>\n",
       "      <td>18</td>\n",
       "      <td>0.080981</td>\n",
       "      <td>0.096442</td>\n",
       "      <td>-1.4</td>\n",
       "      <td>-0.50</td>\n",
       "      <td>16.031673</td>\n",
       "    </tr>\n",
       "    <tr>\n",
       "      <th>5</th>\n",
       "      <td>3</td>\n",
       "      <td>0.080981</td>\n",
       "      <td>0.096455</td>\n",
       "      <td>-1.4</td>\n",
       "      <td>-1.25</td>\n",
       "      <td>16.042920</td>\n",
       "    </tr>\n",
       "    <tr>\n",
       "      <th>6</th>\n",
       "      <td>4</td>\n",
       "      <td>0.080981</td>\n",
       "      <td>0.098814</td>\n",
       "      <td>-1.4</td>\n",
       "      <td>-1.20</td>\n",
       "      <td>18.047200</td>\n",
       "    </tr>\n",
       "    <tr>\n",
       "      <th>7</th>\n",
       "      <td>16</td>\n",
       "      <td>0.080981</td>\n",
       "      <td>0.100660</td>\n",
       "      <td>-1.4</td>\n",
       "      <td>-0.60</td>\n",
       "      <td>19.549848</td>\n",
       "    </tr>\n",
       "    <tr>\n",
       "      <th>8</th>\n",
       "      <td>5</td>\n",
       "      <td>0.080981</td>\n",
       "      <td>0.100671</td>\n",
       "      <td>-1.4</td>\n",
       "      <td>-1.15</td>\n",
       "      <td>19.558846</td>\n",
       "    </tr>\n",
       "    <tr>\n",
       "      <th>9</th>\n",
       "      <td>15</td>\n",
       "      <td>0.080981</td>\n",
       "      <td>0.102110</td>\n",
       "      <td>-1.4</td>\n",
       "      <td>-0.65</td>\n",
       "      <td>20.692581</td>\n",
       "    </tr>\n",
       "    <tr>\n",
       "      <th>10</th>\n",
       "      <td>6</td>\n",
       "      <td>0.080981</td>\n",
       "      <td>0.102122</td>\n",
       "      <td>-1.4</td>\n",
       "      <td>-1.10</td>\n",
       "      <td>20.701578</td>\n",
       "    </tr>\n",
       "    <tr>\n",
       "      <th>11</th>\n",
       "      <td>14</td>\n",
       "      <td>0.080981</td>\n",
       "      <td>0.103223</td>\n",
       "      <td>-1.4</td>\n",
       "      <td>-0.70</td>\n",
       "      <td>21.547380</td>\n",
       "    </tr>\n",
       "    <tr>\n",
       "      <th>12</th>\n",
       "      <td>7</td>\n",
       "      <td>0.080981</td>\n",
       "      <td>0.103235</td>\n",
       "      <td>-1.4</td>\n",
       "      <td>-1.05</td>\n",
       "      <td>21.556378</td>\n",
       "    </tr>\n",
       "    <tr>\n",
       "      <th>13</th>\n",
       "      <td>8</td>\n",
       "      <td>0.080981</td>\n",
       "      <td>0.104022</td>\n",
       "      <td>-1.4</td>\n",
       "      <td>-1.00</td>\n",
       "      <td>22.150239</td>\n",
       "    </tr>\n",
       "    <tr>\n",
       "      <th>14</th>\n",
       "      <td>9</td>\n",
       "      <td>0.080981</td>\n",
       "      <td>0.104554</td>\n",
       "      <td>-1.4</td>\n",
       "      <td>-0.95</td>\n",
       "      <td>22.546146</td>\n",
       "    </tr>\n",
       "    <tr>\n",
       "      <th>15</th>\n",
       "      <td>10</td>\n",
       "      <td>0.080981</td>\n",
       "      <td>0.104822</td>\n",
       "      <td>-1.4</td>\n",
       "      <td>-0.90</td>\n",
       "      <td>22.744100</td>\n",
       "    </tr>\n",
       "  </tbody>\n",
       "</table>\n",
       "</div>"
      ],
      "text/plain": [
       "    index     freq1     freq2   k1    k2  perc_diff\n",
       "1       0  0.080981  0.080981 -1.4 -1.40   0.000000\n",
       "2       1  0.080981  0.089077 -1.4 -1.35   9.088674\n",
       "3       2  0.080981  0.093371 -1.4 -1.30  13.269320\n",
       "4      18  0.080981  0.096442 -1.4 -0.50  16.031673\n",
       "5       3  0.080981  0.096455 -1.4 -1.25  16.042920\n",
       "6       4  0.080981  0.098814 -1.4 -1.20  18.047200\n",
       "7      16  0.080981  0.100660 -1.4 -0.60  19.549848\n",
       "8       5  0.080981  0.100671 -1.4 -1.15  19.558846\n",
       "9      15  0.080981  0.102110 -1.4 -0.65  20.692581\n",
       "10      6  0.080981  0.102122 -1.4 -1.10  20.701578\n",
       "11     14  0.080981  0.103223 -1.4 -0.70  21.547380\n",
       "12      7  0.080981  0.103235 -1.4 -1.05  21.556378\n",
       "13      8  0.080981  0.104022 -1.4 -1.00  22.150239\n",
       "14      9  0.080981  0.104554 -1.4 -0.95  22.546146\n",
       "15     10  0.080981  0.104822 -1.4 -0.90  22.744100"
      ]
     },
     "execution_count": 110,
     "metadata": {},
     "output_type": "execute_result"
    }
   ],
   "source": [
    "df_single_new[1:16]"
   ]
  },
  {
   "cell_type": "code",
   "execution_count": 123,
   "metadata": {
    "collapsed": false
   },
   "outputs": [],
   "source": [
    "# #fixing the perc diff values -- final_df_numpy\n",
    "# df_numpy = df_final.values\n",
    "arr_perc_diff = final_df_numpy[:,5] #saving the 5th column (the percent differences)\n",
    "\n",
    "# indices = [len(arr_perc_diff)-1] #saving a list of indices to remove rows from df_numpy becuase we don't want\n",
    "#                                         #we don't want freq diff too close to one another\n",
    "#                                         #the first element is the last index bc we dont want 100% diff (skews graph)\n",
    "# first_diff = np.round(np.diff(arr_perc_diff))\n",
    "\n",
    "# #going through first difference\n",
    "# for i in range(len(first_diff)):\n",
    "#     if first_diff[i] < 1:\n",
    "#         indices.append(i)\n",
    "\n",
    "# final_df_numpy = np.delete(df_numpy, indices, 0)\n",
    "# #now final_df_numpy is same as df_numpy except a bunch of rows removed that we don't need\n",
    "# print(final_df_numpy[:,4])\n",
    "# print(np.shape(final_df_numpy))"
   ]
  },
  {
   "cell_type": "code",
   "execution_count": 106,
   "metadata": {
    "collapsed": true
   },
   "outputs": [],
   "source": [
    "#PART 2, PLOTTING COUPLED OSCI\n",
    "#The following code defines the \"right hand side\" of the system of equations (also known as a vector field). \n",
    "\n",
    "from scipy.integrate import odeint\n",
    "import matplotlib.pyplot as plt\n",
    "\n",
    "def vectorfield(w, t, p):\n",
    "    \"\"\"\n",
    "    Defines the differential equations for the coupled spring-mass system.\n",
    "\n",
    "    Arguments:\n",
    "        w :  vector of the state variables:\n",
    "                  w = [x1,y1,x2,y2]\n",
    "        t :  time\n",
    "        p :  vector of the parameters:\n",
    "                  p = [alpha, k1, k2, c, b,a]\n",
    "    \"\"\"\n",
    "    x1, y1, x2, y2 = w\n",
    "    alpha, k1, k2, c, b, a = p\n",
    "\n",
    "    # Create f = (x1',y1',x2',y2'):\n",
    "    f = [ alpha*(y1 + x1 - ((x1**3)/3) + k1+ c*x2),\n",
    "         -(1/alpha)*( x1- a + (b*y1)), \n",
    "         alpha*(y2 + x2 - ((x2**3)/3) + k2+ c*x1),\n",
    "        -(1/alpha)*( x2- a + (b*y2))]\n",
    "    \n",
    "    return f"
   ]
  },
  {
   "cell_type": "code",
   "execution_count": 109,
   "metadata": {
    "collapsed": false
   },
   "outputs": [
    {
     "data": {
      "text/plain": [
       "array([ 0.08098103,  0.08907694,  0.09337068,  0.09644235,  0.09645527,\n",
       "        0.09881423,  0.10065988,  0.10067114,  0.10211028,  0.10212187,\n",
       "        0.10322285,  0.10323469,  0.10402219,  0.1045539 ,  0.1048218 ])"
      ]
     },
     "execution_count": 109,
     "metadata": {},
     "output_type": "execute_result"
    }
   ],
   "source": [
    "final_df_numpy[:,2]"
   ]
  },
  {
   "cell_type": "code",
   "execution_count": 115,
   "metadata": {
    "collapsed": false
   },
   "outputs": [
    {
     "name": "stderr",
     "output_type": "stream",
     "text": [
      "/scinet/gpc/Applications/anaconda3/4.2.0_hub/lib/python3.5/site-packages/numpy/core/_methods.py:59: RuntimeWarning: Mean of empty slice.\n",
      "  warnings.warn(\"Mean of empty slice.\", RuntimeWarning)\n"
     ]
    }
   ],
   "source": [
    "# Use ODEINT to solve the differential equations defined by the vector field\n",
    "solution_list = [] #from this we can get time series for everything\n",
    "\n",
    "freq_listx1 = []\n",
    "freq_listx2 = []\n",
    "\n",
    "var_listx1 = []\n",
    "var_listx2 = []\n",
    "\n",
    "x1ts_list = []\n",
    "x2ts_list = []\n",
    "\n",
    "c_list = np.linspace(0,1,20)\n",
    "\n",
    "#for each row in final_df_numpy set the k1 and k2\n",
    "for i in range(np.shape(final_df_numpy)[0]):\n",
    "    k1 = final_df_numpy[i,3]\n",
    "    k2 = final_df_numpy[i,4]\n",
    "    \n",
    "    for c in c_list:\n",
    "\n",
    "        # Parameter values\n",
    "        alpha = 3\n",
    "        a = 0.7\n",
    "        b = 0.8\n",
    "\n",
    "        # Initial conditions\n",
    "        x1 = 0.0\n",
    "        y1 = 0.0\n",
    "        x2 = 0.0\n",
    "        y2 = 0.0\n",
    "\n",
    "        # Pack up the parameters and initial conditions:\n",
    "        p = [alpha, k1, k2, c, b, a]\n",
    "        w0 = [x1, y1, x2, y2]\n",
    "        t = np.linspace(0, 100,  10000)              # time step\n",
    "\n",
    "        #Call the ODE solver.\n",
    "        wsol = odeint(vectorfield, w0, t, args=(p,))\n",
    "        \n",
    "        x1= wsol[:,0]\n",
    "        x2= wsol[:,2]\n",
    "        \n",
    "\n",
    "        solution_list.append(wsol)\n",
    "        \n",
    "        freq_listx1.append(freq(x1))\n",
    "        freq_listx2.append(freq(x2))\n",
    "        \n",
    "        var_listx2.append(var(x2))\n",
    "        var_listx1.append(var(x1))\n",
    "\n",
    "        x1ts_list.append(x1)\n",
    "        x2ts_list.append(x2)\n",
    "\n",
    "np.save('x1ts_listLATEST.npy', x1ts_list)\n",
    "np.save('x2ts_listLATEST.npy',x2ts_list)"
   ]
  },
  {
   "cell_type": "code",
   "execution_count": 117,
   "metadata": {
    "collapsed": true
   },
   "outputs": [],
   "source": [
    "num_runs = len(x1ts_list)"
   ]
  },
  {
   "cell_type": "code",
   "execution_count": 130,
   "metadata": {
    "collapsed": false
   },
   "outputs": [
    {
     "data": {
      "image/png": "[encoded data removed]",
      "text/plain": [
       "<matplotlib.figure.Figure at 0x2b2ca137a128>"
      ]
     },
     "metadata": {},
     "output_type": "display_data"
    }
   ],
   "source": [
    "##CALCULATING THE R AGAIN BUT THIS WITH A DIFFERENT TECHNIQUE\n",
    "\n",
    "## testing\n",
    "#len(x1ts_list)\n",
    "# signal = x1ts_list[0]\n",
    "# analytic_signal = hilbert(x1ts_list[0])\n",
    "# amplitude_envelope = np.abs(analytic_signal)\n",
    "# instantaneous_phase = np.unwrap(np.angle(analytic_signal))\n",
    "# np.shape(instantaneous_phase)\n",
    "# plt.plot(instantaneous_phase)\n",
    "# plt.show()\n",
    "\n",
    "#CALCULATING\n",
    "new_phase_list = []\n",
    "\n",
    "for i in range(num_runs):\n",
    "    #print(i)\n",
    "    signal1 = x1ts_list[i]\n",
    "    signal2 = x2ts_list[i]\n",
    "\n",
    "    analytic_signal1 = hilbert(signal1)\n",
    "    analytic_signal2 = hilbert(signal2)\n",
    "\n",
    "    instantaneous_phase1 = np.unwrap(np.angle(analytic_signal1))\n",
    "    instantaneous_phase2 = np.unwrap(np.angle(analytic_signal2))\n",
    "    \n",
    "    diff = instantaneous_phase1 - instantaneous_phase2\n",
    "    r = np.abs(np.sum(np.exp(1j*diff))/len(signal1))\n",
    "    \n",
    "    new_phase_list.append(r)\n",
    "    \n",
    "# PLOTTING\n",
    "x=c_list\n",
    "y=perc_diff_list #this is the last column - list of percent differences (15 of them)\n",
    "z=np.array(new_phase_list)\n",
    "\n",
    "x=np.unique(x)\n",
    "y=np.unique(y)\n",
    "X,Y = np.meshgrid(x,y)\n",
    "\n",
    "Z= z.reshape(len(y),len(x))\n",
    "\n",
    "# plt.pcolormesh(X,Y,Z,edgecolor='k')\n",
    "plt.pcolormesh(X,Y,Z)\n",
    "plt.xlabel('Symmetric Coupling Strength, c')\n",
    "plt.ylabel('Intrinsic Frequency Difference (%)')\n",
    "plt.title('Phase Coherence Index, R')\n",
    "plt.colorbar()\n",
    "plt.show()"
   ]
  },
  {
   "cell_type": "code",
   "execution_count": 129,
   "metadata": {
    "collapsed": false
   },
   "outputs": [
    {
     "name": "stdout",
     "output_type": "stream",
     "text": [
      "20 15\n",
      "300 300 300\n"
     ]
    }
   ],
   "source": [
    "#data to use for the rest of the proj\n",
    "# x axis - c_list\n",
    "\n",
    "#y_axis\n",
    "perc_diff_list = final_df_numpy[:,5]\n",
    "\n",
    "print(len(c_list), len(perc_diff_list))\n",
    "print(num_runs, len(x1ts_list), len(c_list)*len(perc_diff_list))"
   ]
  },
  {
   "cell_type": "code",
   "execution_count": 147,
   "metadata": {
    "collapsed": false
   },
   "outputs": [
    {
     "name": "stdout",
     "output_type": "stream",
     "text": [
      "0\n"
     ]
    },
    {
     "name": "stderr",
     "output_type": "stream",
     "text": [
      "/bg01/homescinet/l/lfefebvr/noorir/measures.py:248: RuntimeWarning: signal has very low mean frequency, setting min_tsep = 2500\n",
      "  warnings.warn(msg.format(min_tsep), RuntimeWarning)\n",
      "/bg01/homescinet/l/lfefebvr/noorir/measures.py:248: RuntimeWarning: signal has very low mean frequency, setting min_tsep = 2500\n",
      "  warnings.warn(msg.format(min_tsep), RuntimeWarning)\n"
     ]
    },
    {
     "name": "stdout",
     "output_type": "stream",
     "text": [
      "1\n"
     ]
    },
    {
     "name": "stderr",
     "output_type": "stream",
     "text": [
      "/bg01/homescinet/l/lfefebvr/noorir/measures.py:248: RuntimeWarning: signal has very low mean frequency, setting min_tsep = 2500\n",
      "  warnings.warn(msg.format(min_tsep), RuntimeWarning)\n",
      "/bg01/homescinet/l/lfefebvr/noorir/measures.py:278: RuntimeWarning: autocorrelation declined too slowly to find suitable lag, setting lag to 1855\n",
      "  warnings.warn(msg.format(lag), RuntimeWarning)\n"
     ]
    },
    {
     "name": "stdout",
     "output_type": "stream",
     "text": [
      "2\n",
      "3\n",
      "4\n",
      "5\n",
      "6\n",
      "7\n",
      "8\n",
      "9\n",
      "10\n",
      "11\n",
      "12\n",
      "13\n",
      "14\n",
      "15\n",
      "16\n",
      "17\n",
      "18\n",
      "19\n",
      "20\n"
     ]
    },
    {
     "name": "stderr",
     "output_type": "stream",
     "text": [
      "/bg01/homescinet/l/lfefebvr/noorir/measures.py:248: RuntimeWarning: signal has very low mean frequency, setting min_tsep = 2500\n",
      "  warnings.warn(msg.format(min_tsep), RuntimeWarning)\n"
     ]
    },
    {
     "name": "stdout",
     "output_type": "stream",
     "text": [
      "21\n"
     ]
    },
    {
     "name": "stderr",
     "output_type": "stream",
     "text": [
      "/bg01/homescinet/l/lfefebvr/noorir/measures.py:248: RuntimeWarning: signal has very low mean frequency, setting min_tsep = 2500\n",
      "  warnings.warn(msg.format(min_tsep), RuntimeWarning)\n",
      "/bg01/homescinet/l/lfefebvr/noorir/measures.py:248: RuntimeWarning: signal has very low mean frequency, setting min_tsep = 2500\n",
      "  warnings.warn(msg.format(min_tsep), RuntimeWarning)\n"
     ]
    },
    {
     "name": "stdout",
     "output_type": "stream",
     "text": [
      "22\n"
     ]
    },
    {
     "name": "stderr",
     "output_type": "stream",
     "text": [
      "/bg01/homescinet/l/lfefebvr/noorir/measures.py:248: RuntimeWarning: signal has very low mean frequency, setting min_tsep = 2500\n",
      "  warnings.warn(msg.format(min_tsep), RuntimeWarning)\n",
      "/bg01/homescinet/l/lfefebvr/noorir/measures.py:248: RuntimeWarning: signal has very low mean frequency, setting min_tsep = 2500\n",
      "  warnings.warn(msg.format(min_tsep), RuntimeWarning)\n"
     ]
    },
    {
     "name": "stdout",
     "output_type": "stream",
     "text": [
      "23\n"
     ]
    },
    {
     "name": "stderr",
     "output_type": "stream",
     "text": [
      "/bg01/homescinet/l/lfefebvr/noorir/measures.py:248: RuntimeWarning: signal has very low mean frequency, setting min_tsep = 2500\n",
      "  warnings.warn(msg.format(min_tsep), RuntimeWarning)\n",
      "/bg01/homescinet/l/lfefebvr/noorir/measures.py:278: RuntimeWarning: autocorrelation declined too slowly to find suitable lag, setting lag to 1855\n",
      "  warnings.warn(msg.format(lag), RuntimeWarning)\n"
     ]
    },
    {
     "name": "stdout",
     "output_type": "stream",
     "text": [
      "24\n",
      "25\n",
      "26\n",
      "27\n",
      "28\n",
      "29\n",
      "30\n",
      "31\n",
      "32\n",
      "33\n",
      "34\n",
      "35\n",
      "36\n",
      "37\n",
      "38\n",
      "39\n",
      "40\n"
     ]
    },
    {
     "name": "stderr",
     "output_type": "stream",
     "text": [
      "/bg01/homescinet/l/lfefebvr/noorir/measures.py:248: RuntimeWarning: signal has very low mean frequency, setting min_tsep = 2500\n",
      "  warnings.warn(msg.format(min_tsep), RuntimeWarning)\n"
     ]
    },
    {
     "name": "stdout",
     "output_type": "stream",
     "text": [
      "41\n"
     ]
    },
    {
     "name": "stderr",
     "output_type": "stream",
     "text": [
      "/bg01/homescinet/l/lfefebvr/noorir/measures.py:248: RuntimeWarning: signal has very low mean frequency, setting min_tsep = 2500\n",
      "  warnings.warn(msg.format(min_tsep), RuntimeWarning)\n",
      "/bg01/homescinet/l/lfefebvr/noorir/measures.py:248: RuntimeWarning: signal has very low mean frequency, setting min_tsep = 2500\n",
      "  warnings.warn(msg.format(min_tsep), RuntimeWarning)\n"
     ]
    },
    {
     "name": "stdout",
     "output_type": "stream",
     "text": [
      "42\n"
     ]
    },
    {
     "name": "stderr",
     "output_type": "stream",
     "text": [
      "/bg01/homescinet/l/lfefebvr/noorir/measures.py:248: RuntimeWarning: signal has very low mean frequency, setting min_tsep = 2500\n",
      "  warnings.warn(msg.format(min_tsep), RuntimeWarning)\n",
      "/bg01/homescinet/l/lfefebvr/noorir/measures.py:248: RuntimeWarning: signal has very low mean frequency, setting min_tsep = 2500\n",
      "  warnings.warn(msg.format(min_tsep), RuntimeWarning)\n"
     ]
    },
    {
     "name": "stdout",
     "output_type": "stream",
     "text": [
      "43\n"
     ]
    },
    {
     "name": "stderr",
     "output_type": "stream",
     "text": [
      "/bg01/homescinet/l/lfefebvr/noorir/measures.py:248: RuntimeWarning: signal has very low mean frequency, setting min_tsep = 2500\n",
      "  warnings.warn(msg.format(min_tsep), RuntimeWarning)\n",
      "/bg01/homescinet/l/lfefebvr/noorir/measures.py:248: RuntimeWarning: signal has very low mean frequency, setting min_tsep = 2500\n",
      "  warnings.warn(msg.format(min_tsep), RuntimeWarning)\n"
     ]
    },
    {
     "name": "stdout",
     "output_type": "stream",
     "text": [
      "44\n"
     ]
    },
    {
     "name": "stderr",
     "output_type": "stream",
     "text": [
      "/bg01/homescinet/l/lfefebvr/noorir/measures.py:248: RuntimeWarning: signal has very low mean frequency, setting min_tsep = 2500\n",
      "  warnings.warn(msg.format(min_tsep), RuntimeWarning)\n",
      "/bg01/homescinet/l/lfefebvr/noorir/measures.py:278: RuntimeWarning: autocorrelation declined too slowly to find suitable lag, setting lag to 1855\n",
      "  warnings.warn(msg.format(lag), RuntimeWarning)\n"
     ]
    },
    {
     "name": "stdout",
     "output_type": "stream",
     "text": [
      "45\n",
      "46\n",
      "47\n",
      "48\n",
      "49\n",
      "50\n",
      "51\n",
      "52\n",
      "53\n",
      "54\n",
      "55\n",
      "56\n",
      "57\n",
      "58\n",
      "59\n",
      "60\n"
     ]
    },
    {
     "name": "stderr",
     "output_type": "stream",
     "text": [
      "/bg01/homescinet/l/lfefebvr/noorir/measures.py:248: RuntimeWarning: signal has very low mean frequency, setting min_tsep = 2500\n",
      "  warnings.warn(msg.format(min_tsep), RuntimeWarning)\n"
     ]
    },
    {
     "name": "stdout",
     "output_type": "stream",
     "text": [
      "61\n"
     ]
    },
    {
     "name": "stderr",
     "output_type": "stream",
     "text": [
      "/bg01/homescinet/l/lfefebvr/noorir/measures.py:248: RuntimeWarning: signal has very low mean frequency, setting min_tsep = 2500\n",
      "  warnings.warn(msg.format(min_tsep), RuntimeWarning)\n",
      "/bg01/homescinet/l/lfefebvr/noorir/measures.py:248: RuntimeWarning: signal has very low mean frequency, setting min_tsep = 2500\n",
      "  warnings.warn(msg.format(min_tsep), RuntimeWarning)\n"
     ]
    },
    {
     "name": "stdout",
     "output_type": "stream",
     "text": [
      "62\n"
     ]
    },
    {
     "name": "stderr",
     "output_type": "stream",
     "text": [
      "/bg01/homescinet/l/lfefebvr/noorir/measures.py:248: RuntimeWarning: signal has very low mean frequency, setting min_tsep = 2500\n",
      "  warnings.warn(msg.format(min_tsep), RuntimeWarning)\n",
      "/bg01/homescinet/l/lfefebvr/noorir/measures.py:248: RuntimeWarning: signal has very low mean frequency, setting min_tsep = 2500\n",
      "  warnings.warn(msg.format(min_tsep), RuntimeWarning)\n"
     ]
    },
    {
     "name": "stdout",
     "output_type": "stream",
     "text": [
      "63\n"
     ]
    },
    {
     "name": "stderr",
     "output_type": "stream",
     "text": [
      "/bg01/homescinet/l/lfefebvr/noorir/measures.py:248: RuntimeWarning: signal has very low mean frequency, setting min_tsep = 2500\n",
      "  warnings.warn(msg.format(min_tsep), RuntimeWarning)\n",
      "/bg01/homescinet/l/lfefebvr/noorir/measures.py:248: RuntimeWarning: signal has very low mean frequency, setting min_tsep = 2500\n",
      "  warnings.warn(msg.format(min_tsep), RuntimeWarning)\n"
     ]
    },
    {
     "name": "stdout",
     "output_type": "stream",
     "text": [
      "64\n"
     ]
    },
    {
     "name": "stderr",
     "output_type": "stream",
     "text": [
      "/bg01/homescinet/l/lfefebvr/noorir/measures.py:248: RuntimeWarning: signal has very low mean frequency, setting min_tsep = 2500\n",
      "  warnings.warn(msg.format(min_tsep), RuntimeWarning)\n",
      "/bg01/homescinet/l/lfefebvr/noorir/measures.py:248: RuntimeWarning: signal has very low mean frequency, setting min_tsep = 2500\n",
      "  warnings.warn(msg.format(min_tsep), RuntimeWarning)\n"
     ]
    },
    {
     "name": "stdout",
     "output_type": "stream",
     "text": [
      "65\n"
     ]
    },
    {
     "name": "stderr",
     "output_type": "stream",
     "text": [
      "/bg01/homescinet/l/lfefebvr/noorir/measures.py:248: RuntimeWarning: signal has very low mean frequency, setting min_tsep = 2500\n",
      "  warnings.warn(msg.format(min_tsep), RuntimeWarning)\n",
      "/bg01/homescinet/l/lfefebvr/noorir/measures.py:248: RuntimeWarning: signal has very low mean frequency, setting min_tsep = 2500\n",
      "  warnings.warn(msg.format(min_tsep), RuntimeWarning)\n"
     ]
    },
    {
     "name": "stdout",
     "output_type": "stream",
     "text": [
      "66\n"
     ]
    },
    {
     "name": "stderr",
     "output_type": "stream",
     "text": [
      "/bg01/homescinet/l/lfefebvr/noorir/measures.py:248: RuntimeWarning: signal has very low mean frequency, setting min_tsep = 2500\n",
      "  warnings.warn(msg.format(min_tsep), RuntimeWarning)\n",
      "/bg01/homescinet/l/lfefebvr/noorir/measures.py:248: RuntimeWarning: signal has very low mean frequency, setting min_tsep = 2500\n",
      "  warnings.warn(msg.format(min_tsep), RuntimeWarning)\n"
     ]
    },
    {
     "name": "stdout",
     "output_type": "stream",
     "text": [
      "67\n"
     ]
    },
    {
     "name": "stderr",
     "output_type": "stream",
     "text": [
      "/bg01/homescinet/l/lfefebvr/noorir/measures.py:248: RuntimeWarning: signal has very low mean frequency, setting min_tsep = 2500\n",
      "  warnings.warn(msg.format(min_tsep), RuntimeWarning)\n",
      "/bg01/homescinet/l/lfefebvr/noorir/measures.py:248: RuntimeWarning: signal has very low mean frequency, setting min_tsep = 2500\n",
      "  warnings.warn(msg.format(min_tsep), RuntimeWarning)\n"
     ]
    },
    {
     "name": "stdout",
     "output_type": "stream",
     "text": [
      "68\n"
     ]
    },
    {
     "name": "stderr",
     "output_type": "stream",
     "text": [
      "/bg01/homescinet/l/lfefebvr/noorir/measures.py:248: RuntimeWarning: signal has very low mean frequency, setting min_tsep = 2500\n",
      "  warnings.warn(msg.format(min_tsep), RuntimeWarning)\n",
      "/bg01/homescinet/l/lfefebvr/noorir/measures.py:248: RuntimeWarning: signal has very low mean frequency, setting min_tsep = 2500\n",
      "  warnings.warn(msg.format(min_tsep), RuntimeWarning)\n"
     ]
    },
    {
     "name": "stdout",
     "output_type": "stream",
     "text": [
      "69\n"
     ]
    },
    {
     "name": "stderr",
     "output_type": "stream",
     "text": [
      "/bg01/homescinet/l/lfefebvr/noorir/measures.py:248: RuntimeWarning: signal has very low mean frequency, setting min_tsep = 2500\n",
      "  warnings.warn(msg.format(min_tsep), RuntimeWarning)\n",
      "/bg01/homescinet/l/lfefebvr/noorir/measures.py:248: RuntimeWarning: signal has very low mean frequency, setting min_tsep = 2500\n",
      "  warnings.warn(msg.format(min_tsep), RuntimeWarning)\n"
     ]
    },
    {
     "name": "stdout",
     "output_type": "stream",
     "text": [
      "70\n"
     ]
    },
    {
     "name": "stderr",
     "output_type": "stream",
     "text": [
      "/bg01/homescinet/l/lfefebvr/noorir/measures.py:248: RuntimeWarning: signal has very low mean frequency, setting min_tsep = 2500\n",
      "  warnings.warn(msg.format(min_tsep), RuntimeWarning)\n",
      "/bg01/homescinet/l/lfefebvr/noorir/measures.py:248: RuntimeWarning: signal has very low mean frequency, setting min_tsep = 2500\n",
      "  warnings.warn(msg.format(min_tsep), RuntimeWarning)\n"
     ]
    },
    {
     "name": "stdout",
     "output_type": "stream",
     "text": [
      "71\n"
     ]
    },
    {
     "name": "stderr",
     "output_type": "stream",
     "text": [
      "/bg01/homescinet/l/lfefebvr/noorir/measures.py:248: RuntimeWarning: signal has very low mean frequency, setting min_tsep = 2500\n",
      "  warnings.warn(msg.format(min_tsep), RuntimeWarning)\n",
      "/bg01/homescinet/l/lfefebvr/noorir/measures.py:248: RuntimeWarning: signal has very low mean frequency, setting min_tsep = 2500\n",
      "  warnings.warn(msg.format(min_tsep), RuntimeWarning)\n"
     ]
    },
    {
     "name": "stdout",
     "output_type": "stream",
     "text": [
      "72\n"
     ]
    },
    {
     "name": "stderr",
     "output_type": "stream",
     "text": [
      "/bg01/homescinet/l/lfefebvr/noorir/measures.py:248: RuntimeWarning: signal has very low mean frequency, setting min_tsep = 2500\n",
      "  warnings.warn(msg.format(min_tsep), RuntimeWarning)\n",
      "/bg01/homescinet/l/lfefebvr/noorir/measures.py:248: RuntimeWarning: signal has very low mean frequency, setting min_tsep = 2500\n",
      "  warnings.warn(msg.format(min_tsep), RuntimeWarning)\n"
     ]
    },
    {
     "name": "stdout",
     "output_type": "stream",
     "text": [
      "73\n"
     ]
    },
    {
     "name": "stderr",
     "output_type": "stream",
     "text": [
      "/bg01/homescinet/l/lfefebvr/noorir/measures.py:248: RuntimeWarning: signal has very low mean frequency, setting min_tsep = 2500\n",
      "  warnings.warn(msg.format(min_tsep), RuntimeWarning)\n",
      "/bg01/homescinet/l/lfefebvr/noorir/measures.py:248: RuntimeWarning: signal has very low mean frequency, setting min_tsep = 2500\n",
      "  warnings.warn(msg.format(min_tsep), RuntimeWarning)\n"
     ]
    },
    {
     "name": "stdout",
     "output_type": "stream",
     "text": [
      "74\n"
     ]
    },
    {
     "name": "stderr",
     "output_type": "stream",
     "text": [
      "/bg01/homescinet/l/lfefebvr/noorir/measures.py:248: RuntimeWarning: signal has very low mean frequency, setting min_tsep = 2500\n",
      "  warnings.warn(msg.format(min_tsep), RuntimeWarning)\n",
      "/bg01/homescinet/l/lfefebvr/noorir/measures.py:248: RuntimeWarning: signal has very low mean frequency, setting min_tsep = 2500\n",
      "  warnings.warn(msg.format(min_tsep), RuntimeWarning)\n"
     ]
    },
    {
     "name": "stdout",
     "output_type": "stream",
     "text": [
      "75\n"
     ]
    },
    {
     "name": "stderr",
     "output_type": "stream",
     "text": [
      "/bg01/homescinet/l/lfefebvr/noorir/measures.py:248: RuntimeWarning: signal has very low mean frequency, setting min_tsep = 2500\n",
      "  warnings.warn(msg.format(min_tsep), RuntimeWarning)\n",
      "/bg01/homescinet/l/lfefebvr/noorir/measures.py:248: RuntimeWarning: signal has very low mean frequency, setting min_tsep = 2500\n",
      "  warnings.warn(msg.format(min_tsep), RuntimeWarning)\n"
     ]
    },
    {
     "name": "stdout",
     "output_type": "stream",
     "text": [
      "76\n"
     ]
    },
    {
     "name": "stderr",
     "output_type": "stream",
     "text": [
      "/bg01/homescinet/l/lfefebvr/noorir/measures.py:248: RuntimeWarning: signal has very low mean frequency, setting min_tsep = 2500\n",
      "  warnings.warn(msg.format(min_tsep), RuntimeWarning)\n",
      "/bg01/homescinet/l/lfefebvr/noorir/measures.py:278: RuntimeWarning: autocorrelation declined too slowly to find suitable lag, setting lag to 1855\n",
      "  warnings.warn(msg.format(lag), RuntimeWarning)\n"
     ]
    },
    {
     "name": "stdout",
     "output_type": "stream",
     "text": [
      "77\n",
      "78\n",
      "79\n",
      "80\n"
     ]
    },
    {
     "name": "stderr",
     "output_type": "stream",
     "text": [
      "/bg01/homescinet/l/lfefebvr/noorir/measures.py:248: RuntimeWarning: signal has very low mean frequency, setting min_tsep = 2500\n",
      "  warnings.warn(msg.format(min_tsep), RuntimeWarning)\n"
     ]
    },
    {
     "name": "stdout",
     "output_type": "stream",
     "text": [
      "81\n"
     ]
    },
    {
     "name": "stderr",
     "output_type": "stream",
     "text": [
      "/bg01/homescinet/l/lfefebvr/noorir/measures.py:248: RuntimeWarning: signal has very low mean frequency, setting min_tsep = 2500\n",
      "  warnings.warn(msg.format(min_tsep), RuntimeWarning)\n",
      "/bg01/homescinet/l/lfefebvr/noorir/measures.py:248: RuntimeWarning: signal has very low mean frequency, setting min_tsep = 2500\n",
      "  warnings.warn(msg.format(min_tsep), RuntimeWarning)\n"
     ]
    },
    {
     "name": "stdout",
     "output_type": "stream",
     "text": [
      "82\n"
     ]
    },
    {
     "name": "stderr",
     "output_type": "stream",
     "text": [
      "/bg01/homescinet/l/lfefebvr/noorir/measures.py:248: RuntimeWarning: signal has very low mean frequency, setting min_tsep = 2500\n",
      "  warnings.warn(msg.format(min_tsep), RuntimeWarning)\n",
      "/bg01/homescinet/l/lfefebvr/noorir/measures.py:248: RuntimeWarning: signal has very low mean frequency, setting min_tsep = 2500\n",
      "  warnings.warn(msg.format(min_tsep), RuntimeWarning)\n"
     ]
    },
    {
     "name": "stdout",
     "output_type": "stream",
     "text": [
      "83\n"
     ]
    },
    {
     "name": "stderr",
     "output_type": "stream",
     "text": [
      "/bg01/homescinet/l/lfefebvr/noorir/measures.py:248: RuntimeWarning: signal has very low mean frequency, setting min_tsep = 2500\n",
      "  warnings.warn(msg.format(min_tsep), RuntimeWarning)\n",
      "/bg01/homescinet/l/lfefebvr/noorir/measures.py:248: RuntimeWarning: signal has very low mean frequency, setting min_tsep = 2500\n",
      "  warnings.warn(msg.format(min_tsep), RuntimeWarning)\n"
     ]
    },
    {
     "name": "stdout",
     "output_type": "stream",
     "text": [
      "84\n"
     ]
    },
    {
     "name": "stderr",
     "output_type": "stream",
     "text": [
      "/bg01/homescinet/l/lfefebvr/noorir/measures.py:248: RuntimeWarning: signal has very low mean frequency, setting min_tsep = 2500\n",
      "  warnings.warn(msg.format(min_tsep), RuntimeWarning)\n",
      "/bg01/homescinet/l/lfefebvr/noorir/measures.py:248: RuntimeWarning: signal has very low mean frequency, setting min_tsep = 2500\n",
      "  warnings.warn(msg.format(min_tsep), RuntimeWarning)\n"
     ]
    },
    {
     "name": "stdout",
     "output_type": "stream",
     "text": [
      "85\n"
     ]
    },
    {
     "name": "stderr",
     "output_type": "stream",
     "text": [
      "/bg01/homescinet/l/lfefebvr/noorir/measures.py:248: RuntimeWarning: signal has very low mean frequency, setting min_tsep = 2500\n",
      "  warnings.warn(msg.format(min_tsep), RuntimeWarning)\n",
      "/bg01/homescinet/l/lfefebvr/noorir/measures.py:278: RuntimeWarning: autocorrelation declined too slowly to find suitable lag, setting lag to 1855\n",
      "  warnings.warn(msg.format(lag), RuntimeWarning)\n"
     ]
    },
    {
     "name": "stdout",
     "output_type": "stream",
     "text": [
      "86\n",
      "87\n",
      "88\n",
      "89\n",
      "90\n",
      "91\n",
      "92\n",
      "93\n",
      "94\n",
      "95\n",
      "96\n",
      "97\n",
      "98\n",
      "99\n",
      "100\n"
     ]
    },
    {
     "name": "stderr",
     "output_type": "stream",
     "text": [
      "/bg01/homescinet/l/lfefebvr/noorir/measures.py:248: RuntimeWarning: signal has very low mean frequency, setting min_tsep = 2500\n",
      "  warnings.warn(msg.format(min_tsep), RuntimeWarning)\n"
     ]
    },
    {
     "name": "stdout",
     "output_type": "stream",
     "text": [
      "101\n"
     ]
    },
    {
     "name": "stderr",
     "output_type": "stream",
     "text": [
      "/bg01/homescinet/l/lfefebvr/noorir/measures.py:248: RuntimeWarning: signal has very low mean frequency, setting min_tsep = 2500\n",
      "  warnings.warn(msg.format(min_tsep), RuntimeWarning)\n",
      "/bg01/homescinet/l/lfefebvr/noorir/measures.py:248: RuntimeWarning: signal has very low mean frequency, setting min_tsep = 2500\n",
      "  warnings.warn(msg.format(min_tsep), RuntimeWarning)\n"
     ]
    },
    {
     "name": "stdout",
     "output_type": "stream",
     "text": [
      "102\n"
     ]
    },
    {
     "name": "stderr",
     "output_type": "stream",
     "text": [
      "/bg01/homescinet/l/lfefebvr/noorir/measures.py:248: RuntimeWarning: signal has very low mean frequency, setting min_tsep = 2500\n",
      "  warnings.warn(msg.format(min_tsep), RuntimeWarning)\n",
      "/bg01/homescinet/l/lfefebvr/noorir/measures.py:248: RuntimeWarning: signal has very low mean frequency, setting min_tsep = 2500\n",
      "  warnings.warn(msg.format(min_tsep), RuntimeWarning)\n"
     ]
    },
    {
     "name": "stdout",
     "output_type": "stream",
     "text": [
      "103\n"
     ]
    },
    {
     "name": "stderr",
     "output_type": "stream",
     "text": [
      "/bg01/homescinet/l/lfefebvr/noorir/measures.py:248: RuntimeWarning: signal has very low mean frequency, setting min_tsep = 2500\n",
      "  warnings.warn(msg.format(min_tsep), RuntimeWarning)\n",
      "/bg01/homescinet/l/lfefebvr/noorir/measures.py:248: RuntimeWarning: signal has very low mean frequency, setting min_tsep = 2500\n",
      "  warnings.warn(msg.format(min_tsep), RuntimeWarning)\n"
     ]
    },
    {
     "name": "stdout",
     "output_type": "stream",
     "text": [
      "104\n"
     ]
    },
    {
     "name": "stderr",
     "output_type": "stream",
     "text": [
      "/bg01/homescinet/l/lfefebvr/noorir/measures.py:248: RuntimeWarning: signal has very low mean frequency, setting min_tsep = 2500\n",
      "  warnings.warn(msg.format(min_tsep), RuntimeWarning)\n",
      "/bg01/homescinet/l/lfefebvr/noorir/measures.py:248: RuntimeWarning: signal has very low mean frequency, setting min_tsep = 2500\n",
      "  warnings.warn(msg.format(min_tsep), RuntimeWarning)\n"
     ]
    },
    {
     "name": "stdout",
     "output_type": "stream",
     "text": [
      "105\n"
     ]
    },
    {
     "name": "stderr",
     "output_type": "stream",
     "text": [
      "/bg01/homescinet/l/lfefebvr/noorir/measures.py:248: RuntimeWarning: signal has very low mean frequency, setting min_tsep = 2500\n",
      "  warnings.warn(msg.format(min_tsep), RuntimeWarning)\n",
      "/bg01/homescinet/l/lfefebvr/noorir/measures.py:248: RuntimeWarning: signal has very low mean frequency, setting min_tsep = 2500\n",
      "  warnings.warn(msg.format(min_tsep), RuntimeWarning)\n"
     ]
    },
    {
     "name": "stdout",
     "output_type": "stream",
     "text": [
      "106\n"
     ]
    },
    {
     "name": "stderr",
     "output_type": "stream",
     "text": [
      "/bg01/homescinet/l/lfefebvr/noorir/measures.py:248: RuntimeWarning: signal has very low mean frequency, setting min_tsep = 2500\n",
      "  warnings.warn(msg.format(min_tsep), RuntimeWarning)\n",
      "/bg01/homescinet/l/lfefebvr/noorir/measures.py:278: RuntimeWarning: autocorrelation declined too slowly to find suitable lag, setting lag to 1855\n",
      "  warnings.warn(msg.format(lag), RuntimeWarning)\n"
     ]
    },
    {
     "name": "stdout",
     "output_type": "stream",
     "text": [
      "107\n",
      "108\n",
      "109\n",
      "110\n",
      "111\n",
      "112\n",
      "113\n",
      "114\n",
      "115\n",
      "116\n",
      "117\n",
      "118\n",
      "119\n",
      "120\n"
     ]
    },
    {
     "name": "stderr",
     "output_type": "stream",
     "text": [
      "/bg01/homescinet/l/lfefebvr/noorir/measures.py:248: RuntimeWarning: signal has very low mean frequency, setting min_tsep = 2500\n",
      "  warnings.warn(msg.format(min_tsep), RuntimeWarning)\n"
     ]
    },
    {
     "name": "stdout",
     "output_type": "stream",
     "text": [
      "121\n"
     ]
    },
    {
     "name": "stderr",
     "output_type": "stream",
     "text": [
      "/bg01/homescinet/l/lfefebvr/noorir/measures.py:248: RuntimeWarning: signal has very low mean frequency, setting min_tsep = 2500\n",
      "  warnings.warn(msg.format(min_tsep), RuntimeWarning)\n",
      "/bg01/homescinet/l/lfefebvr/noorir/measures.py:248: RuntimeWarning: signal has very low mean frequency, setting min_tsep = 2500\n",
      "  warnings.warn(msg.format(min_tsep), RuntimeWarning)\n"
     ]
    },
    {
     "name": "stdout",
     "output_type": "stream",
     "text": [
      "122\n"
     ]
    },
    {
     "name": "stderr",
     "output_type": "stream",
     "text": [
      "/bg01/homescinet/l/lfefebvr/noorir/measures.py:248: RuntimeWarning: signal has very low mean frequency, setting min_tsep = 2500\n",
      "  warnings.warn(msg.format(min_tsep), RuntimeWarning)\n",
      "/bg01/homescinet/l/lfefebvr/noorir/measures.py:248: RuntimeWarning: signal has very low mean frequency, setting min_tsep = 2500\n",
      "  warnings.warn(msg.format(min_tsep), RuntimeWarning)\n"
     ]
    },
    {
     "name": "stdout",
     "output_type": "stream",
     "text": [
      "123\n"
     ]
    },
    {
     "name": "stderr",
     "output_type": "stream",
     "text": [
      "/bg01/homescinet/l/lfefebvr/noorir/measures.py:248: RuntimeWarning: signal has very low mean frequency, setting min_tsep = 2500\n",
      "  warnings.warn(msg.format(min_tsep), RuntimeWarning)\n",
      "/bg01/homescinet/l/lfefebvr/noorir/measures.py:248: RuntimeWarning: signal has very low mean frequency, setting min_tsep = 2500\n",
      "  warnings.warn(msg.format(min_tsep), RuntimeWarning)\n"
     ]
    },
    {
     "name": "stdout",
     "output_type": "stream",
     "text": [
      "124\n"
     ]
    },
    {
     "name": "stderr",
     "output_type": "stream",
     "text": [
      "/bg01/homescinet/l/lfefebvr/noorir/measures.py:248: RuntimeWarning: signal has very low mean frequency, setting min_tsep = 2500\n",
      "  warnings.warn(msg.format(min_tsep), RuntimeWarning)\n",
      "/bg01/homescinet/l/lfefebvr/noorir/measures.py:248: RuntimeWarning: signal has very low mean frequency, setting min_tsep = 2500\n",
      "  warnings.warn(msg.format(min_tsep), RuntimeWarning)\n"
     ]
    },
    {
     "name": "stdout",
     "output_type": "stream",
     "text": [
      "125\n"
     ]
    },
    {
     "name": "stderr",
     "output_type": "stream",
     "text": [
      "/bg01/homescinet/l/lfefebvr/noorir/measures.py:248: RuntimeWarning: signal has very low mean frequency, setting min_tsep = 2500\n",
      "  warnings.warn(msg.format(min_tsep), RuntimeWarning)\n",
      "/bg01/homescinet/l/lfefebvr/noorir/measures.py:248: RuntimeWarning: signal has very low mean frequency, setting min_tsep = 2500\n",
      "  warnings.warn(msg.format(min_tsep), RuntimeWarning)\n"
     ]
    },
    {
     "name": "stdout",
     "output_type": "stream",
     "text": [
      "126\n"
     ]
    },
    {
     "name": "stderr",
     "output_type": "stream",
     "text": [
      "/bg01/homescinet/l/lfefebvr/noorir/measures.py:248: RuntimeWarning: signal has very low mean frequency, setting min_tsep = 2500\n",
      "  warnings.warn(msg.format(min_tsep), RuntimeWarning)\n",
      "/bg01/homescinet/l/lfefebvr/noorir/measures.py:248: RuntimeWarning: signal has very low mean frequency, setting min_tsep = 2500\n",
      "  warnings.warn(msg.format(min_tsep), RuntimeWarning)\n"
     ]
    },
    {
     "name": "stdout",
     "output_type": "stream",
     "text": [
      "127\n"
     ]
    },
    {
     "name": "stderr",
     "output_type": "stream",
     "text": [
      "/bg01/homescinet/l/lfefebvr/noorir/measures.py:248: RuntimeWarning: signal has very low mean frequency, setting min_tsep = 2500\n",
      "  warnings.warn(msg.format(min_tsep), RuntimeWarning)\n",
      "/bg01/homescinet/l/lfefebvr/noorir/measures.py:248: RuntimeWarning: signal has very low mean frequency, setting min_tsep = 2500\n",
      "  warnings.warn(msg.format(min_tsep), RuntimeWarning)\n"
     ]
    },
    {
     "name": "stdout",
     "output_type": "stream",
     "text": [
      "128\n"
     ]
    },
    {
     "name": "stderr",
     "output_type": "stream",
     "text": [
      "/bg01/homescinet/l/lfefebvr/noorir/measures.py:248: RuntimeWarning: signal has very low mean frequency, setting min_tsep = 2500\n",
      "  warnings.warn(msg.format(min_tsep), RuntimeWarning)\n",
      "/bg01/homescinet/l/lfefebvr/noorir/measures.py:248: RuntimeWarning: signal has very low mean frequency, setting min_tsep = 2500\n",
      "  warnings.warn(msg.format(min_tsep), RuntimeWarning)\n"
     ]
    },
    {
     "name": "stdout",
     "output_type": "stream",
     "text": [
      "129\n"
     ]
    },
    {
     "name": "stderr",
     "output_type": "stream",
     "text": [
      "/bg01/homescinet/l/lfefebvr/noorir/measures.py:248: RuntimeWarning: signal has very low mean frequency, setting min_tsep = 2500\n",
      "  warnings.warn(msg.format(min_tsep), RuntimeWarning)\n",
      "/bg01/homescinet/l/lfefebvr/noorir/measures.py:248: RuntimeWarning: signal has very low mean frequency, setting min_tsep = 2500\n",
      "  warnings.warn(msg.format(min_tsep), RuntimeWarning)\n"
     ]
    },
    {
     "name": "stdout",
     "output_type": "stream",
     "text": [
      "130\n"
     ]
    },
    {
     "name": "stderr",
     "output_type": "stream",
     "text": [
      "/bg01/homescinet/l/lfefebvr/noorir/measures.py:248: RuntimeWarning: signal has very low mean frequency, setting min_tsep = 2500\n",
      "  warnings.warn(msg.format(min_tsep), RuntimeWarning)\n",
      "/bg01/homescinet/l/lfefebvr/noorir/measures.py:248: RuntimeWarning: signal has very low mean frequency, setting min_tsep = 2500\n",
      "  warnings.warn(msg.format(min_tsep), RuntimeWarning)\n"
     ]
    },
    {
     "name": "stdout",
     "output_type": "stream",
     "text": [
      "131\n"
     ]
    },
    {
     "name": "stderr",
     "output_type": "stream",
     "text": [
      "/bg01/homescinet/l/lfefebvr/noorir/measures.py:248: RuntimeWarning: signal has very low mean frequency, setting min_tsep = 2500\n",
      "  warnings.warn(msg.format(min_tsep), RuntimeWarning)\n",
      "/bg01/homescinet/l/lfefebvr/noorir/measures.py:248: RuntimeWarning: signal has very low mean frequency, setting min_tsep = 2500\n",
      "  warnings.warn(msg.format(min_tsep), RuntimeWarning)\n"
     ]
    },
    {
     "name": "stdout",
     "output_type": "stream",
     "text": [
      "132\n"
     ]
    },
    {
     "name": "stderr",
     "output_type": "stream",
     "text": [
      "/bg01/homescinet/l/lfefebvr/noorir/measures.py:248: RuntimeWarning: signal has very low mean frequency, setting min_tsep = 2500\n",
      "  warnings.warn(msg.format(min_tsep), RuntimeWarning)\n",
      "/bg01/homescinet/l/lfefebvr/noorir/measures.py:248: RuntimeWarning: signal has very low mean frequency, setting min_tsep = 2500\n",
      "  warnings.warn(msg.format(min_tsep), RuntimeWarning)\n"
     ]
    },
    {
     "name": "stdout",
     "output_type": "stream",
     "text": [
      "133\n"
     ]
    },
    {
     "name": "stderr",
     "output_type": "stream",
     "text": [
      "/bg01/homescinet/l/lfefebvr/noorir/measures.py:248: RuntimeWarning: signal has very low mean frequency, setting min_tsep = 2500\n",
      "  warnings.warn(msg.format(min_tsep), RuntimeWarning)\n",
      "/bg01/homescinet/l/lfefebvr/noorir/measures.py:248: RuntimeWarning: signal has very low mean frequency, setting min_tsep = 2500\n",
      "  warnings.warn(msg.format(min_tsep), RuntimeWarning)\n"
     ]
    },
    {
     "name": "stdout",
     "output_type": "stream",
     "text": [
      "134\n"
     ]
    },
    {
     "name": "stderr",
     "output_type": "stream",
     "text": [
      "/bg01/homescinet/l/lfefebvr/noorir/measures.py:248: RuntimeWarning: signal has very low mean frequency, setting min_tsep = 2500\n",
      "  warnings.warn(msg.format(min_tsep), RuntimeWarning)\n",
      "/bg01/homescinet/l/lfefebvr/noorir/measures.py:248: RuntimeWarning: signal has very low mean frequency, setting min_tsep = 2500\n",
      "  warnings.warn(msg.format(min_tsep), RuntimeWarning)\n"
     ]
    },
    {
     "name": "stdout",
     "output_type": "stream",
     "text": [
      "135\n"
     ]
    },
    {
     "name": "stderr",
     "output_type": "stream",
     "text": [
      "/bg01/homescinet/l/lfefebvr/noorir/measures.py:248: RuntimeWarning: signal has very low mean frequency, setting min_tsep = 2500\n",
      "  warnings.warn(msg.format(min_tsep), RuntimeWarning)\n",
      "/bg01/homescinet/l/lfefebvr/noorir/measures.py:278: RuntimeWarning: autocorrelation declined too slowly to find suitable lag, setting lag to 1855\n",
      "  warnings.warn(msg.format(lag), RuntimeWarning)\n"
     ]
    },
    {
     "name": "stdout",
     "output_type": "stream",
     "text": [
      "136\n",
      "137\n",
      "138\n",
      "139\n",
      "140\n"
     ]
    },
    {
     "name": "stderr",
     "output_type": "stream",
     "text": [
      "/bg01/homescinet/l/lfefebvr/noorir/measures.py:248: RuntimeWarning: signal has very low mean frequency, setting min_tsep = 2500\n",
      "  warnings.warn(msg.format(min_tsep), RuntimeWarning)\n"
     ]
    },
    {
     "name": "stdout",
     "output_type": "stream",
     "text": [
      "141\n"
     ]
    },
    {
     "name": "stderr",
     "output_type": "stream",
     "text": [
      "/bg01/homescinet/l/lfefebvr/noorir/measures.py:248: RuntimeWarning: signal has very low mean frequency, setting min_tsep = 2500\n",
      "  warnings.warn(msg.format(min_tsep), RuntimeWarning)\n",
      "/bg01/homescinet/l/lfefebvr/noorir/measures.py:248: RuntimeWarning: signal has very low mean frequency, setting min_tsep = 2500\n",
      "  warnings.warn(msg.format(min_tsep), RuntimeWarning)\n"
     ]
    },
    {
     "name": "stdout",
     "output_type": "stream",
     "text": [
      "142\n"
     ]
    },
    {
     "name": "stderr",
     "output_type": "stream",
     "text": [
      "/bg01/homescinet/l/lfefebvr/noorir/measures.py:248: RuntimeWarning: signal has very low mean frequency, setting min_tsep = 2500\n",
      "  warnings.warn(msg.format(min_tsep), RuntimeWarning)\n",
      "/bg01/homescinet/l/lfefebvr/noorir/measures.py:248: RuntimeWarning: signal has very low mean frequency, setting min_tsep = 2500\n",
      "  warnings.warn(msg.format(min_tsep), RuntimeWarning)\n"
     ]
    },
    {
     "name": "stdout",
     "output_type": "stream",
     "text": [
      "143\n"
     ]
    },
    {
     "name": "stderr",
     "output_type": "stream",
     "text": [
      "/bg01/homescinet/l/lfefebvr/noorir/measures.py:248: RuntimeWarning: signal has very low mean frequency, setting min_tsep = 2500\n",
      "  warnings.warn(msg.format(min_tsep), RuntimeWarning)\n",
      "/bg01/homescinet/l/lfefebvr/noorir/measures.py:248: RuntimeWarning: signal has very low mean frequency, setting min_tsep = 2500\n",
      "  warnings.warn(msg.format(min_tsep), RuntimeWarning)\n"
     ]
    },
    {
     "name": "stdout",
     "output_type": "stream",
     "text": [
      "144\n"
     ]
    },
    {
     "name": "stderr",
     "output_type": "stream",
     "text": [
      "/bg01/homescinet/l/lfefebvr/noorir/measures.py:248: RuntimeWarning: signal has very low mean frequency, setting min_tsep = 2500\n",
      "  warnings.warn(msg.format(min_tsep), RuntimeWarning)\n",
      "/bg01/homescinet/l/lfefebvr/noorir/measures.py:248: RuntimeWarning: signal has very low mean frequency, setting min_tsep = 2500\n",
      "  warnings.warn(msg.format(min_tsep), RuntimeWarning)\n"
     ]
    },
    {
     "name": "stdout",
     "output_type": "stream",
     "text": [
      "145\n"
     ]
    },
    {
     "name": "stderr",
     "output_type": "stream",
     "text": [
      "/bg01/homescinet/l/lfefebvr/noorir/measures.py:248: RuntimeWarning: signal has very low mean frequency, setting min_tsep = 2500\n",
      "  warnings.warn(msg.format(min_tsep), RuntimeWarning)\n",
      "/bg01/homescinet/l/lfefebvr/noorir/measures.py:248: RuntimeWarning: signal has very low mean frequency, setting min_tsep = 2500\n",
      "  warnings.warn(msg.format(min_tsep), RuntimeWarning)\n"
     ]
    },
    {
     "name": "stdout",
     "output_type": "stream",
     "text": [
      "146\n"
     ]
    },
    {
     "name": "stderr",
     "output_type": "stream",
     "text": [
      "/bg01/homescinet/l/lfefebvr/noorir/measures.py:248: RuntimeWarning: signal has very low mean frequency, setting min_tsep = 2500\n",
      "  warnings.warn(msg.format(min_tsep), RuntimeWarning)\n",
      "/bg01/homescinet/l/lfefebvr/noorir/measures.py:248: RuntimeWarning: signal has very low mean frequency, setting min_tsep = 2500\n",
      "  warnings.warn(msg.format(min_tsep), RuntimeWarning)\n"
     ]
    },
    {
     "name": "stdout",
     "output_type": "stream",
     "text": [
      "147\n"
     ]
    },
    {
     "name": "stderr",
     "output_type": "stream",
     "text": [
      "/bg01/homescinet/l/lfefebvr/noorir/measures.py:248: RuntimeWarning: signal has very low mean frequency, setting min_tsep = 2500\n",
      "  warnings.warn(msg.format(min_tsep), RuntimeWarning)\n",
      "/bg01/homescinet/l/lfefebvr/noorir/measures.py:278: RuntimeWarning: autocorrelation declined too slowly to find suitable lag, setting lag to 1855\n",
      "  warnings.warn(msg.format(lag), RuntimeWarning)\n"
     ]
    },
    {
     "name": "stdout",
     "output_type": "stream",
     "text": [
      "148\n",
      "149\n",
      "150\n",
      "151\n",
      "152\n",
      "153\n",
      "154\n",
      "155\n",
      "156\n",
      "157\n",
      "158\n",
      "159\n",
      "160\n"
     ]
    },
    {
     "name": "stderr",
     "output_type": "stream",
     "text": [
      "/bg01/homescinet/l/lfefebvr/noorir/measures.py:248: RuntimeWarning: signal has very low mean frequency, setting min_tsep = 2500\n",
      "  warnings.warn(msg.format(min_tsep), RuntimeWarning)\n"
     ]
    },
    {
     "name": "stdout",
     "output_type": "stream",
     "text": [
      "161\n"
     ]
    },
    {
     "name": "stderr",
     "output_type": "stream",
     "text": [
      "/bg01/homescinet/l/lfefebvr/noorir/measures.py:248: RuntimeWarning: signal has very low mean frequency, setting min_tsep = 2500\n",
      "  warnings.warn(msg.format(min_tsep), RuntimeWarning)\n",
      "/bg01/homescinet/l/lfefebvr/noorir/measures.py:248: RuntimeWarning: signal has very low mean frequency, setting min_tsep = 2500\n",
      "  warnings.warn(msg.format(min_tsep), RuntimeWarning)\n"
     ]
    },
    {
     "name": "stdout",
     "output_type": "stream",
     "text": [
      "162\n"
     ]
    },
    {
     "name": "stderr",
     "output_type": "stream",
     "text": [
      "/bg01/homescinet/l/lfefebvr/noorir/measures.py:248: RuntimeWarning: signal has very low mean frequency, setting min_tsep = 2500\n",
      "  warnings.warn(msg.format(min_tsep), RuntimeWarning)\n",
      "/bg01/homescinet/l/lfefebvr/noorir/measures.py:248: RuntimeWarning: signal has very low mean frequency, setting min_tsep = 2500\n",
      "  warnings.warn(msg.format(min_tsep), RuntimeWarning)\n"
     ]
    },
    {
     "name": "stdout",
     "output_type": "stream",
     "text": [
      "163\n"
     ]
    },
    {
     "name": "stderr",
     "output_type": "stream",
     "text": [
      "/bg01/homescinet/l/lfefebvr/noorir/measures.py:248: RuntimeWarning: signal has very low mean frequency, setting min_tsep = 2500\n",
      "  warnings.warn(msg.format(min_tsep), RuntimeWarning)\n",
      "/bg01/homescinet/l/lfefebvr/noorir/measures.py:248: RuntimeWarning: signal has very low mean frequency, setting min_tsep = 2500\n",
      "  warnings.warn(msg.format(min_tsep), RuntimeWarning)\n"
     ]
    },
    {
     "name": "stdout",
     "output_type": "stream",
     "text": [
      "164\n"
     ]
    },
    {
     "name": "stderr",
     "output_type": "stream",
     "text": [
      "/bg01/homescinet/l/lfefebvr/noorir/measures.py:248: RuntimeWarning: signal has very low mean frequency, setting min_tsep = 2500\n",
      "  warnings.warn(msg.format(min_tsep), RuntimeWarning)\n",
      "/bg01/homescinet/l/lfefebvr/noorir/measures.py:248: RuntimeWarning: signal has very low mean frequency, setting min_tsep = 2500\n",
      "  warnings.warn(msg.format(min_tsep), RuntimeWarning)\n"
     ]
    },
    {
     "name": "stdout",
     "output_type": "stream",
     "text": [
      "165\n"
     ]
    },
    {
     "name": "stderr",
     "output_type": "stream",
     "text": [
      "/bg01/homescinet/l/lfefebvr/noorir/measures.py:248: RuntimeWarning: signal has very low mean frequency, setting min_tsep = 2500\n",
      "  warnings.warn(msg.format(min_tsep), RuntimeWarning)\n",
      "/bg01/homescinet/l/lfefebvr/noorir/measures.py:248: RuntimeWarning: signal has very low mean frequency, setting min_tsep = 2500\n",
      "  warnings.warn(msg.format(min_tsep), RuntimeWarning)\n"
     ]
    },
    {
     "name": "stdout",
     "output_type": "stream",
     "text": [
      "166\n"
     ]
    },
    {
     "name": "stderr",
     "output_type": "stream",
     "text": [
      "/bg01/homescinet/l/lfefebvr/noorir/measures.py:248: RuntimeWarning: signal has very low mean frequency, setting min_tsep = 2500\n",
      "  warnings.warn(msg.format(min_tsep), RuntimeWarning)\n",
      "/bg01/homescinet/l/lfefebvr/noorir/measures.py:248: RuntimeWarning: signal has very low mean frequency, setting min_tsep = 2500\n",
      "  warnings.warn(msg.format(min_tsep), RuntimeWarning)\n"
     ]
    },
    {
     "name": "stdout",
     "output_type": "stream",
     "text": [
      "167\n"
     ]
    },
    {
     "name": "stderr",
     "output_type": "stream",
     "text": [
      "/bg01/homescinet/l/lfefebvr/noorir/measures.py:248: RuntimeWarning: signal has very low mean frequency, setting min_tsep = 2500\n",
      "  warnings.warn(msg.format(min_tsep), RuntimeWarning)\n",
      "/bg01/homescinet/l/lfefebvr/noorir/measures.py:248: RuntimeWarning: signal has very low mean frequency, setting min_tsep = 2500\n",
      "  warnings.warn(msg.format(min_tsep), RuntimeWarning)\n"
     ]
    },
    {
     "name": "stdout",
     "output_type": "stream",
     "text": [
      "168\n"
     ]
    },
    {
     "name": "stderr",
     "output_type": "stream",
     "text": [
      "/bg01/homescinet/l/lfefebvr/noorir/measures.py:248: RuntimeWarning: signal has very low mean frequency, setting min_tsep = 2500\n",
      "  warnings.warn(msg.format(min_tsep), RuntimeWarning)\n",
      "/bg01/homescinet/l/lfefebvr/noorir/measures.py:248: RuntimeWarning: signal has very low mean frequency, setting min_tsep = 2500\n",
      "  warnings.warn(msg.format(min_tsep), RuntimeWarning)\n"
     ]
    },
    {
     "name": "stdout",
     "output_type": "stream",
     "text": [
      "169\n"
     ]
    },
    {
     "name": "stderr",
     "output_type": "stream",
     "text": [
      "/bg01/homescinet/l/lfefebvr/noorir/measures.py:248: RuntimeWarning: signal has very low mean frequency, setting min_tsep = 2500\n",
      "  warnings.warn(msg.format(min_tsep), RuntimeWarning)\n",
      "/bg01/homescinet/l/lfefebvr/noorir/measures.py:248: RuntimeWarning: signal has very low mean frequency, setting min_tsep = 2500\n",
      "  warnings.warn(msg.format(min_tsep), RuntimeWarning)\n"
     ]
    },
    {
     "name": "stdout",
     "output_type": "stream",
     "text": [
      "170\n"
     ]
    },
    {
     "name": "stderr",
     "output_type": "stream",
     "text": [
      "/bg01/homescinet/l/lfefebvr/noorir/measures.py:248: RuntimeWarning: signal has very low mean frequency, setting min_tsep = 2500\n",
      "  warnings.warn(msg.format(min_tsep), RuntimeWarning)\n",
      "/bg01/homescinet/l/lfefebvr/noorir/measures.py:248: RuntimeWarning: signal has very low mean frequency, setting min_tsep = 2500\n",
      "  warnings.warn(msg.format(min_tsep), RuntimeWarning)\n"
     ]
    },
    {
     "name": "stdout",
     "output_type": "stream",
     "text": [
      "171\n"
     ]
    },
    {
     "name": "stderr",
     "output_type": "stream",
     "text": [
      "/bg01/homescinet/l/lfefebvr/noorir/measures.py:248: RuntimeWarning: signal has very low mean frequency, setting min_tsep = 2500\n",
      "  warnings.warn(msg.format(min_tsep), RuntimeWarning)\n",
      "/bg01/homescinet/l/lfefebvr/noorir/measures.py:248: RuntimeWarning: signal has very low mean frequency, setting min_tsep = 2500\n",
      "  warnings.warn(msg.format(min_tsep), RuntimeWarning)\n"
     ]
    },
    {
     "name": "stdout",
     "output_type": "stream",
     "text": [
      "172\n"
     ]
    },
    {
     "name": "stderr",
     "output_type": "stream",
     "text": [
      "/bg01/homescinet/l/lfefebvr/noorir/measures.py:248: RuntimeWarning: signal has very low mean frequency, setting min_tsep = 2500\n",
      "  warnings.warn(msg.format(min_tsep), RuntimeWarning)\n",
      "/bg01/homescinet/l/lfefebvr/noorir/measures.py:248: RuntimeWarning: signal has very low mean frequency, setting min_tsep = 2500\n",
      "  warnings.warn(msg.format(min_tsep), RuntimeWarning)\n"
     ]
    },
    {
     "name": "stdout",
     "output_type": "stream",
     "text": [
      "173\n"
     ]
    },
    {
     "name": "stderr",
     "output_type": "stream",
     "text": [
      "/bg01/homescinet/l/lfefebvr/noorir/measures.py:248: RuntimeWarning: signal has very low mean frequency, setting min_tsep = 2500\n",
      "  warnings.warn(msg.format(min_tsep), RuntimeWarning)\n",
      "/bg01/homescinet/l/lfefebvr/noorir/measures.py:248: RuntimeWarning: signal has very low mean frequency, setting min_tsep = 2500\n",
      "  warnings.warn(msg.format(min_tsep), RuntimeWarning)\n"
     ]
    },
    {
     "name": "stdout",
     "output_type": "stream",
     "text": [
      "174\n"
     ]
    },
    {
     "name": "stderr",
     "output_type": "stream",
     "text": [
      "/bg01/homescinet/l/lfefebvr/noorir/measures.py:248: RuntimeWarning: signal has very low mean frequency, setting min_tsep = 2500\n",
      "  warnings.warn(msg.format(min_tsep), RuntimeWarning)\n",
      "/bg01/homescinet/l/lfefebvr/noorir/measures.py:248: RuntimeWarning: signal has very low mean frequency, setting min_tsep = 2500\n",
      "  warnings.warn(msg.format(min_tsep), RuntimeWarning)\n"
     ]
    },
    {
     "name": "stdout",
     "output_type": "stream",
     "text": [
      "175\n"
     ]
    },
    {
     "name": "stderr",
     "output_type": "stream",
     "text": [
      "/bg01/homescinet/l/lfefebvr/noorir/measures.py:248: RuntimeWarning: signal has very low mean frequency, setting min_tsep = 2500\n",
      "  warnings.warn(msg.format(min_tsep), RuntimeWarning)\n",
      "/bg01/homescinet/l/lfefebvr/noorir/measures.py:278: RuntimeWarning: autocorrelation declined too slowly to find suitable lag, setting lag to 1855\n",
      "  warnings.warn(msg.format(lag), RuntimeWarning)\n"
     ]
    },
    {
     "name": "stdout",
     "output_type": "stream",
     "text": [
      "176\n",
      "177\n",
      "178\n",
      "179\n",
      "180\n"
     ]
    },
    {
     "name": "stderr",
     "output_type": "stream",
     "text": [
      "/bg01/homescinet/l/lfefebvr/noorir/measures.py:248: RuntimeWarning: signal has very low mean frequency, setting min_tsep = 2500\n",
      "  warnings.warn(msg.format(min_tsep), RuntimeWarning)\n"
     ]
    },
    {
     "name": "stdout",
     "output_type": "stream",
     "text": [
      "181\n"
     ]
    },
    {
     "name": "stderr",
     "output_type": "stream",
     "text": [
      "/bg01/homescinet/l/lfefebvr/noorir/measures.py:248: RuntimeWarning: signal has very low mean frequency, setting min_tsep = 2500\n",
      "  warnings.warn(msg.format(min_tsep), RuntimeWarning)\n",
      "/bg01/homescinet/l/lfefebvr/noorir/measures.py:248: RuntimeWarning: signal has very low mean frequency, setting min_tsep = 2500\n",
      "  warnings.warn(msg.format(min_tsep), RuntimeWarning)\n"
     ]
    },
    {
     "name": "stdout",
     "output_type": "stream",
     "text": [
      "182\n"
     ]
    },
    {
     "name": "stderr",
     "output_type": "stream",
     "text": [
      "/bg01/homescinet/l/lfefebvr/noorir/measures.py:248: RuntimeWarning: signal has very low mean frequency, setting min_tsep = 2500\n",
      "  warnings.warn(msg.format(min_tsep), RuntimeWarning)\n",
      "/bg01/homescinet/l/lfefebvr/noorir/measures.py:248: RuntimeWarning: signal has very low mean frequency, setting min_tsep = 2500\n",
      "  warnings.warn(msg.format(min_tsep), RuntimeWarning)\n"
     ]
    },
    {
     "name": "stdout",
     "output_type": "stream",
     "text": [
      "183\n"
     ]
    },
    {
     "name": "stderr",
     "output_type": "stream",
     "text": [
      "/bg01/homescinet/l/lfefebvr/noorir/measures.py:248: RuntimeWarning: signal has very low mean frequency, setting min_tsep = 2500\n",
      "  warnings.warn(msg.format(min_tsep), RuntimeWarning)\n",
      "/bg01/homescinet/l/lfefebvr/noorir/measures.py:248: RuntimeWarning: signal has very low mean frequency, setting min_tsep = 2500\n",
      "  warnings.warn(msg.format(min_tsep), RuntimeWarning)\n"
     ]
    },
    {
     "name": "stdout",
     "output_type": "stream",
     "text": [
      "184\n"
     ]
    },
    {
     "name": "stderr",
     "output_type": "stream",
     "text": [
      "/bg01/homescinet/l/lfefebvr/noorir/measures.py:248: RuntimeWarning: signal has very low mean frequency, setting min_tsep = 2500\n",
      "  warnings.warn(msg.format(min_tsep), RuntimeWarning)\n",
      "/bg01/homescinet/l/lfefebvr/noorir/measures.py:248: RuntimeWarning: signal has very low mean frequency, setting min_tsep = 2500\n",
      "  warnings.warn(msg.format(min_tsep), RuntimeWarning)\n"
     ]
    },
    {
     "name": "stdout",
     "output_type": "stream",
     "text": [
      "185\n"
     ]
    },
    {
     "name": "stderr",
     "output_type": "stream",
     "text": [
      "/bg01/homescinet/l/lfefebvr/noorir/measures.py:248: RuntimeWarning: signal has very low mean frequency, setting min_tsep = 2500\n",
      "  warnings.warn(msg.format(min_tsep), RuntimeWarning)\n",
      "/bg01/homescinet/l/lfefebvr/noorir/measures.py:248: RuntimeWarning: signal has very low mean frequency, setting min_tsep = 2500\n",
      "  warnings.warn(msg.format(min_tsep), RuntimeWarning)\n"
     ]
    },
    {
     "name": "stdout",
     "output_type": "stream",
     "text": [
      "186\n"
     ]
    },
    {
     "name": "stderr",
     "output_type": "stream",
     "text": [
      "/bg01/homescinet/l/lfefebvr/noorir/measures.py:248: RuntimeWarning: signal has very low mean frequency, setting min_tsep = 2500\n",
      "  warnings.warn(msg.format(min_tsep), RuntimeWarning)\n",
      "/bg01/homescinet/l/lfefebvr/noorir/measures.py:248: RuntimeWarning: signal has very low mean frequency, setting min_tsep = 2500\n",
      "  warnings.warn(msg.format(min_tsep), RuntimeWarning)\n"
     ]
    },
    {
     "name": "stdout",
     "output_type": "stream",
     "text": [
      "187\n"
     ]
    },
    {
     "name": "stderr",
     "output_type": "stream",
     "text": [
      "/bg01/homescinet/l/lfefebvr/noorir/measures.py:248: RuntimeWarning: signal has very low mean frequency, setting min_tsep = 2500\n",
      "  warnings.warn(msg.format(min_tsep), RuntimeWarning)\n",
      "/bg01/homescinet/l/lfefebvr/noorir/measures.py:248: RuntimeWarning: signal has very low mean frequency, setting min_tsep = 2500\n",
      "  warnings.warn(msg.format(min_tsep), RuntimeWarning)\n"
     ]
    },
    {
     "name": "stdout",
     "output_type": "stream",
     "text": [
      "188\n"
     ]
    },
    {
     "name": "stderr",
     "output_type": "stream",
     "text": [
      "/bg01/homescinet/l/lfefebvr/noorir/measures.py:248: RuntimeWarning: signal has very low mean frequency, setting min_tsep = 2500\n",
      "  warnings.warn(msg.format(min_tsep), RuntimeWarning)\n",
      "/bg01/homescinet/l/lfefebvr/noorir/measures.py:278: RuntimeWarning: autocorrelation declined too slowly to find suitable lag, setting lag to 1855\n",
      "  warnings.warn(msg.format(lag), RuntimeWarning)\n"
     ]
    },
    {
     "name": "stdout",
     "output_type": "stream",
     "text": [
      "189\n",
      "190\n",
      "191\n",
      "192\n",
      "193\n",
      "194\n",
      "195\n",
      "196\n",
      "197\n",
      "198\n",
      "199\n",
      "200\n"
     ]
    },
    {
     "name": "stderr",
     "output_type": "stream",
     "text": [
      "/bg01/homescinet/l/lfefebvr/noorir/measures.py:248: RuntimeWarning: signal has very low mean frequency, setting min_tsep = 2500\n",
      "  warnings.warn(msg.format(min_tsep), RuntimeWarning)\n"
     ]
    },
    {
     "name": "stdout",
     "output_type": "stream",
     "text": [
      "201\n"
     ]
    },
    {
     "name": "stderr",
     "output_type": "stream",
     "text": [
      "/bg01/homescinet/l/lfefebvr/noorir/measures.py:248: RuntimeWarning: signal has very low mean frequency, setting min_tsep = 2500\n",
      "  warnings.warn(msg.format(min_tsep), RuntimeWarning)\n",
      "/bg01/homescinet/l/lfefebvr/noorir/measures.py:248: RuntimeWarning: signal has very low mean frequency, setting min_tsep = 2500\n",
      "  warnings.warn(msg.format(min_tsep), RuntimeWarning)\n"
     ]
    },
    {
     "name": "stdout",
     "output_type": "stream",
     "text": [
      "202\n"
     ]
    },
    {
     "name": "stderr",
     "output_type": "stream",
     "text": [
      "/bg01/homescinet/l/lfefebvr/noorir/measures.py:248: RuntimeWarning: signal has very low mean frequency, setting min_tsep = 2500\n",
      "  warnings.warn(msg.format(min_tsep), RuntimeWarning)\n",
      "/bg01/homescinet/l/lfefebvr/noorir/measures.py:248: RuntimeWarning: signal has very low mean frequency, setting min_tsep = 2500\n",
      "  warnings.warn(msg.format(min_tsep), RuntimeWarning)\n"
     ]
    },
    {
     "name": "stdout",
     "output_type": "stream",
     "text": [
      "203\n"
     ]
    },
    {
     "name": "stderr",
     "output_type": "stream",
     "text": [
      "/bg01/homescinet/l/lfefebvr/noorir/measures.py:248: RuntimeWarning: signal has very low mean frequency, setting min_tsep = 2500\n",
      "  warnings.warn(msg.format(min_tsep), RuntimeWarning)\n",
      "/bg01/homescinet/l/lfefebvr/noorir/measures.py:248: RuntimeWarning: signal has very low mean frequency, setting min_tsep = 2500\n",
      "  warnings.warn(msg.format(min_tsep), RuntimeWarning)\n"
     ]
    },
    {
     "name": "stdout",
     "output_type": "stream",
     "text": [
      "204\n"
     ]
    },
    {
     "name": "stderr",
     "output_type": "stream",
     "text": [
      "/bg01/homescinet/l/lfefebvr/noorir/measures.py:248: RuntimeWarning: signal has very low mean frequency, setting min_tsep = 2500\n",
      "  warnings.warn(msg.format(min_tsep), RuntimeWarning)\n",
      "/bg01/homescinet/l/lfefebvr/noorir/measures.py:248: RuntimeWarning: signal has very low mean frequency, setting min_tsep = 2500\n",
      "  warnings.warn(msg.format(min_tsep), RuntimeWarning)\n"
     ]
    },
    {
     "name": "stdout",
     "output_type": "stream",
     "text": [
      "205\n"
     ]
    },
    {
     "name": "stderr",
     "output_type": "stream",
     "text": [
      "/bg01/homescinet/l/lfefebvr/noorir/measures.py:248: RuntimeWarning: signal has very low mean frequency, setting min_tsep = 2500\n",
      "  warnings.warn(msg.format(min_tsep), RuntimeWarning)\n",
      "/bg01/homescinet/l/lfefebvr/noorir/measures.py:248: RuntimeWarning: signal has very low mean frequency, setting min_tsep = 2500\n",
      "  warnings.warn(msg.format(min_tsep), RuntimeWarning)\n"
     ]
    },
    {
     "name": "stdout",
     "output_type": "stream",
     "text": [
      "206\n"
     ]
    },
    {
     "name": "stderr",
     "output_type": "stream",
     "text": [
      "/bg01/homescinet/l/lfefebvr/noorir/measures.py:248: RuntimeWarning: signal has very low mean frequency, setting min_tsep = 2500\n",
      "  warnings.warn(msg.format(min_tsep), RuntimeWarning)\n",
      "/bg01/homescinet/l/lfefebvr/noorir/measures.py:248: RuntimeWarning: signal has very low mean frequency, setting min_tsep = 2500\n",
      "  warnings.warn(msg.format(min_tsep), RuntimeWarning)\n"
     ]
    },
    {
     "name": "stdout",
     "output_type": "stream",
     "text": [
      "207\n"
     ]
    },
    {
     "name": "stderr",
     "output_type": "stream",
     "text": [
      "/bg01/homescinet/l/lfefebvr/noorir/measures.py:248: RuntimeWarning: signal has very low mean frequency, setting min_tsep = 2500\n",
      "  warnings.warn(msg.format(min_tsep), RuntimeWarning)\n",
      "/bg01/homescinet/l/lfefebvr/noorir/measures.py:248: RuntimeWarning: signal has very low mean frequency, setting min_tsep = 2500\n",
      "  warnings.warn(msg.format(min_tsep), RuntimeWarning)\n"
     ]
    },
    {
     "name": "stdout",
     "output_type": "stream",
     "text": [
      "208\n"
     ]
    },
    {
     "name": "stderr",
     "output_type": "stream",
     "text": [
      "/bg01/homescinet/l/lfefebvr/noorir/measures.py:248: RuntimeWarning: signal has very low mean frequency, setting min_tsep = 2500\n",
      "  warnings.warn(msg.format(min_tsep), RuntimeWarning)\n",
      "/bg01/homescinet/l/lfefebvr/noorir/measures.py:248: RuntimeWarning: signal has very low mean frequency, setting min_tsep = 2500\n",
      "  warnings.warn(msg.format(min_tsep), RuntimeWarning)\n"
     ]
    },
    {
     "name": "stdout",
     "output_type": "stream",
     "text": [
      "209\n"
     ]
    },
    {
     "name": "stderr",
     "output_type": "stream",
     "text": [
      "/bg01/homescinet/l/lfefebvr/noorir/measures.py:248: RuntimeWarning: signal has very low mean frequency, setting min_tsep = 2500\n",
      "  warnings.warn(msg.format(min_tsep), RuntimeWarning)\n",
      "/bg01/homescinet/l/lfefebvr/noorir/measures.py:248: RuntimeWarning: signal has very low mean frequency, setting min_tsep = 2500\n",
      "  warnings.warn(msg.format(min_tsep), RuntimeWarning)\n"
     ]
    },
    {
     "name": "stdout",
     "output_type": "stream",
     "text": [
      "210\n"
     ]
    },
    {
     "name": "stderr",
     "output_type": "stream",
     "text": [
      "/bg01/homescinet/l/lfefebvr/noorir/measures.py:248: RuntimeWarning: signal has very low mean frequency, setting min_tsep = 2500\n",
      "  warnings.warn(msg.format(min_tsep), RuntimeWarning)\n",
      "/bg01/homescinet/l/lfefebvr/noorir/measures.py:248: RuntimeWarning: signal has very low mean frequency, setting min_tsep = 2500\n",
      "  warnings.warn(msg.format(min_tsep), RuntimeWarning)\n"
     ]
    },
    {
     "name": "stdout",
     "output_type": "stream",
     "text": [
      "211\n"
     ]
    },
    {
     "name": "stderr",
     "output_type": "stream",
     "text": [
      "/bg01/homescinet/l/lfefebvr/noorir/measures.py:248: RuntimeWarning: signal has very low mean frequency, setting min_tsep = 2500\n",
      "  warnings.warn(msg.format(min_tsep), RuntimeWarning)\n",
      "/bg01/homescinet/l/lfefebvr/noorir/measures.py:248: RuntimeWarning: signal has very low mean frequency, setting min_tsep = 2500\n",
      "  warnings.warn(msg.format(min_tsep), RuntimeWarning)\n"
     ]
    },
    {
     "name": "stdout",
     "output_type": "stream",
     "text": [
      "212\n"
     ]
    },
    {
     "name": "stderr",
     "output_type": "stream",
     "text": [
      "/bg01/homescinet/l/lfefebvr/noorir/measures.py:248: RuntimeWarning: signal has very low mean frequency, setting min_tsep = 2500\n",
      "  warnings.warn(msg.format(min_tsep), RuntimeWarning)\n",
      "/bg01/homescinet/l/lfefebvr/noorir/measures.py:248: RuntimeWarning: signal has very low mean frequency, setting min_tsep = 2500\n",
      "  warnings.warn(msg.format(min_tsep), RuntimeWarning)\n"
     ]
    },
    {
     "name": "stdout",
     "output_type": "stream",
     "text": [
      "213\n"
     ]
    },
    {
     "name": "stderr",
     "output_type": "stream",
     "text": [
      "/bg01/homescinet/l/lfefebvr/noorir/measures.py:248: RuntimeWarning: signal has very low mean frequency, setting min_tsep = 2500\n",
      "  warnings.warn(msg.format(min_tsep), RuntimeWarning)\n",
      "/bg01/homescinet/l/lfefebvr/noorir/measures.py:248: RuntimeWarning: signal has very low mean frequency, setting min_tsep = 2500\n",
      "  warnings.warn(msg.format(min_tsep), RuntimeWarning)\n"
     ]
    },
    {
     "name": "stdout",
     "output_type": "stream",
     "text": [
      "214\n"
     ]
    },
    {
     "name": "stderr",
     "output_type": "stream",
     "text": [
      "/bg01/homescinet/l/lfefebvr/noorir/measures.py:248: RuntimeWarning: signal has very low mean frequency, setting min_tsep = 2500\n",
      "  warnings.warn(msg.format(min_tsep), RuntimeWarning)\n",
      "/bg01/homescinet/l/lfefebvr/noorir/measures.py:278: RuntimeWarning: autocorrelation declined too slowly to find suitable lag, setting lag to 1855\n",
      "  warnings.warn(msg.format(lag), RuntimeWarning)\n"
     ]
    },
    {
     "name": "stdout",
     "output_type": "stream",
     "text": [
      "215\n",
      "216\n",
      "217\n",
      "218\n",
      "219\n",
      "220\n"
     ]
    },
    {
     "name": "stderr",
     "output_type": "stream",
     "text": [
      "/bg01/homescinet/l/lfefebvr/noorir/measures.py:248: RuntimeWarning: signal has very low mean frequency, setting min_tsep = 2500\n",
      "  warnings.warn(msg.format(min_tsep), RuntimeWarning)\n"
     ]
    },
    {
     "name": "stdout",
     "output_type": "stream",
     "text": [
      "221\n"
     ]
    },
    {
     "name": "stderr",
     "output_type": "stream",
     "text": [
      "/bg01/homescinet/l/lfefebvr/noorir/measures.py:248: RuntimeWarning: signal has very low mean frequency, setting min_tsep = 2500\n",
      "  warnings.warn(msg.format(min_tsep), RuntimeWarning)\n",
      "/bg01/homescinet/l/lfefebvr/noorir/measures.py:248: RuntimeWarning: signal has very low mean frequency, setting min_tsep = 2500\n",
      "  warnings.warn(msg.format(min_tsep), RuntimeWarning)\n"
     ]
    },
    {
     "name": "stdout",
     "output_type": "stream",
     "text": [
      "222\n"
     ]
    },
    {
     "name": "stderr",
     "output_type": "stream",
     "text": [
      "/bg01/homescinet/l/lfefebvr/noorir/measures.py:248: RuntimeWarning: signal has very low mean frequency, setting min_tsep = 2500\n",
      "  warnings.warn(msg.format(min_tsep), RuntimeWarning)\n",
      "/bg01/homescinet/l/lfefebvr/noorir/measures.py:248: RuntimeWarning: signal has very low mean frequency, setting min_tsep = 2500\n",
      "  warnings.warn(msg.format(min_tsep), RuntimeWarning)\n"
     ]
    },
    {
     "name": "stdout",
     "output_type": "stream",
     "text": [
      "223\n"
     ]
    },
    {
     "name": "stderr",
     "output_type": "stream",
     "text": [
      "/bg01/homescinet/l/lfefebvr/noorir/measures.py:248: RuntimeWarning: signal has very low mean frequency, setting min_tsep = 2500\n",
      "  warnings.warn(msg.format(min_tsep), RuntimeWarning)\n",
      "/bg01/homescinet/l/lfefebvr/noorir/measures.py:248: RuntimeWarning: signal has very low mean frequency, setting min_tsep = 2500\n",
      "  warnings.warn(msg.format(min_tsep), RuntimeWarning)\n"
     ]
    },
    {
     "name": "stdout",
     "output_type": "stream",
     "text": [
      "224\n"
     ]
    },
    {
     "name": "stderr",
     "output_type": "stream",
     "text": [
      "/bg01/homescinet/l/lfefebvr/noorir/measures.py:248: RuntimeWarning: signal has very low mean frequency, setting min_tsep = 2500\n",
      "  warnings.warn(msg.format(min_tsep), RuntimeWarning)\n",
      "/bg01/homescinet/l/lfefebvr/noorir/measures.py:248: RuntimeWarning: signal has very low mean frequency, setting min_tsep = 2500\n",
      "  warnings.warn(msg.format(min_tsep), RuntimeWarning)\n"
     ]
    },
    {
     "name": "stdout",
     "output_type": "stream",
     "text": [
      "225\n"
     ]
    },
    {
     "name": "stderr",
     "output_type": "stream",
     "text": [
      "/bg01/homescinet/l/lfefebvr/noorir/measures.py:248: RuntimeWarning: signal has very low mean frequency, setting min_tsep = 2500\n",
      "  warnings.warn(msg.format(min_tsep), RuntimeWarning)\n",
      "/bg01/homescinet/l/lfefebvr/noorir/measures.py:248: RuntimeWarning: signal has very low mean frequency, setting min_tsep = 2500\n",
      "  warnings.warn(msg.format(min_tsep), RuntimeWarning)\n"
     ]
    },
    {
     "name": "stdout",
     "output_type": "stream",
     "text": [
      "226\n"
     ]
    },
    {
     "name": "stderr",
     "output_type": "stream",
     "text": [
      "/bg01/homescinet/l/lfefebvr/noorir/measures.py:248: RuntimeWarning: signal has very low mean frequency, setting min_tsep = 2500\n",
      "  warnings.warn(msg.format(min_tsep), RuntimeWarning)\n",
      "/bg01/homescinet/l/lfefebvr/noorir/measures.py:248: RuntimeWarning: signal has very low mean frequency, setting min_tsep = 2500\n",
      "  warnings.warn(msg.format(min_tsep), RuntimeWarning)\n"
     ]
    },
    {
     "name": "stdout",
     "output_type": "stream",
     "text": [
      "227\n"
     ]
    },
    {
     "name": "stderr",
     "output_type": "stream",
     "text": [
      "/bg01/homescinet/l/lfefebvr/noorir/measures.py:248: RuntimeWarning: signal has very low mean frequency, setting min_tsep = 2500\n",
      "  warnings.warn(msg.format(min_tsep), RuntimeWarning)\n",
      "/bg01/homescinet/l/lfefebvr/noorir/measures.py:248: RuntimeWarning: signal has very low mean frequency, setting min_tsep = 2500\n",
      "  warnings.warn(msg.format(min_tsep), RuntimeWarning)\n"
     ]
    },
    {
     "name": "stdout",
     "output_type": "stream",
     "text": [
      "228\n"
     ]
    },
    {
     "name": "stderr",
     "output_type": "stream",
     "text": [
      "/bg01/homescinet/l/lfefebvr/noorir/measures.py:248: RuntimeWarning: signal has very low mean frequency, setting min_tsep = 2500\n",
      "  warnings.warn(msg.format(min_tsep), RuntimeWarning)\n",
      "/bg01/homescinet/l/lfefebvr/noorir/measures.py:248: RuntimeWarning: signal has very low mean frequency, setting min_tsep = 2500\n",
      "  warnings.warn(msg.format(min_tsep), RuntimeWarning)\n"
     ]
    },
    {
     "name": "stdout",
     "output_type": "stream",
     "text": [
      "229\n"
     ]
    },
    {
     "name": "stderr",
     "output_type": "stream",
     "text": [
      "/bg01/homescinet/l/lfefebvr/noorir/measures.py:248: RuntimeWarning: signal has very low mean frequency, setting min_tsep = 2500\n",
      "  warnings.warn(msg.format(min_tsep), RuntimeWarning)\n",
      "/bg01/homescinet/l/lfefebvr/noorir/measures.py:278: RuntimeWarning: autocorrelation declined too slowly to find suitable lag, setting lag to 1855\n",
      "  warnings.warn(msg.format(lag), RuntimeWarning)\n"
     ]
    },
    {
     "name": "stdout",
     "output_type": "stream",
     "text": [
      "230\n",
      "231\n",
      "232\n",
      "233\n",
      "234\n",
      "235\n",
      "236\n",
      "237\n",
      "238\n",
      "239\n",
      "240\n"
     ]
    },
    {
     "name": "stderr",
     "output_type": "stream",
     "text": [
      "/bg01/homescinet/l/lfefebvr/noorir/measures.py:248: RuntimeWarning: signal has very low mean frequency, setting min_tsep = 2500\n",
      "  warnings.warn(msg.format(min_tsep), RuntimeWarning)\n"
     ]
    },
    {
     "name": "stdout",
     "output_type": "stream",
     "text": [
      "241\n"
     ]
    },
    {
     "name": "stderr",
     "output_type": "stream",
     "text": [
      "/bg01/homescinet/l/lfefebvr/noorir/measures.py:248: RuntimeWarning: signal has very low mean frequency, setting min_tsep = 2500\n",
      "  warnings.warn(msg.format(min_tsep), RuntimeWarning)\n",
      "/bg01/homescinet/l/lfefebvr/noorir/measures.py:248: RuntimeWarning: signal has very low mean frequency, setting min_tsep = 2500\n",
      "  warnings.warn(msg.format(min_tsep), RuntimeWarning)\n"
     ]
    },
    {
     "name": "stdout",
     "output_type": "stream",
     "text": [
      "242\n"
     ]
    },
    {
     "name": "stderr",
     "output_type": "stream",
     "text": [
      "/bg01/homescinet/l/lfefebvr/noorir/measures.py:248: RuntimeWarning: signal has very low mean frequency, setting min_tsep = 2500\n",
      "  warnings.warn(msg.format(min_tsep), RuntimeWarning)\n",
      "/bg01/homescinet/l/lfefebvr/noorir/measures.py:248: RuntimeWarning: signal has very low mean frequency, setting min_tsep = 2500\n",
      "  warnings.warn(msg.format(min_tsep), RuntimeWarning)\n"
     ]
    },
    {
     "name": "stdout",
     "output_type": "stream",
     "text": [
      "243\n"
     ]
    },
    {
     "name": "stderr",
     "output_type": "stream",
     "text": [
      "/bg01/homescinet/l/lfefebvr/noorir/measures.py:248: RuntimeWarning: signal has very low mean frequency, setting min_tsep = 2500\n",
      "  warnings.warn(msg.format(min_tsep), RuntimeWarning)\n",
      "/bg01/homescinet/l/lfefebvr/noorir/measures.py:248: RuntimeWarning: signal has very low mean frequency, setting min_tsep = 2500\n",
      "  warnings.warn(msg.format(min_tsep), RuntimeWarning)\n"
     ]
    },
    {
     "name": "stdout",
     "output_type": "stream",
     "text": [
      "244\n"
     ]
    },
    {
     "name": "stderr",
     "output_type": "stream",
     "text": [
      "/bg01/homescinet/l/lfefebvr/noorir/measures.py:248: RuntimeWarning: signal has very low mean frequency, setting min_tsep = 2500\n",
      "  warnings.warn(msg.format(min_tsep), RuntimeWarning)\n",
      "/bg01/homescinet/l/lfefebvr/noorir/measures.py:248: RuntimeWarning: signal has very low mean frequency, setting min_tsep = 2500\n",
      "  warnings.warn(msg.format(min_tsep), RuntimeWarning)\n"
     ]
    },
    {
     "name": "stdout",
     "output_type": "stream",
     "text": [
      "245\n"
     ]
    },
    {
     "name": "stderr",
     "output_type": "stream",
     "text": [
      "/bg01/homescinet/l/lfefebvr/noorir/measures.py:248: RuntimeWarning: signal has very low mean frequency, setting min_tsep = 2500\n",
      "  warnings.warn(msg.format(min_tsep), RuntimeWarning)\n",
      "/bg01/homescinet/l/lfefebvr/noorir/measures.py:248: RuntimeWarning: signal has very low mean frequency, setting min_tsep = 2500\n",
      "  warnings.warn(msg.format(min_tsep), RuntimeWarning)\n"
     ]
    },
    {
     "name": "stdout",
     "output_type": "stream",
     "text": [
      "246\n"
     ]
    },
    {
     "name": "stderr",
     "output_type": "stream",
     "text": [
      "/bg01/homescinet/l/lfefebvr/noorir/measures.py:248: RuntimeWarning: signal has very low mean frequency, setting min_tsep = 2500\n",
      "  warnings.warn(msg.format(min_tsep), RuntimeWarning)\n",
      "/bg01/homescinet/l/lfefebvr/noorir/measures.py:248: RuntimeWarning: signal has very low mean frequency, setting min_tsep = 2500\n",
      "  warnings.warn(msg.format(min_tsep), RuntimeWarning)\n"
     ]
    },
    {
     "name": "stdout",
     "output_type": "stream",
     "text": [
      "247\n"
     ]
    },
    {
     "name": "stderr",
     "output_type": "stream",
     "text": [
      "/bg01/homescinet/l/lfefebvr/noorir/measures.py:248: RuntimeWarning: signal has very low mean frequency, setting min_tsep = 2500\n",
      "  warnings.warn(msg.format(min_tsep), RuntimeWarning)\n",
      "/bg01/homescinet/l/lfefebvr/noorir/measures.py:248: RuntimeWarning: signal has very low mean frequency, setting min_tsep = 2500\n",
      "  warnings.warn(msg.format(min_tsep), RuntimeWarning)\n"
     ]
    },
    {
     "name": "stdout",
     "output_type": "stream",
     "text": [
      "248\n"
     ]
    },
    {
     "name": "stderr",
     "output_type": "stream",
     "text": [
      "/bg01/homescinet/l/lfefebvr/noorir/measures.py:248: RuntimeWarning: signal has very low mean frequency, setting min_tsep = 2500\n",
      "  warnings.warn(msg.format(min_tsep), RuntimeWarning)\n",
      "/bg01/homescinet/l/lfefebvr/noorir/measures.py:248: RuntimeWarning: signal has very low mean frequency, setting min_tsep = 2500\n",
      "  warnings.warn(msg.format(min_tsep), RuntimeWarning)\n"
     ]
    },
    {
     "name": "stdout",
     "output_type": "stream",
     "text": [
      "249\n"
     ]
    },
    {
     "name": "stderr",
     "output_type": "stream",
     "text": [
      "/bg01/homescinet/l/lfefebvr/noorir/measures.py:248: RuntimeWarning: signal has very low mean frequency, setting min_tsep = 2500\n",
      "  warnings.warn(msg.format(min_tsep), RuntimeWarning)\n",
      "/bg01/homescinet/l/lfefebvr/noorir/measures.py:248: RuntimeWarning: signal has very low mean frequency, setting min_tsep = 2500\n",
      "  warnings.warn(msg.format(min_tsep), RuntimeWarning)\n"
     ]
    },
    {
     "name": "stdout",
     "output_type": "stream",
     "text": [
      "250\n"
     ]
    },
    {
     "name": "stderr",
     "output_type": "stream",
     "text": [
      "/bg01/homescinet/l/lfefebvr/noorir/measures.py:248: RuntimeWarning: signal has very low mean frequency, setting min_tsep = 2500\n",
      "  warnings.warn(msg.format(min_tsep), RuntimeWarning)\n",
      "/bg01/homescinet/l/lfefebvr/noorir/measures.py:278: RuntimeWarning: autocorrelation declined too slowly to find suitable lag, setting lag to 1855\n",
      "  warnings.warn(msg.format(lag), RuntimeWarning)\n"
     ]
    },
    {
     "name": "stdout",
     "output_type": "stream",
     "text": [
      "251\n",
      "252\n",
      "253\n",
      "254\n",
      "255\n",
      "256\n",
      "257\n",
      "258\n",
      "259\n",
      "260\n"
     ]
    },
    {
     "name": "stderr",
     "output_type": "stream",
     "text": [
      "/bg01/homescinet/l/lfefebvr/noorir/measures.py:248: RuntimeWarning: signal has very low mean frequency, setting min_tsep = 2500\n",
      "  warnings.warn(msg.format(min_tsep), RuntimeWarning)\n"
     ]
    },
    {
     "name": "stdout",
     "output_type": "stream",
     "text": [
      "261\n"
     ]
    },
    {
     "name": "stderr",
     "output_type": "stream",
     "text": [
      "/bg01/homescinet/l/lfefebvr/noorir/measures.py:248: RuntimeWarning: signal has very low mean frequency, setting min_tsep = 2500\n",
      "  warnings.warn(msg.format(min_tsep), RuntimeWarning)\n",
      "/bg01/homescinet/l/lfefebvr/noorir/measures.py:248: RuntimeWarning: signal has very low mean frequency, setting min_tsep = 2500\n",
      "  warnings.warn(msg.format(min_tsep), RuntimeWarning)\n"
     ]
    },
    {
     "name": "stdout",
     "output_type": "stream",
     "text": [
      "262\n"
     ]
    },
    {
     "name": "stderr",
     "output_type": "stream",
     "text": [
      "/bg01/homescinet/l/lfefebvr/noorir/measures.py:248: RuntimeWarning: signal has very low mean frequency, setting min_tsep = 2500\n",
      "  warnings.warn(msg.format(min_tsep), RuntimeWarning)\n",
      "/bg01/homescinet/l/lfefebvr/noorir/measures.py:248: RuntimeWarning: signal has very low mean frequency, setting min_tsep = 2500\n",
      "  warnings.warn(msg.format(min_tsep), RuntimeWarning)\n"
     ]
    },
    {
     "name": "stdout",
     "output_type": "stream",
     "text": [
      "263\n"
     ]
    },
    {
     "name": "stderr",
     "output_type": "stream",
     "text": [
      "/bg01/homescinet/l/lfefebvr/noorir/measures.py:248: RuntimeWarning: signal has very low mean frequency, setting min_tsep = 2500\n",
      "  warnings.warn(msg.format(min_tsep), RuntimeWarning)\n",
      "/bg01/homescinet/l/lfefebvr/noorir/measures.py:248: RuntimeWarning: signal has very low mean frequency, setting min_tsep = 2500\n",
      "  warnings.warn(msg.format(min_tsep), RuntimeWarning)\n"
     ]
    },
    {
     "name": "stdout",
     "output_type": "stream",
     "text": [
      "264\n"
     ]
    },
    {
     "name": "stderr",
     "output_type": "stream",
     "text": [
      "/bg01/homescinet/l/lfefebvr/noorir/measures.py:248: RuntimeWarning: signal has very low mean frequency, setting min_tsep = 2500\n",
      "  warnings.warn(msg.format(min_tsep), RuntimeWarning)\n",
      "/bg01/homescinet/l/lfefebvr/noorir/measures.py:248: RuntimeWarning: signal has very low mean frequency, setting min_tsep = 2500\n",
      "  warnings.warn(msg.format(min_tsep), RuntimeWarning)\n"
     ]
    },
    {
     "name": "stdout",
     "output_type": "stream",
     "text": [
      "265\n"
     ]
    },
    {
     "name": "stderr",
     "output_type": "stream",
     "text": [
      "/bg01/homescinet/l/lfefebvr/noorir/measures.py:248: RuntimeWarning: signal has very low mean frequency, setting min_tsep = 2500\n",
      "  warnings.warn(msg.format(min_tsep), RuntimeWarning)\n",
      "/bg01/homescinet/l/lfefebvr/noorir/measures.py:248: RuntimeWarning: signal has very low mean frequency, setting min_tsep = 2500\n",
      "  warnings.warn(msg.format(min_tsep), RuntimeWarning)\n"
     ]
    },
    {
     "name": "stdout",
     "output_type": "stream",
     "text": [
      "266\n"
     ]
    },
    {
     "name": "stderr",
     "output_type": "stream",
     "text": [
      "/bg01/homescinet/l/lfefebvr/noorir/measures.py:248: RuntimeWarning: signal has very low mean frequency, setting min_tsep = 2500\n",
      "  warnings.warn(msg.format(min_tsep), RuntimeWarning)\n",
      "/bg01/homescinet/l/lfefebvr/noorir/measures.py:248: RuntimeWarning: signal has very low mean frequency, setting min_tsep = 2500\n",
      "  warnings.warn(msg.format(min_tsep), RuntimeWarning)\n"
     ]
    },
    {
     "name": "stdout",
     "output_type": "stream",
     "text": [
      "267\n"
     ]
    },
    {
     "name": "stderr",
     "output_type": "stream",
     "text": [
      "/bg01/homescinet/l/lfefebvr/noorir/measures.py:248: RuntimeWarning: signal has very low mean frequency, setting min_tsep = 2500\n",
      "  warnings.warn(msg.format(min_tsep), RuntimeWarning)\n",
      "/bg01/homescinet/l/lfefebvr/noorir/measures.py:248: RuntimeWarning: signal has very low mean frequency, setting min_tsep = 2500\n",
      "  warnings.warn(msg.format(min_tsep), RuntimeWarning)\n"
     ]
    },
    {
     "name": "stdout",
     "output_type": "stream",
     "text": [
      "268\n"
     ]
    },
    {
     "name": "stderr",
     "output_type": "stream",
     "text": [
      "/bg01/homescinet/l/lfefebvr/noorir/measures.py:248: RuntimeWarning: signal has very low mean frequency, setting min_tsep = 2500\n",
      "  warnings.warn(msg.format(min_tsep), RuntimeWarning)\n",
      "/bg01/homescinet/l/lfefebvr/noorir/measures.py:248: RuntimeWarning: signal has very low mean frequency, setting min_tsep = 2500\n",
      "  warnings.warn(msg.format(min_tsep), RuntimeWarning)\n"
     ]
    },
    {
     "name": "stdout",
     "output_type": "stream",
     "text": [
      "269\n"
     ]
    },
    {
     "name": "stderr",
     "output_type": "stream",
     "text": [
      "/bg01/homescinet/l/lfefebvr/noorir/measures.py:248: RuntimeWarning: signal has very low mean frequency, setting min_tsep = 2500\n",
      "  warnings.warn(msg.format(min_tsep), RuntimeWarning)\n",
      "/bg01/homescinet/l/lfefebvr/noorir/measures.py:248: RuntimeWarning: signal has very low mean frequency, setting min_tsep = 2500\n",
      "  warnings.warn(msg.format(min_tsep), RuntimeWarning)\n"
     ]
    },
    {
     "name": "stdout",
     "output_type": "stream",
     "text": [
      "270\n"
     ]
    },
    {
     "name": "stderr",
     "output_type": "stream",
     "text": [
      "/bg01/homescinet/l/lfefebvr/noorir/measures.py:248: RuntimeWarning: signal has very low mean frequency, setting min_tsep = 2500\n",
      "  warnings.warn(msg.format(min_tsep), RuntimeWarning)\n",
      "/bg01/homescinet/l/lfefebvr/noorir/measures.py:278: RuntimeWarning: autocorrelation declined too slowly to find suitable lag, setting lag to 1855\n",
      "  warnings.warn(msg.format(lag), RuntimeWarning)\n"
     ]
    },
    {
     "name": "stdout",
     "output_type": "stream",
     "text": [
      "271\n",
      "272\n",
      "273\n",
      "274\n",
      "275\n",
      "276\n",
      "277\n",
      "278\n",
      "279\n",
      "280\n"
     ]
    },
    {
     "name": "stderr",
     "output_type": "stream",
     "text": [
      "/bg01/homescinet/l/lfefebvr/noorir/measures.py:248: RuntimeWarning: signal has very low mean frequency, setting min_tsep = 2500\n",
      "  warnings.warn(msg.format(min_tsep), RuntimeWarning)\n"
     ]
    },
    {
     "name": "stdout",
     "output_type": "stream",
     "text": [
      "281\n"
     ]
    },
    {
     "name": "stderr",
     "output_type": "stream",
     "text": [
      "/bg01/homescinet/l/lfefebvr/noorir/measures.py:248: RuntimeWarning: signal has very low mean frequency, setting min_tsep = 2500\n",
      "  warnings.warn(msg.format(min_tsep), RuntimeWarning)\n",
      "/bg01/homescinet/l/lfefebvr/noorir/measures.py:248: RuntimeWarning: signal has very low mean frequency, setting min_tsep = 2500\n",
      "  warnings.warn(msg.format(min_tsep), RuntimeWarning)\n"
     ]
    },
    {
     "name": "stdout",
     "output_type": "stream",
     "text": [
      "282\n"
     ]
    },
    {
     "name": "stderr",
     "output_type": "stream",
     "text": [
      "/bg01/homescinet/l/lfefebvr/noorir/measures.py:248: RuntimeWarning: signal has very low mean frequency, setting min_tsep = 2500\n",
      "  warnings.warn(msg.format(min_tsep), RuntimeWarning)\n",
      "/bg01/homescinet/l/lfefebvr/noorir/measures.py:248: RuntimeWarning: signal has very low mean frequency, setting min_tsep = 2500\n",
      "  warnings.warn(msg.format(min_tsep), RuntimeWarning)\n"
     ]
    },
    {
     "name": "stdout",
     "output_type": "stream",
     "text": [
      "283\n"
     ]
    },
    {
     "name": "stderr",
     "output_type": "stream",
     "text": [
      "/bg01/homescinet/l/lfefebvr/noorir/measures.py:248: RuntimeWarning: signal has very low mean frequency, setting min_tsep = 2500\n",
      "  warnings.warn(msg.format(min_tsep), RuntimeWarning)\n",
      "/bg01/homescinet/l/lfefebvr/noorir/measures.py:248: RuntimeWarning: signal has very low mean frequency, setting min_tsep = 2500\n",
      "  warnings.warn(msg.format(min_tsep), RuntimeWarning)\n"
     ]
    },
    {
     "name": "stdout",
     "output_type": "stream",
     "text": [
      "284\n"
     ]
    },
    {
     "name": "stderr",
     "output_type": "stream",
     "text": [
      "/bg01/homescinet/l/lfefebvr/noorir/measures.py:248: RuntimeWarning: signal has very low mean frequency, setting min_tsep = 2500\n",
      "  warnings.warn(msg.format(min_tsep), RuntimeWarning)\n",
      "/bg01/homescinet/l/lfefebvr/noorir/measures.py:248: RuntimeWarning: signal has very low mean frequency, setting min_tsep = 2500\n",
      "  warnings.warn(msg.format(min_tsep), RuntimeWarning)\n"
     ]
    },
    {
     "name": "stdout",
     "output_type": "stream",
     "text": [
      "285\n"
     ]
    },
    {
     "name": "stderr",
     "output_type": "stream",
     "text": [
      "/bg01/homescinet/l/lfefebvr/noorir/measures.py:248: RuntimeWarning: signal has very low mean frequency, setting min_tsep = 2500\n",
      "  warnings.warn(msg.format(min_tsep), RuntimeWarning)\n",
      "/bg01/homescinet/l/lfefebvr/noorir/measures.py:248: RuntimeWarning: signal has very low mean frequency, setting min_tsep = 2500\n",
      "  warnings.warn(msg.format(min_tsep), RuntimeWarning)\n"
     ]
    },
    {
     "name": "stdout",
     "output_type": "stream",
     "text": [
      "286\n"
     ]
    },
    {
     "name": "stderr",
     "output_type": "stream",
     "text": [
      "/bg01/homescinet/l/lfefebvr/noorir/measures.py:248: RuntimeWarning: signal has very low mean frequency, setting min_tsep = 2500\n",
      "  warnings.warn(msg.format(min_tsep), RuntimeWarning)\n",
      "/bg01/homescinet/l/lfefebvr/noorir/measures.py:248: RuntimeWarning: signal has very low mean frequency, setting min_tsep = 2500\n",
      "  warnings.warn(msg.format(min_tsep), RuntimeWarning)\n"
     ]
    },
    {
     "name": "stdout",
     "output_type": "stream",
     "text": [
      "287\n"
     ]
    },
    {
     "name": "stderr",
     "output_type": "stream",
     "text": [
      "/bg01/homescinet/l/lfefebvr/noorir/measures.py:248: RuntimeWarning: signal has very low mean frequency, setting min_tsep = 2500\n",
      "  warnings.warn(msg.format(min_tsep), RuntimeWarning)\n",
      "/bg01/homescinet/l/lfefebvr/noorir/measures.py:248: RuntimeWarning: signal has very low mean frequency, setting min_tsep = 2500\n",
      "  warnings.warn(msg.format(min_tsep), RuntimeWarning)\n"
     ]
    },
    {
     "name": "stdout",
     "output_type": "stream",
     "text": [
      "288\n"
     ]
    },
    {
     "name": "stderr",
     "output_type": "stream",
     "text": [
      "/bg01/homescinet/l/lfefebvr/noorir/measures.py:248: RuntimeWarning: signal has very low mean frequency, setting min_tsep = 2500\n",
      "  warnings.warn(msg.format(min_tsep), RuntimeWarning)\n",
      "/bg01/homescinet/l/lfefebvr/noorir/measures.py:248: RuntimeWarning: signal has very low mean frequency, setting min_tsep = 2500\n",
      "  warnings.warn(msg.format(min_tsep), RuntimeWarning)\n"
     ]
    },
    {
     "name": "stdout",
     "output_type": "stream",
     "text": [
      "289\n"
     ]
    },
    {
     "name": "stderr",
     "output_type": "stream",
     "text": [
      "/bg01/homescinet/l/lfefebvr/noorir/measures.py:248: RuntimeWarning: signal has very low mean frequency, setting min_tsep = 2500\n",
      "  warnings.warn(msg.format(min_tsep), RuntimeWarning)\n",
      "/bg01/homescinet/l/lfefebvr/noorir/measures.py:248: RuntimeWarning: signal has very low mean frequency, setting min_tsep = 2500\n",
      "  warnings.warn(msg.format(min_tsep), RuntimeWarning)\n"
     ]
    },
    {
     "name": "stdout",
     "output_type": "stream",
     "text": [
      "290\n"
     ]
    },
    {
     "name": "stderr",
     "output_type": "stream",
     "text": [
      "/bg01/homescinet/l/lfefebvr/noorir/measures.py:248: RuntimeWarning: signal has very low mean frequency, setting min_tsep = 2500\n",
      "  warnings.warn(msg.format(min_tsep), RuntimeWarning)\n",
      "/bg01/homescinet/l/lfefebvr/noorir/measures.py:248: RuntimeWarning: signal has very low mean frequency, setting min_tsep = 2500\n",
      "  warnings.warn(msg.format(min_tsep), RuntimeWarning)\n"
     ]
    },
    {
     "name": "stdout",
     "output_type": "stream",
     "text": [
      "291\n"
     ]
    },
    {
     "name": "stderr",
     "output_type": "stream",
     "text": [
      "/bg01/homescinet/l/lfefebvr/noorir/measures.py:248: RuntimeWarning: signal has very low mean frequency, setting min_tsep = 2500\n",
      "  warnings.warn(msg.format(min_tsep), RuntimeWarning)\n",
      "/bg01/homescinet/l/lfefebvr/noorir/measures.py:278: RuntimeWarning: autocorrelation declined too slowly to find suitable lag, setting lag to 1855\n",
      "  warnings.warn(msg.format(lag), RuntimeWarning)\n"
     ]
    },
    {
     "name": "stdout",
     "output_type": "stream",
     "text": [
      "292\n",
      "293\n",
      "294\n",
      "295\n",
      "296\n",
      "297\n",
      "298\n",
      "299\n"
     ]
    }
   ],
   "source": [
    "max_lyap_x1 = []\n",
    "max_lyap_x2 = []\n",
    "\n",
    "for i in range(num_runs):\n",
    "    print(i)\n",
    "    lx1 = nolds.lyap_r(x1ts_list[i], emb_dim = 5)\n",
    "    lx2 = nolds.lyap_r(x2ts_list[i], emb_dim = 5)\n",
    "    \n",
    "    max_lyap_x1.append(lx1)\n",
    "    max_lyap_x2.append(lx2)\n",
    "\n",
    "\n",
    "np.save('max_lyap_x1_20LATESTtest.npy', max_lyap_x1)\n",
    "np.save('max_lyap_x1_20LATESTtest.npy', max_lyap_x2)"
   ]
  },
  {
   "cell_type": "code",
   "execution_count": 148,
   "metadata": {
    "collapsed": false
   },
   "outputs": [
    {
     "name": "stdout",
     "output_type": "stream",
     "text": [
      "layp x1\n"
     ]
    },
    {
     "data": {
      "image/png": "[encoded data removed]",
      "text/plain": [
       "<matplotlib.figure.Figure at 0x2b2ca1469d30>"
      ]
     },
     "metadata": {},
     "output_type": "display_data"
    },
    {
     "name": "stdout",
     "output_type": "stream",
     "text": [
      "layp x2\n"
     ]
    },
    {
     "data": {
      "image/png": "[encoded data removed]",
      "text/plain": [
       "<matplotlib.figure.Figure at 0x2b2ca1442b70>"
      ]
     },
     "metadata": {},
     "output_type": "display_data"
    }
   ],
   "source": [
    "# #PLOTTING LYAP FOR X1\n",
    "print(\"layp x1\")\n",
    "x=c_list\n",
    "y=perc_diff_list\n",
    "z=np.array(max_lyap_x1)\n",
    "\n",
    "x=np.unique(x)\n",
    "y=np.unique(y)\n",
    "X,Y = np.meshgrid(x,y)\n",
    "\n",
    "#phase_list is arranged so that its a sequence of 15 groups, each of 50 values (for diff c), since numpy is row-major, it'll\n",
    "#fill array by rows, so you want there to be 15 rows, and 50 columns\n",
    "\n",
    "Z= z.reshape(len(y),len(x))\n",
    "\n",
    "plt.pcolormesh(X,Y,Z, vmin = -0.003, vmax = 0.005)\n",
    "plt.xlabel('Symmetric Coupling Strength, c')\n",
    "plt.ylabel('Intrinsic Frequency Difference (%)')\n",
    "plt.title('Maximum Lyapunov Exponent for x_1(t)')\n",
    "plt.colorbar()\n",
    "\n",
    "plt.show()\n",
    "\n",
    "#PLOTTING LYAP FOR X2\n",
    "print(\"layp x2\")\n",
    "\n",
    "x=c_list\n",
    "y=perc_diff_list\n",
    "z=np.array(max_lyap_x2)\n",
    "\n",
    "x=np.unique(x)\n",
    "y=np.unique(y)\n",
    "X,Y = np.meshgrid(x,y)\n",
    "\n",
    "#phase_list is arranged so that its a sequence of 15 groups, each of 50 values (for diff c), since numpy is row-major, it'll\n",
    "#fill array by rows, so you want there to be 15 rows, and 50 columns\n",
    "\n",
    "Z= z.reshape(len(y),len(x))\n",
    "\n",
    "# plt.pcolormesh(X,Y,Z,edgecolor='k')\n",
    "plt.pcolormesh(X,Y,Z, vmin = -0.003, vmax = 0.005)\n",
    "plt.xlabel('Symmetric Coupling Strength, c')\n",
    "plt.ylabel('Intrinsic Frequency Difference (%)')\n",
    "plt.title('Maximum Lyapunov Exponent for x_2(t)')\n",
    "plt.colorbar()\n",
    "\n",
    "plt.show()"
   ]
  },
  {
   "cell_type": "code",
   "execution_count": 135,
   "metadata": {
    "collapsed": false
   },
   "outputs": [
    {
     "data": {
      "text/plain": [
       "0.0044060959851829652"
      ]
     },
     "execution_count": 135,
     "metadata": {},
     "output_type": "execute_result"
    }
   ],
   "source": [
    "np.max(Z)"
   ]
  },
  {
   "cell_type": "code",
   "execution_count": null,
   "metadata": {
    "collapsed": false
   },
   "outputs": [],
   "source": [
    "dim_x1 = []\n",
    "dim_x2 = []\n",
    "\n",
    "for i in range(num_runs):\n",
    "    dx1 = nolds.corr_dim(x1ts_list[i],10)\n",
    "    dx2 = nolds.corr_dim(x2ts_list[i],10)\n",
    "    \n",
    "    dim_x1.append(dx1)\n",
    "    dim_x2.append(dx2)\n",
    "\n",
    "np.save('dim_x1.npy', dim_x1)\n",
    "np.save('dim_x2.npy', dim_x2)"
   ]
  },
  {
   "cell_type": "code",
   "execution_count": 34,
   "metadata": {
    "collapsed": false
   },
   "outputs": [
    {
     "name": "stdout",
     "output_type": "stream",
     "text": [
      "DIM x1\n"
     ]
    },
    {
     "data": {
      "image/png": "[encoded data removed]",
      "text/plain": [
       "<matplotlib.figure.Figure at 0x2ad0357df080>"
      ]
     },
     "metadata": {},
     "output_type": "display_data"
    },
    {
     "name": "stdout",
     "output_type": "stream",
     "text": [
      "DIM x2\n"
     ]
    },
    {
     "data": {
      "image/png": "[encoded data removed]",
      "text/plain": [
       "<matplotlib.figure.Figure at 0x2ad0354fe4a8>"
      ]
     },
     "metadata": {},
     "output_type": "display_data"
    }
   ],
   "source": [
    "#PLOTTING DIM FOR X1\n",
    "print(\"DIM x1\")\n",
    "x=c_list\n",
    "y=perc_diff_list\n",
    "z=np.array(dim_x1)\n",
    "\n",
    "x=np.unique(x)\n",
    "y=np.unique(y)\n",
    "X,Y = np.meshgrid(x,y)\n",
    "\n",
    "Z= z.reshape(len(y),len(x))\n",
    "\n",
    "plt.pcolormesh(X,Y,Z)\n",
    "plt.title(\"Correlation Dimension for x1(t)\")\n",
    "plt.xlabel('Coupling Strength')\n",
    "plt.ylabel('Intrinsic Frequency Difference')\n",
    "plt.colorbar()\n",
    "\n",
    "plt.show()\n",
    "\n",
    "#PLOTTING LYAP FOR X2\n",
    "print(\"DIM x2\")\n",
    "\n",
    "x=c_list\n",
    "y=perc_diff_list\n",
    "z=np.array(dim_x2)\n",
    "\n",
    "x=np.unique(x)\n",
    "y=np.unique(y)\n",
    "X,Y = np.meshgrid(x,y)\n",
    "\n",
    "Z= z.reshape(len(y),len(x))\n",
    "\n",
    "plt.pcolormesh(X,Y,Z)\n",
    "plt.title(\"Correlation Dimension for x2(t)\")\n",
    "plt.xlabel('Coupling Strength')\n",
    "plt.ylabel('Intrinsic Frequency Difference')\n",
    "plt.colorbar()\n",
    "\n",
    "plt.show()"
   ]
  },
  {
   "cell_type": "code",
   "execution_count": null,
   "metadata": {
    "collapsed": true
   },
   "outputs": [],
   "source": []
  }
 ],
 "metadata": {
  "anaconda-cloud": {},
  "kernelspec": {
   "display_name": "Python [default]",
   "language": "python",
   "name": "python3"
  },
  "language_info": {
   "codemirror_mode": {
    "name": "ipython",
    "version": 3
   },
   "file_extension": ".py",
   "mimetype": "text/x-python",
   "name": "python",
   "nbconvert_exporter": "python",
   "pygments_lexer": "ipython3",
   "version": "3.5.2"
  }
 },
 "nbformat": 4,
 "nbformat_minor": 2
}
