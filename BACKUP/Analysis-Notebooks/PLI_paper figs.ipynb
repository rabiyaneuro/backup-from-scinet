{
 "cells": [
  {
   "cell_type": "code",
   "execution_count": 10,
   "metadata": {
    "nbpresent": {
     "id": "a3fbd545-fab5-4854-8873-4087f341230a"
    }
   },
   "outputs": [],
   "source": [
    "chunk = 600\n",
    "method = \"wpli2_debiased\"\n",
    "bound = True"
   ]
  },
  {
   "cell_type": "markdown",
   "metadata": {},
   "source": [
    "# Plotting target PLI figures"
   ]
  },
  {
   "cell_type": "markdown",
   "metadata": {
    "nbpresent": {
     "id": "841cbe4b-5fca-4c19-8985-f91947d886f9"
    }
   },
   "source": [
    "network 4"
   ]
  },
  {
   "cell_type": "code",
   "execution_count": 11,
   "metadata": {
    "nbpresent": {
     "id": "dfd4e90b-1e2c-4d00-8685-b0ce1e304e44"
    }
   },
   "outputs": [
    {
     "name": "stdout",
     "output_type": "stream",
     "text": [
      "Connectivity computation...\n",
      "only using indices for lower-triangular matrix\n",
      "    computing connectivity for 45 connections\n",
      "    using t=0.000s..0.599s for estimation (600 points)\n",
      "    frequencies: 13.3Hz..30.0Hz (11 points)\n",
      "    connectivity scores will be averaged for each band\n",
      "    using FFT with a Hanning window to estimate spectra\n",
      "    the following metrics will be computed: Debiased WPLI Square\n",
      "    computing connectivity for epoch 1\n",
      "    computing connectivity for epoch 2\n",
      "    computing connectivity for epoch 3\n",
      "    assembling connectivity matrix (filling the upper triangular region of the matrix)\n",
      "[Connectivity computation done]\n"
     ]
    }
   ],
   "source": [
    "#%%\n",
    "import time\n",
    "import helper_functions as hf\n",
    "import differentialevolution_par_scinet as df\n",
    "import numpy as np\n",
    "import mne \n",
    "import matplotlib.pyplot as plt\n",
    "\n",
    "def make_symmetric(mat):\n",
    "    n_mat = np.ndarray.copy(mat)\n",
    "    for r in range(n_mat.shape[0]):\n",
    "        for c in range(n_mat.shape[0]):\n",
    "            n_mat[c,r] = n_mat[r,c]\n",
    "    return n_mat\n",
    "\n",
    "nodes= 10\n",
    "num_dim = int((((nodes**2)-nodes)/2))\n",
    "\n",
    "seed_tract = 123\n",
    "rng = np.random.RandomState(seed_tract)\n",
    "t_mat_v = rng.uniform(low = 1,high=50, size=(num_dim))\n",
    "tract_mat = hf.p2matrix(t_mat_v, nodes)\n",
    "\n",
    "# constant w_mat matches where tract_mat is 0\n",
    "w_mat = np.ones((nodes,nodes))\n",
    "zero_ind = tract_mat==0\n",
    "w_mat[zero_ind] =0\n",
    "np.fill_diagonal(w_mat,0)\n",
    "\n",
    "#cv matrix\n",
    "c_mat = np.ones((nodes,nodes))*500\n",
    "c_mat = np.reciprocal(c_mat)\n",
    "np.fill_diagonal(c_mat,0)\n",
    "\n",
    "#simulating network\n",
    "#WILSON-COWAN PARAMS \n",
    "\n",
    "\"\"\"Set seed for the wc_model_sim in the residuals fxn (so all potential \n",
    "solutions get tested with same noise variable)\"\"\"\n",
    "wc_seed = 0\n",
    "wc_params = {\n",
    "        'c1': 1.6,\n",
    "        'c2': -4.7,\n",
    "        'c3': 3,\n",
    "        'c4': -0.63,\n",
    "        'I_e': 1.8,\n",
    "        'I_i': -0.2,\n",
    "        'g': 0.05,\n",
    "        'time_steps': 2000,\n",
    "        'dt': 0.01,\n",
    "        'd': 0,\n",
    "        'constant': True\n",
    "        }\n",
    "\n",
    "#signal properties\n",
    "_Dt = wc_params['dt']\n",
    "_alpha = 10\n",
    "_dt = _Dt/_alpha # time step is 1ms: _dt = 0.001 #0.002\n",
    "fs = 1/_dt # Sampling rate, or number of measurements per second\n",
    "\n",
    "ue_array, ui_array, delays = hf.wcm.wc_model_sim_new(wc_params, tract_mat, c_mat, w_mat, nodes,\n",
    "                                       seed_num = wc_seed)\n",
    "#PLI\n",
    "\n",
    "ue_targ_chunks= []\n",
    "num_chunks = int(1800/chunk)\n",
    "\n",
    "for ch in range(num_chunks):\n",
    "    ue_targ_chunks.append(ue_array[:,200:][:,ch*chunk:ch*chunk + chunk])\n",
    "\n",
    "if bound:\n",
    "    _con1, _freqs, _times, _n_epochs, _n_tapers = mne.connectivity.spectral_connectivity(\n",
    "        data=ue_targ_chunks,method=method, sfreq=fs, fmin = 13, fmax = 30, faverage = True,\n",
    "        mode = 'fourier', verbose= True)\n",
    "else:\n",
    "    _con1, _freqs, _times, _n_epochs, _n_tapers = mne.connectivity.spectral_connectivity(\n",
    "        data=ue_targ_chunks,method=method, sfreq=fs, faverage = True,\n",
    "        mode = 'fourier', verbose= True)"
   ]
  },
  {
   "cell_type": "code",
   "execution_count": 12,
   "metadata": {
    "nbpresent": {
     "id": "3eca1a8b-ae2e-4f7d-87ef-230a12f71e9f"
    }
   },
   "outputs": [
    {
     "name": "stdout",
     "output_type": "stream",
     "text": [
      "0.974410470831\n",
      "0.240305091895\n"
     ]
    },
    {
     "data": {
      "image/png": "[encoded data removed]",
      "text/plain": [
       "<matplotlib.figure.Figure at 0x2b0eaf8c8d30>"
      ]
     },
     "metadata": {},
     "output_type": "display_data"
    }
   ],
   "source": [
    "import seaborn as sns\n",
    "%matplotlib inline\n",
    "sns.heatmap(_con1[:,:,0], cmap = \"viridis\", vmax =1)\n",
    "plt.xlabel(\"Node\")\n",
    "plt.ylabel(\"Node\")\n",
    "print(np.max(_con1[:,:,0]))\n",
    "print(np.average(_con1[:,:,0]))\n"
   ]
  },
  {
   "cell_type": "markdown",
   "metadata": {
    "nbpresent": {
     "id": "77b63dde-2548-477f-ad2c-7adb92ea9a27"
    }
   },
   "source": [
    "network 5"
   ]
  },
  {
   "cell_type": "code",
   "execution_count": 13,
   "metadata": {
    "nbpresent": {
     "id": "8cc319d8-ec66-4ab7-8650-13bf584b2440"
    }
   },
   "outputs": [
    {
     "name": "stderr",
     "output_type": "stream",
     "text": [
      "/scinet/niagara/software/2018a/opt/base/anaconda3/5.1.0-hub/lib/python3.6/site-packages/ipykernel_launcher.py:33: RuntimeWarning: divide by zero encountered in reciprocal\n"
     ]
    },
    {
     "name": "stdout",
     "output_type": "stream",
     "text": [
      "Connectivity computation...\n",
      "only using indices for lower-triangular matrix\n",
      "    computing connectivity for 45 connections\n",
      "    using t=0.000s..0.599s for estimation (600 points)\n",
      "    frequencies: 13.3Hz..30.0Hz (11 points)\n",
      "    connectivity scores will be averaged for each band\n",
      "    using FFT with a Hanning window to estimate spectra\n",
      "    the following metrics will be computed: Debiased WPLI Square\n",
      "    computing connectivity for epoch 1\n",
      "    computing connectivity for epoch 2\n",
      "    computing connectivity for epoch 3\n",
      "    assembling connectivity matrix (filling the upper triangular region of the matrix)\n",
      "[Connectivity computation done]\n"
     ]
    }
   ],
   "source": [
    "#%%\n",
    "import time\n",
    "import helper_functions as hf\n",
    "import differentialevolution_par_scinet as df\n",
    "import numpy as np\n",
    "\n",
    "def make_symmetric(mat):\n",
    "    n_mat = np.ndarray.copy(mat)\n",
    "    for r in range(n_mat.shape[0]):\n",
    "        for c in range(n_mat.shape[0]):\n",
    "            n_mat[c,r] = n_mat[r,c]\n",
    "    return n_mat\n",
    "\n",
    "nodes= 10\n",
    "num_dim = int((((nodes**2)-nodes)/2))\n",
    "\n",
    "seed_tract = 123\n",
    "rng = np.random.RandomState(seed_tract)\n",
    "t_mat_v = rng.uniform(low = 1,high=50, size=(num_dim))\n",
    "tract_mat = hf.p2matrix(t_mat_v, nodes)\n",
    "\n",
    "# constant w_mat matches where tract_mat is 0\n",
    "w_mat = np.ones((nodes,nodes))\n",
    "zero_ind = tract_mat==0\n",
    "w_mat[zero_ind] =0\n",
    "np.fill_diagonal(w_mat,0)\n",
    "\n",
    "#cv matrix\n",
    "seed2 = 200\n",
    "rng = np.random.RandomState(seed2)\n",
    "c_mat_v = rng.uniform(low = 500,high=10000, size=(num_dim))\n",
    "c_mat = hf.p2matrix(c_mat_v, nodes)\n",
    "c_mat = np.reciprocal(c_mat)\n",
    "np.fill_diagonal(c_mat,0)\n",
    "\n",
    "#simulating network\n",
    "#WILSON-COWAN PARAMS \n",
    "\n",
    "\"\"\"Set seed for the wc_model_sim in the residuals fxn (so all potential \n",
    "solutions get tested with same noise variable)\"\"\"\n",
    "wc_seed = 0\n",
    "wc_params = {\n",
    "        'c1': 1.6,\n",
    "        'c2': -4.7,\n",
    "        'c3': 3,\n",
    "        'c4': -0.63,\n",
    "        'I_e': 1.8,\n",
    "        'I_i': -0.2,\n",
    "        'g': 0.05,\n",
    "        'time_steps': 2000,\n",
    "        'dt': 0.01,\n",
    "        'd': 0,\n",
    "        'constant': True\n",
    "        }\n",
    "\n",
    "ue_array, ui_array, delays = hf.wcm.wc_model_sim_new(wc_params, tract_mat, c_mat, w_mat, nodes,\n",
    "                                       seed_num = wc_seed)\n",
    "#PLI\n",
    "\n",
    "ue_targ_chunks= []\n",
    "num_chunks = int(1800/chunk)\n",
    "\n",
    "for ch in range(num_chunks):\n",
    "    ue_targ_chunks.append(ue_array[:,200:][:,ch*chunk:ch*chunk + chunk])\n",
    "\n",
    "\n",
    "if bound:\n",
    "    _con2, _freqs, _times, _n_epochs, _n_tapers = mne.connectivity.spectral_connectivity(\n",
    "        data=ue_targ_chunks,method=method, sfreq=fs, fmin = 13, fmax = 30, faverage = True,\n",
    "        mode = 'fourier', verbose= True)\n",
    "else:\n",
    "    _con2, _freqs, _times, _n_epochs, _n_tapers = mne.connectivity.spectral_connectivity(\n",
    "        data=ue_targ_chunks,method=method, sfreq=fs, faverage = True,\n",
    "        mode = 'fourier', verbose= True)"
   ]
  },
  {
   "cell_type": "code",
   "execution_count": 18,
   "metadata": {
    "nbpresent": {
     "id": "fe796b29-0c53-40b6-b2b4-41d8a5d7ae7a"
    }
   },
   "outputs": [
    {
     "name": "stdout",
     "output_type": "stream",
     "text": [
      "0.73395346523\n",
      "-0.00250389852454\n"
     ]
    },
    {
     "data": {
      "image/png": "[encoded data removed]",
      "text/plain": [
       "<matplotlib.figure.Figure at 0x2b0eaf8bcd30>"
      ]
     },
     "metadata": {},
     "output_type": "display_data"
    }
   ],
   "source": [
    "import seaborn as sns\n",
    "%matplotlib inline\n",
    "sns.heatmap(_con2[:,:,0], cmap = \"viridis\", vmax = 1)\n",
    "plt.xlabel(\"Node\")\n",
    "plt.ylabel(\"Node\")\n",
    "\n",
    "print(np.max(_con2[:,:,0]))\n",
    "print(np.average(_con2[:,:,0]))\n"
   ]
  },
  {
   "cell_type": "code",
   "execution_count": null,
   "metadata": {
    "nbpresent": {
     "id": "d199c5a3-a0a1-46bf-9819-c0561e10dae8"
    },
    "scrolled": true
   },
   "outputs": [],
   "source": [
    "sns.heatmap(np.abs(_con1[:,:,0]-_con2[:,:,0]), cmap = \"viridis\")\n",
    "np.average(np.abs(_con1[:,:,0]-_con2[:,:,0]))"
   ]
  },
  {
   "cell_type": "code",
   "execution_count": null,
   "metadata": {
    "nbpresent": {
     "id": "ab273229-ff7e-448d-9fa6-f397714db313"
    }
   },
   "outputs": [],
   "source": [
    "import matplotlib.pyplot as plt\n",
    "plt.hist(np.abs(_con1[:,:,0]-_con2[:,:,0]))\n",
    "plt.show()"
   ]
  },
  {
   "cell_type": "markdown",
   "metadata": {
    "nbpresent": {
     "id": "6518c258-879b-4efb-b746-c59a4a0760e7"
    }
   },
   "source": [
    "network 6"
   ]
  },
  {
   "cell_type": "code",
   "execution_count": 15,
   "metadata": {
    "nbpresent": {
     "id": "3119967e-b65e-443a-b8a3-913037ef53cb"
    }
   },
   "outputs": [
    {
     "name": "stdout",
     "output_type": "stream",
     "text": [
      "Connectivity computation...\n",
      "only using indices for lower-triangular matrix\n",
      "    computing connectivity for 45 connections\n",
      "    using t=0.000s..0.599s for estimation (600 points)\n",
      "    frequencies: 13.3Hz..30.0Hz (11 points)\n",
      "    connectivity scores will be averaged for each band\n",
      "    using FFT with a Hanning window to estimate spectra\n",
      "    the following metrics will be computed: Debiased WPLI Square\n",
      "    computing connectivity for epoch 1\n",
      "    computing connectivity for epoch 2\n",
      "    computing connectivity for epoch 3\n",
      "    assembling connectivity matrix (filling the upper triangular region of the matrix)\n",
      "[Connectivity computation done]\n"
     ]
    }
   ],
   "source": [
    "#%%\n",
    "import time\n",
    "import helper_functions as hf\n",
    "import differentialevolution_par_scinet as df\n",
    "import numpy as np\n",
    "\n",
    "def make_symmetric(mat):\n",
    "    n_mat = np.ndarray.copy(mat)\n",
    "    for r in range(n_mat.shape[0]):\n",
    "        for c in range(n_mat.shape[0]):\n",
    "            n_mat[c,r] = n_mat[r,c]\n",
    "    return n_mat\n",
    "\n",
    "nodes= 10\n",
    "num_dim = int((((nodes**2)-nodes)/2))\n",
    "\n",
    "seed_tract = 123\n",
    "rng = np.random.RandomState(seed_tract)\n",
    "t_mat_v = rng.uniform(low = 1,high=50, size=(num_dim))\n",
    "tract_mat = hf.p2matrix(t_mat_v, nodes)\n",
    "\n",
    "# constant w_mat matches where tract_mat is 0\n",
    "w_mat = np.ones((nodes,nodes))\n",
    "zero_ind = tract_mat==0\n",
    "w_mat[zero_ind] =0\n",
    "np.fill_diagonal(w_mat,0)\n",
    "\n",
    "#cv matrix\n",
    "c_mat = np.ones((nodes,nodes))*10000\n",
    "c_mat = np.reciprocal(c_mat)\n",
    "np.fill_diagonal(c_mat,0)\n",
    "\n",
    "#simulating network\n",
    "#WILSON-COWAN PARAMS \n",
    "\n",
    "\"\"\"Set seed for the wc_model_sim in the residuals fxn (so all potential \n",
    "solutions get tested with same noise variable)\"\"\"\n",
    "wc_seed = 0\n",
    "wc_params = {\n",
    "        'c1': 1.6,\n",
    "        'c2': -4.7,\n",
    "        'c3': 3,\n",
    "        'c4': -0.63,\n",
    "        'I_e': 1.8,\n",
    "        'I_i': -0.2,\n",
    "        'g': 0.05,\n",
    "        'time_steps': 2000,\n",
    "        'dt': 0.01,\n",
    "        'd': 0,\n",
    "        'constant': True\n",
    "        }\n",
    "\n",
    "ue_array, ui_array, delays = hf.wcm.wc_model_sim_new(wc_params, tract_mat, c_mat, w_mat, nodes,\n",
    "                                       seed_num = wc_seed)\n",
    "\n",
    "#PLI\n",
    "\n",
    "ue_targ_chunks= []\n",
    "num_chunks = int(1800/chunk)\n",
    "\n",
    "for ch in range(num_chunks):\n",
    "    ue_targ_chunks.append(ue_array[:,200:][:,ch*chunk:ch*chunk + chunk])\n",
    "\n",
    "if bound:\n",
    "    _con3, _freqs, _times, _n_epochs, _n_tapers = mne.connectivity.spectral_connectivity(\n",
    "        data=ue_targ_chunks,method=method, sfreq=fs, fmin = 13, fmax = 30, faverage = True,\n",
    "        mode = 'fourier', verbose= True)\n",
    "else:\n",
    "    _con3, _freqs, _times, _n_epochs, _n_tapers = mne.connectivity.spectral_connectivity(\n",
    "        data=ue_targ_chunks,method=method, sfreq=fs, faverage = True,\n",
    "        mode = 'fourier', verbose= True)"
   ]
  },
  {
   "cell_type": "code",
   "execution_count": 16,
   "metadata": {
    "nbpresent": {
     "id": "1bb22daf-d900-4212-a138-1e9036d68ba0"
    }
   },
   "outputs": [
    {
     "data": {
      "text/plain": [
       "Text(33,0.5,'Node')"
      ]
     },
     "execution_count": 16,
     "metadata": {},
     "output_type": "execute_result"
    },
    {
     "data": {
      "image/png": "[encoded data removed]",
      "text/plain": [
       "<matplotlib.figure.Figure at 0x2b0eaf930e80>"
      ]
     },
     "metadata": {},
     "output_type": "display_data"
    }
   ],
   "source": [
    "import seaborn as sns\n",
    "%matplotlib inline\n",
    "sns.heatmap(_con3[:,:,0], vmin = 0, vmax = 1, cmap = \"viridis\")\n",
    "plt.xlabel(\"Node\")\n",
    "plt.ylabel(\"Node\")"
   ]
  },
  {
   "cell_type": "markdown",
   "metadata": {},
   "source": [
    "# Testing the scripts"
   ]
  },
  {
   "cell_type": "code",
   "execution_count": null,
   "metadata": {},
   "outputs": [],
   "source": [
    "exec(open(\"/scratch/l/lfefebvr/noorir/model/load_genvars_delays4----4.py\").read()) \n",
    "import matplotlib.pyplot as plt\n",
    "import seaborn as sns\n",
    "%matplotlib inline\n",
    "\n",
    "sns.heatmap(targ_data, cmap = \"viridis\", vmax = 1)\n",
    "plt.show()\n",
    "\n",
    "plt.figure(3, figsize=(15,6))\n",
    "for sing_node in range(nodes):\n",
    "    plt.plot(ue_array[sing_node], '-k', linewidth=0.2)\n",
    "avg = np.mean(ue_array, axis= 0 )\n",
    "plt.plot(avg, '-k', linewidth = 0.8)\n",
    "plt.xlabel(\"Time (ms)\", fontsize = \"xx-large\")\n",
    "plt.ylabel(\"$u_e$\", fontsize = \"xx-large\")\n",
    "plt.xticks(fontsize = 20)\n",
    "plt.yticks(fontsize = 20)\n",
    "plt.show()\n",
    "\n"
   ]
  },
  {
   "cell_type": "code",
   "execution_count": null,
   "metadata": {},
   "outputs": [],
   "source": [
    "import differentialevolution_par_scinet as df\n",
    "\n",
    "df.differential_evolution(hf.residuals_pli, args = args,\n",
    "                              strategy = evol_params['strategy'],\n",
    "                              popsize = 5,\n",
    "                              mutation = evol_params['mut'],\n",
    "                              recombination = evol_params['recomb'],\n",
    "                              bounds = evol_params['bounds'],\n",
    "                              tol = evol_params['tol'],\n",
    "                              maxiter = 3,\n",
    "                              disp = True,\n",
    "                              polish = evol_params['polish'],\n",
    "                              mse_thresh = evol_params['mse'],\n",
    "                              atol = evol_params['atol'],\n",
    "                              init = evol_params['init'],\n",
    "                              prior= evol_params['prior'], jobid = 111, rank = 0)\n",
    "\n",
    "#### DOES NOT WORK BC DF FILE HAS MPI COMMANDS- TEST IN DEBUGGER IN COMMAND LINE"
   ]
  },
  {
   "cell_type": "code",
   "execution_count": null,
   "metadata": {},
   "outputs": [],
   "source": [
    "exec(open(\"/scratch/l/lfefebvr/noorir/model/load_genvars_delays5----5.py\").read()) \n",
    "import matplotlib.pyplot as plt\n",
    "import seaborn as sns\n",
    "%matplotlib inline\n",
    "\n",
    "sns.heatmap(targ_data, cmap = \"viridis\", vmax = 0.8)\n",
    "plt.show()\n",
    "\n",
    "plt.figure(3, figsize=(15,6))\n",
    "for sing_node in range(nodes):\n",
    "    plt.plot(ue_array[sing_node], '-k', linewidth=0.2)\n",
    "avg = np.mean(ue_array, axis= 0 )\n",
    "plt.plot(avg, '-k', linewidth = 0.8)\n",
    "plt.xlabel(\"Time (ms)\", fontsize = \"xx-large\")\n",
    "plt.ylabel(\"$u_e$\", fontsize = \"xx-large\")\n",
    "plt.xticks(fontsize = 20)\n",
    "plt.yticks(fontsize = 20)\n",
    "plt.show()"
   ]
  },
  {
   "cell_type": "code",
   "execution_count": null,
   "metadata": {},
   "outputs": [],
   "source": [
    "exec(open(\"/scratch/l/lfefebvr/noorir/model/load_genvars_delays6---6.py\").read()) \n",
    "import matplotlib.pyplot as plt\n",
    "import seaborn as sns\n",
    "%matplotlib inline\n",
    "\n",
    "sns.heatmap(targ_data, cmap = \"viridis\", vmax = 0.8)\n",
    "plt.show()\n",
    "\n",
    "plt.figure(3, figsize=(15,6))\n",
    "for sing_node in range(nodes):\n",
    "    plt.plot(ue_array[sing_node], '-k', linewidth=0.2)\n",
    "avg = np.mean(ue_array, axis= 0 )\n",
    "plt.plot(avg, '-k', linewidth = 0.8)\n",
    "plt.xlabel(\"Time (ms)\", fontsize = \"xx-large\")\n",
    "plt.ylabel(\"$u_e$\", fontsize = \"xx-large\")\n",
    "plt.xticks(fontsize = 20)\n",
    "plt.yticks(fontsize = 20)\n",
    "plt.show()"
   ]
  },
  {
   "cell_type": "markdown",
   "metadata": {},
   "source": [
    "# Testing new function"
   ]
  },
  {
   "cell_type": "code",
   "execution_count": 3,
   "metadata": {},
   "outputs": [],
   "source": [
    "import numpy as np\n",
    "import matplotlib as mpl\n",
    "mpl.use('Agg')\n",
    "import matplotlib.pyplot as plt\n",
    "import scipy.signal\n",
    "from mpl_toolkits.mplot3d import Axes3D\n",
    "from scipy.signal import argrelextrema\n",
    "import random\n",
    "import sklearn.preprocessing as pr\n",
    "from scipy import signal\n",
    "#from scipy.optimize import differential_evolution\n",
    "from numpy import linalg as LA\n",
    "import numexpr as ne\n",
    "from math import exp\n",
    "import time\n",
    "import mne\n",
    "import helper_functions as hf\n",
    "\n",
    "import wc_model_sim_functions as wcm\n",
    "\n",
    "\n",
    "def residuals_pli_corr(c, params, fs, nodes, targ_data_corr, targ_data_pli, \n",
    "                       w_mat, chunk, skip, seed, optim, \n",
    "                       tract_mat, heavi, fmin, fmax, plot = False):          \n",
    "                       \n",
    "    \"\"\"\n",
    "    This function is used to optimize the network model based on the\n",
    "    PLI & Correlation matrix\n",
    "    \n",
    "    c: vector that you are trying to optimize - e.g. weights matrix converted\n",
    "    to a vector- RIGHT NOW IT ONLY WORKS WITH CONDUCTION VELOCITY\n",
    "    \n",
    "    params: dict containing the wc and simulation params for the population\n",
    "    models at each node; contains c1, c2, c3, c4, I_e, I_i, dt, time_steps, d\n",
    "    \"\"\"\n",
    "    \n",
    "    ind = 0\n",
    "    cmat = np.ones((nodes, nodes))\n",
    "    \n",
    "    for row in range(0,nodes):\n",
    "        for col in range(row+1, nodes):\n",
    "            cmat[row,col] = c[ind]\n",
    "            cmat[col,row] = c[ind]\n",
    "            ind += 1\n",
    "    if type(cmat[0,0]) != type(1.0):\n",
    "        cmat =cmat*1.0\n",
    "    cmat_old = np.ndarray.copy(cmat)\n",
    "    cmat = np.reciprocal(cmat, where= cmat>0.0)\n",
    "    np.fill_diagonal(cmat,0)\n",
    "\n",
    "    ue_array, _, delays = wcm.wc_model_sim_new(params, tract_mat, cmat, w_mat, \n",
    "                                               nodes, seed_num = seed)    \n",
    "   \n",
    "    #PLI\n",
    "    exp_data_pli = plot_avg_pli(ue_array,chunk, params['time_steps'], skip, fs, fmin, fmax)\n",
    "    \n",
    "    exp_data_p = matrix2p(exp_data_pli, upper = False)\n",
    "    targ_data_p = matrix2p(targ_data_pli, upper = False)#lower triang matrix\n",
    "    \n",
    "    #quantity we are trying to minimize is the mse \n",
    "    res_pli = mse(targ_data_p,exp_data_p)\n",
    "    \n",
    "    \n",
    "    #correlation\n",
    "    exp_data_corr = plot_cor_mat(ue_array, nodes, skip)\n",
    "    res_corr = mse(np.triu(targ_data_corr,1).ravel(),np.triu(exp_data_corr,1).ravel())\n",
    "    \n",
    "    final_res = res_corr+ res_pli\n",
    "    if plot:\n",
    "        np.fill_diagonal(cmat_old,0)\n",
    "        return(cmat_old/1000, ue_array, final_res, exp_data_pli, exp_data_corr)\n",
    "        \n",
    "    return final_res"
   ]
  },
  {
   "cell_type": "code",
   "execution_count": 4,
   "metadata": {},
   "outputs": [
    {
     "name": "stdout",
     "output_type": "stream",
     "text": [
      "Connectivity computation...\n",
      "only using indices for lower-triangular matrix\n",
      "    computing connectivity for 45 connections\n",
      "    using t=0.000s..0.599s for estimation (600 points)\n",
      "    frequencies: 13.3Hz..30.0Hz (11 points)\n",
      "    connectivity scores will be averaged for each band\n",
      "    using FFT with a Hanning window to estimate spectra\n",
      "    the following metrics will be computed: WPLI\n",
      "    computing connectivity for epoch 1\n",
      "    computing connectivity for epoch 2\n",
      "    computing connectivity for epoch 3\n",
      "    assembling connectivity matrix (filling the upper triangular region of the matrix)\n",
      "[Connectivity computation done]\n"
     ]
    }
   ],
   "source": [
    "def make_symmetric(mat):\n",
    "    n_mat = np.ndarray.copy(mat)\n",
    "    for r in range(n_mat.shape[0]):\n",
    "        for c in range(n_mat.shape[0]):\n",
    "            n_mat[c,r] = n_mat[r,c]\n",
    "    return n_mat\n",
    "\n",
    "nodes= 10\n",
    "num_dim = int((((nodes**2)-nodes)/2))\n",
    "\n",
    "seed_tract = 123\n",
    "rng = np.random.RandomState(seed_tract)\n",
    "t_mat_v = rng.uniform(low = 1,high=50, size=(num_dim))\n",
    "tract_mat = hf.p2matrix(t_mat_v, nodes)\n",
    "\n",
    "# constant w_mat matches where tract_mat is 0\n",
    "w_mat = np.ones((nodes,nodes))\n",
    "zero_ind = tract_mat==0\n",
    "w_mat[zero_ind] =0\n",
    "np.fill_diagonal(w_mat,0)\n",
    "\n",
    "#cv matrix\n",
    "c_mat = np.ones((nodes,nodes))*500\n",
    "c_mat = np.reciprocal(c_mat)\n",
    "np.fill_diagonal(c_mat,0)\n",
    "\n",
    "#simulating network\n",
    "#WILSON-COWAN PARAMS \n",
    "\n",
    "\"\"\"Set seed for the wc_model_sim in the residuals fxn (so all potential \n",
    "solutions get tested with same noise variable)\"\"\"\n",
    "wc_seed = 0\n",
    "wc_params = {\n",
    "        'c1': 1.6,\n",
    "        'c2': -4.7,\n",
    "        'c3': 3,\n",
    "        'c4': -0.63,\n",
    "        'I_e': 1.8,\n",
    "        'I_i': -0.2,\n",
    "        'g': 0.05,\n",
    "        'time_steps': 2000,\n",
    "        'dt': 0.01,\n",
    "        'd': 0,\n",
    "        'constant': True\n",
    "        }\n",
    "\n",
    "ue_array, ui_array, delays = hf.wcm.wc_model_sim_new(wc_params, tract_mat, c_mat, w_mat, nodes,\n",
    "                                       seed_num = wc_seed)\n",
    "\n",
    "\n",
    "#correlation matrix\n",
    "skip = 200\n",
    "targ_data_corr = hf.plot_cor_mat(ue_array, nodes, skip)\n",
    "np.fill_diagonal(targ_data_corr, 0)\n",
    "\n",
    "#PLI\n",
    "import mne\n",
    "\n",
    "#signal properties\n",
    "_Dt = wc_params['dt']\n",
    "_alpha = 10\n",
    "_dt = _Dt/_alpha # time step is 1ms: _dt = 0.001 #0.002\n",
    "fs = 1/_dt # Sampling rate, or number of measurements per second\n",
    "\n",
    "chunk = 600\n",
    "method = \"wpli\"\n",
    "fmin = 13\n",
    "fmax = 30\n",
    "\n",
    "ue_targ_chunks= []\n",
    "num_chunks = int(1800/chunk)\n",
    "\n",
    "for ch in range(num_chunks):\n",
    "    ue_targ_chunks.append(ue_array[:,skip:][:,ch*chunk:ch*chunk + chunk])\n",
    "\n",
    "\n",
    "_con, _freqs, _times, _n_epochs, _n_tapers = mne.connectivity.spectral_connectivity(\n",
    "    data=ue_targ_chunks,method=method, sfreq=fs, fmin = fmin, fmax = fmax, faverage = True,\n",
    "    mode = 'fourier', verbose= True)\n",
    "\n",
    "\n",
    "targ_data_pli = _con[:,:,0]"
   ]
  },
  {
   "cell_type": "code",
   "execution_count": 7,
   "metadata": {},
   "outputs": [
    {
     "data": {
      "image/png": "[encoded data removed]",
      "text/plain": [
       "<matplotlib.figure.Figure at 0x2b0e60c6f630>"
      ]
     },
     "metadata": {},
     "output_type": "display_data"
    },
    {
     "data": {
      "image/png": "[encoded data removed]",
      "text/plain": [
       "<matplotlib.figure.Figure at 0x2b0eaf6f5588>"
      ]
     },
     "metadata": {},
     "output_type": "display_data"
    }
   ],
   "source": [
    "import seaborn as sns\n",
    "%matplotlib inline\n",
    "\n",
    "\n",
    "sns.heatmap(targ_data_corr, cmap= \"viridis\")\n",
    "plt.show()\n",
    "\n",
    "sns.heatmap(targ_data_pli, cmap = \"viridis\")\n",
    "plt.show()"
   ]
  },
  {
   "cell_type": "code",
   "execution_count": null,
   "metadata": {},
   "outputs": [],
   "source": [
    "#%% ARGS FOR RESIDUAL FXN IN DIFF EVOLUTION ALROGITHM\n",
    "\n",
    "args = (wc_params, fs, nodes, targ_data_corr, targ_data_pli, w_mat, chunk, skip, wc_seed, evol_params['optim'], tract_mat, evol_params['heavi'], fmin, fmax)"
   ]
  }
 ],
 "metadata": {
  "kernelspec": {
   "display_name": "Python 3",
   "language": "python",
   "name": "python3"
  },
  "language_info": {
   "codemirror_mode": {
    "name": "ipython",
    "version": 3
   },
   "file_extension": ".py",
   "mimetype": "text/x-python",
   "name": "python",
   "nbconvert_exporter": "python",
   "pygments_lexer": "ipython3",
   "version": "3.6.4"
  },
  "nbpresent": {
   "slides": {
    "02039de9-2c3b-4843-846f-70be9928a2e4": {
     "id": "02039de9-2c3b-4843-846f-70be9928a2e4",
     "prev": "7c88b030-64fe-4b74-a51d-235ca9cf79e3",
     "regions": {
      "c5f5f561-6d0b-4592-af88-b345de648af4": {
       "attrs": {
        "height": 0.8,
        "width": 0.8,
        "x": 0.1,
        "y": 0.1
       },
       "content": {
        "cell": "a0f4997b-30cb-49a5-b562-6a224f1b0b68",
        "part": "whole"
       },
       "id": "c5f5f561-6d0b-4592-af88-b345de648af4"
      }
     }
    },
    "0ed4d688-3e23-46a8-80e7-7e71066f3c7f": {
     "id": "0ed4d688-3e23-46a8-80e7-7e71066f3c7f",
     "prev": "7c23ed89-d2cc-4c6e-9352-b4df34f424cd",
     "regions": {
      "51fb1756-f4b7-4c81-baf6-e78d76ae5cdb": {
       "attrs": {
        "height": 0.8,
        "width": 0.8,
        "x": 0.1,
        "y": 0.1
       },
       "content": {
        "cell": "b9614fd2-1c7d-420d-ba88-474532a96be4",
        "part": "whole"
       },
       "id": "51fb1756-f4b7-4c81-baf6-e78d76ae5cdb"
      }
     }
    },
    "0f68d15c-0642-4e06-9413-3961ea10e4a4": {
     "id": "0f68d15c-0642-4e06-9413-3961ea10e4a4",
     "prev": "7ea999a1-d019-4413-a3d3-b0fa83adb765",
     "regions": {
      "d86ca2e7-dabd-40f8-87fa-763fc0a93ed8": {
       "attrs": {
        "height": 0.8,
        "width": 0.8,
        "x": 0.1,
        "y": 0.1
       },
       "content": {
        "cell": "dfdc79bf-a553-4546-a1cb-14fc1d0ca0b1",
        "part": "whole"
       },
       "id": "d86ca2e7-dabd-40f8-87fa-763fc0a93ed8"
      }
     }
    },
    "1fa92266-345e-49f3-924a-8e1f29a350a6": {
     "id": "1fa92266-345e-49f3-924a-8e1f29a350a6",
     "prev": "af293445-99e0-4a72-a6df-6f44bbe34eec",
     "regions": {
      "64901b5a-4b30-4e4e-bf64-696f80f6caea": {
       "attrs": {
        "height": 0.8,
        "width": 0.8,
        "x": 0.1,
        "y": 0.1
       },
       "content": {
        "cell": "7f458ebf-0d5a-481c-a4ff-39d5128abc18",
        "part": "whole"
       },
       "id": "64901b5a-4b30-4e4e-bf64-696f80f6caea"
      }
     }
    },
    "205fbee5-99b6-4b7b-a2e8-8dda8ecccaac": {
     "id": "205fbee5-99b6-4b7b-a2e8-8dda8ecccaac",
     "prev": "cde12faa-1122-4b05-909c-3d8adbdad2d2",
     "regions": {
      "f399912b-5f97-4662-bf5e-eb164d7a59d0": {
       "attrs": {
        "height": 0.8,
        "width": 0.8,
        "x": 0.1,
        "y": 0.1
       },
       "content": {
        "cell": "d199c5a3-a0a1-46bf-9819-c0561e10dae8",
        "part": "whole"
       },
       "id": "f399912b-5f97-4662-bf5e-eb164d7a59d0"
      }
     }
    },
    "245fbf3b-c9f0-436b-8add-ec945e6ad383": {
     "id": "245fbf3b-c9f0-436b-8add-ec945e6ad383",
     "prev": "25ca9cca-3257-4cec-b266-418137b91b3c",
     "regions": {
      "a5e460e9-ddab-437c-99c9-a2031e22f874": {
       "attrs": {
        "height": 0.8,
        "width": 0.8,
        "x": 0.1,
        "y": 0.1
       },
       "content": null,
       "id": "a5e460e9-ddab-437c-99c9-a2031e22f874"
      }
     }
    },
    "25ca9cca-3257-4cec-b266-418137b91b3c": {
     "id": "25ca9cca-3257-4cec-b266-418137b91b3c",
     "prev": "df28bdd7-9e3e-4d0a-88a8-42e4c6a16634",
     "regions": {
      "0e21c45f-bc3f-4a25-ba94-b688ca61bd1c": {
       "attrs": {
        "height": 0.8,
        "width": 0.8,
        "x": 0.1,
        "y": 0.1
       },
       "content": {
        "cell": "841cbe4b-5fca-4c19-8985-f91947d886f9",
        "part": "whole"
       },
       "id": "0e21c45f-bc3f-4a25-ba94-b688ca61bd1c"
      }
     }
    },
    "2a186f6f-31a6-4ce0-9af9-144a42b1159c": {
     "id": "2a186f6f-31a6-4ce0-9af9-144a42b1159c",
     "prev": "02039de9-2c3b-4843-846f-70be9928a2e4",
     "regions": {
      "5acf3d8f-e3c5-41b0-9ef7-172367530280": {
       "attrs": {
        "height": 0.8,
        "width": 0.8,
        "x": 0.1,
        "y": 0.1
       },
       "content": {
        "cell": "84219082-930b-47b9-899c-ad3632d95c6f",
        "part": "whole"
       },
       "id": "5acf3d8f-e3c5-41b0-9ef7-172367530280"
      }
     }
    },
    "319b7a84-0868-4fe4-8108-9ac40a0a4034": {
     "id": "319b7a84-0868-4fe4-8108-9ac40a0a4034",
     "prev": "245fbf3b-c9f0-436b-8add-ec945e6ad383",
     "regions": {
      "2ed7e5c4-33bf-4761-80bf-fddebdfcdef7": {
       "attrs": {
        "height": 0.8,
        "width": 0.8,
        "x": 0.1,
        "y": 0.1
       },
       "content": {
        "cell": "dfd4e90b-1e2c-4d00-8685-b0ce1e304e44",
        "part": "whole"
       },
       "id": "2ed7e5c4-33bf-4761-80bf-fddebdfcdef7"
      }
     }
    },
    "51c8d44a-e2f5-4b71-a673-f015cbae1089": {
     "id": "51c8d44a-e2f5-4b71-a673-f015cbae1089",
     "prev": "e0dabbfc-ee93-4267-8f0f-416dbdcfcdea",
     "regions": {
      "4fc6684a-fc16-42c2-869c-4e9e93c80790": {
       "attrs": {
        "height": 0.8,
        "width": 0.8,
        "x": 0.1,
        "y": 0.1
       },
       "content": {
        "cell": "8a55bced-0c72-4f0f-bbca-e4f45bc22aba",
        "part": "whole"
       },
       "id": "4fc6684a-fc16-42c2-869c-4e9e93c80790"
      }
     }
    },
    "67dbdb0f-e764-4759-a237-d7b3ae271792": {
     "id": "67dbdb0f-e764-4759-a237-d7b3ae271792",
     "prev": "205fbee5-99b6-4b7b-a2e8-8dda8ecccaac",
     "regions": {
      "320c595b-a5c6-475c-8bc2-c076968b2da5": {
       "attrs": {
        "height": 0.8,
        "width": 0.8,
        "x": 0.1,
        "y": 0.1
       },
       "content": {
        "cell": "ab273229-ff7e-448d-9fa6-f397714db313",
        "part": "whole"
       },
       "id": "320c595b-a5c6-475c-8bc2-c076968b2da5"
      }
     }
    },
    "71ed1c43-d45b-4094-bb73-4d396ec62088": {
     "id": "71ed1c43-d45b-4094-bb73-4d396ec62088",
     "prev": "c223f17c-c3f7-4bda-a520-e5c956737a48",
     "regions": {
      "6926d700-700b-46fd-8470-dddbe681276f": {
       "attrs": {
        "height": 0.8,
        "width": 0.8,
        "x": 0.1,
        "y": 0.1
       },
       "content": {
        "cell": "3119967e-b65e-443a-b8a3-913037ef53cb",
        "part": "whole"
       },
       "id": "6926d700-700b-46fd-8470-dddbe681276f"
      }
     }
    },
    "7c23ed89-d2cc-4c6e-9352-b4df34f424cd": {
     "id": "7c23ed89-d2cc-4c6e-9352-b4df34f424cd",
     "prev": "0f68d15c-0642-4e06-9413-3961ea10e4a4",
     "regions": {
      "1fa7aa7b-c516-4c34-b9be-b00a1190e782": {
       "attrs": {
        "height": 0.8,
        "width": 0.8,
        "x": 0.1,
        "y": 0.1
       },
       "content": {
        "cell": "b248722a-43f8-4589-a6f3-006c4edc627f",
        "part": "whole"
       },
       "id": "1fa7aa7b-c516-4c34-b9be-b00a1190e782"
      }
     }
    },
    "7c88b030-64fe-4b74-a51d-235ca9cf79e3": {
     "id": "7c88b030-64fe-4b74-a51d-235ca9cf79e3",
     "prev": "bcb0a724-3964-4d47-8926-9350d21a7242",
     "regions": {
      "029c6d01-c1b4-418a-8d00-d03fc8ddca73": {
       "attrs": {
        "height": 0.8,
        "width": 0.8,
        "x": 0.1,
        "y": 0.1
       },
       "content": {
        "cell": "cc837bb2-6ea9-4a31-8600-2376f030eab7",
        "part": "whole"
       },
       "id": "029c6d01-c1b4-418a-8d00-d03fc8ddca73"
      }
     }
    },
    "7ea999a1-d019-4413-a3d3-b0fa83adb765": {
     "id": "7ea999a1-d019-4413-a3d3-b0fa83adb765",
     "prev": "1fa92266-345e-49f3-924a-8e1f29a350a6",
     "regions": {
      "beff209c-100d-4e26-a8d0-398c753fd55e": {
       "attrs": {
        "height": 0.8,
        "width": 0.8,
        "x": 0.1,
        "y": 0.1
       },
       "content": {
        "cell": "a0023f01-7554-48ad-871e-e83f65a46f0a",
        "part": "whole"
       },
       "id": "beff209c-100d-4e26-a8d0-398c753fd55e"
      }
     }
    },
    "961b14d2-7629-4872-b898-4a5f5dd4715f": {
     "id": "961b14d2-7629-4872-b898-4a5f5dd4715f",
     "prev": "51c8d44a-e2f5-4b71-a673-f015cbae1089",
     "regions": {
      "fcc436d1-f3b2-4455-98e1-ca377158e290": {
       "attrs": {
        "height": 0.8,
        "width": 0.8,
        "x": 0.1,
        "y": 0.1
       },
       "content": {
        "cell": "d4b062a2-7faf-406d-a5b4-913454a392b3",
        "part": "whole"
       },
       "id": "fcc436d1-f3b2-4455-98e1-ca377158e290"
      }
     }
    },
    "a17b84fc-934a-4fef-afca-b340b193b1b3": {
     "id": "a17b84fc-934a-4fef-afca-b340b193b1b3",
     "prev": "fae8b32f-c5b4-4102-a43b-4c37d3d0b9db",
     "regions": {
      "3a4dd320-a577-4223-8ae3-4af7c5f973f6": {
       "attrs": {
        "height": 0.8,
        "width": 0.8,
        "x": 0.1,
        "y": 0.1
       },
       "content": {
        "cell": "031f145b-0cc6-4771-91eb-d0bb40f5febf",
        "part": "whole"
       },
       "id": "3a4dd320-a577-4223-8ae3-4af7c5f973f6"
      }
     }
    },
    "af293445-99e0-4a72-a6df-6f44bbe34eec": {
     "id": "af293445-99e0-4a72-a6df-6f44bbe34eec",
     "prev": "b9f05012-b9b0-49b9-85cf-d0ac44fba6d4",
     "regions": {
      "e3d1e297-c607-41dc-969b-e204d99593cc": {
       "attrs": {
        "height": 0.8,
        "width": 0.8,
        "x": 0.1,
        "y": 0.1
       },
       "content": {
        "cell": "69557248-dc6d-4956-902e-b8fdfddb306c",
        "part": "whole"
       },
       "id": "e3d1e297-c607-41dc-969b-e204d99593cc"
      }
     }
    },
    "b9f05012-b9b0-49b9-85cf-d0ac44fba6d4": {
     "id": "b9f05012-b9b0-49b9-85cf-d0ac44fba6d4",
     "prev": "a17b84fc-934a-4fef-afca-b340b193b1b3",
     "regions": {
      "e796ee38-deeb-4a51-9fd0-d36331be8dc1": {
       "attrs": {
        "height": 0.8,
        "width": 0.8,
        "x": 0.1,
        "y": 0.1
       },
       "content": {
        "cell": "df9f18a9-35c8-4247-9cbc-fe226bae52b8",
        "part": "whole"
       },
       "id": "e796ee38-deeb-4a51-9fd0-d36331be8dc1"
      }
     }
    },
    "bc9d7982-336c-4254-b912-bc9984fb9e2e": {
     "id": "bc9d7982-336c-4254-b912-bc9984fb9e2e",
     "prev": "ec40bcd7-86c4-4fe8-a645-2d5298ea9abe",
     "regions": {
      "b0d6edc5-260c-4654-98df-86cf77c7020a": {
       "attrs": {
        "height": 0.8,
        "width": 0.8,
        "x": 0.1,
        "y": 0.1
       },
       "content": {
        "cell": "1a6dc730-df7c-4b88-bb67-62f1786efcf2",
        "part": "whole"
       },
       "id": "b0d6edc5-260c-4654-98df-86cf77c7020a"
      }
     }
    },
    "bcb0a724-3964-4d47-8926-9350d21a7242": {
     "id": "bcb0a724-3964-4d47-8926-9350d21a7242",
     "prev": "71ed1c43-d45b-4094-bb73-4d396ec62088",
     "regions": {
      "ff5d424a-7810-4097-aa44-c99b9034b9ba": {
       "attrs": {
        "height": 0.8,
        "width": 0.8,
        "x": 0.1,
        "y": 0.1
       },
       "content": {
        "cell": "1bb22daf-d900-4212-a138-1e9036d68ba0",
        "part": "whole"
       },
       "id": "ff5d424a-7810-4097-aa44-c99b9034b9ba"
      }
     }
    },
    "c223f17c-c3f7-4bda-a520-e5c956737a48": {
     "id": "c223f17c-c3f7-4bda-a520-e5c956737a48",
     "prev": "67dbdb0f-e764-4759-a237-d7b3ae271792",
     "regions": {
      "c9ea70d7-60d9-44ac-8b5f-40ffc22b8a94": {
       "attrs": {
        "height": 0.8,
        "width": 0.8,
        "x": 0.1,
        "y": 0.1
       },
       "content": {
        "cell": "6518c258-879b-4efb-b746-c59a4a0760e7",
        "part": "whole"
       },
       "id": "c9ea70d7-60d9-44ac-8b5f-40ffc22b8a94"
      }
     }
    },
    "c35c39f1-921c-405e-b2d5-d61130e77ff2": {
     "id": "c35c39f1-921c-405e-b2d5-d61130e77ff2",
     "prev": "d48f23e8-2caf-4fbf-8cc8-66c12dde2126",
     "regions": {
      "df1041f5-5ef5-448b-b2a4-f8c36cc195b6": {
       "attrs": {
        "height": 0.8,
        "width": 0.8,
        "x": 0.1,
        "y": 0.1
       },
       "content": {
        "cell": "77b63dde-2548-477f-ad2c-7adb92ea9a27",
        "part": "whole"
       },
       "id": "df1041f5-5ef5-448b-b2a4-f8c36cc195b6"
      }
     }
    },
    "cde12faa-1122-4b05-909c-3d8adbdad2d2": {
     "id": "cde12faa-1122-4b05-909c-3d8adbdad2d2",
     "prev": "dcbac5b2-e60f-477f-828d-aee08fdf69bb",
     "regions": {
      "acebe508-5d01-4028-b137-f888d48244c6": {
       "attrs": {
        "height": 0.8,
        "width": 0.8,
        "x": 0.1,
        "y": 0.1
       },
       "content": {
        "cell": "fe796b29-0c53-40b6-b2b4-41d8a5d7ae7a",
        "part": "whole"
       },
       "id": "acebe508-5d01-4028-b137-f888d48244c6"
      }
     }
    },
    "d48f23e8-2caf-4fbf-8cc8-66c12dde2126": {
     "id": "d48f23e8-2caf-4fbf-8cc8-66c12dde2126",
     "prev": "319b7a84-0868-4fe4-8108-9ac40a0a4034",
     "regions": {
      "c8a47b63-527e-4fe8-8aa5-6a2841adcfaf": {
       "attrs": {
        "height": 0.8,
        "width": 0.8,
        "x": 0.1,
        "y": 0.1
       },
       "content": {
        "cell": "3eca1a8b-ae2e-4f7d-87ef-230a12f71e9f",
        "part": "whole"
       },
       "id": "c8a47b63-527e-4fe8-8aa5-6a2841adcfaf"
      }
     }
    },
    "dcbac5b2-e60f-477f-828d-aee08fdf69bb": {
     "id": "dcbac5b2-e60f-477f-828d-aee08fdf69bb",
     "prev": "c35c39f1-921c-405e-b2d5-d61130e77ff2",
     "regions": {
      "b062629d-c5d7-4609-92aa-0ab7c1bbe02b": {
       "attrs": {
        "height": 0.8,
        "width": 0.8,
        "x": 0.1,
        "y": 0.1
       },
       "content": {
        "cell": "8cc319d8-ec66-4ab7-8650-13bf584b2440",
        "part": "whole"
       },
       "id": "b062629d-c5d7-4609-92aa-0ab7c1bbe02b"
      }
     }
    },
    "df28bdd7-9e3e-4d0a-88a8-42e4c6a16634": {
     "id": "df28bdd7-9e3e-4d0a-88a8-42e4c6a16634",
     "prev": null,
     "regions": {
      "c8dccad7-e883-4e02-a111-3e3d7ed37ea2": {
       "attrs": {
        "height": 0.8,
        "width": 0.8,
        "x": 0.1,
        "y": 0.1
       },
       "content": {
        "cell": "a3fbd545-fab5-4854-8873-4087f341230a",
        "part": "whole"
       },
       "id": "c8dccad7-e883-4e02-a111-3e3d7ed37ea2"
      }
     }
    },
    "e0dabbfc-ee93-4267-8f0f-416dbdcfcdea": {
     "id": "e0dabbfc-ee93-4267-8f0f-416dbdcfcdea",
     "prev": "0ed4d688-3e23-46a8-80e7-7e71066f3c7f",
     "regions": {
      "e13aa22f-0f49-460c-acd8-1538b024f831": {
       "attrs": {
        "height": 0.8,
        "width": 0.8,
        "x": 0.1,
        "y": 0.1
       },
       "content": {
        "cell": "f2775b5b-95c7-4fd3-9037-fe08c3240d61",
        "part": "whole"
       },
       "id": "e13aa22f-0f49-460c-acd8-1538b024f831"
      }
     }
    },
    "ec40bcd7-86c4-4fe8-a645-2d5298ea9abe": {
     "id": "ec40bcd7-86c4-4fe8-a645-2d5298ea9abe",
     "prev": "961b14d2-7629-4872-b898-4a5f5dd4715f",
     "regions": {
      "a80ce726-ae3c-437a-934a-1a879520fb64": {
       "attrs": {
        "height": 0.8,
        "width": 0.8,
        "x": 0.1,
        "y": 0.1
       },
       "content": {
        "cell": "1956022a-db0f-4b4a-af0b-9017fb1acd0c",
        "part": "whole"
       },
       "id": "a80ce726-ae3c-437a-934a-1a879520fb64"
      }
     }
    },
    "fae8b32f-c5b4-4102-a43b-4c37d3d0b9db": {
     "id": "fae8b32f-c5b4-4102-a43b-4c37d3d0b9db",
     "prev": "2a186f6f-31a6-4ce0-9af9-144a42b1159c",
     "regions": {
      "d9534ab9-be4c-4763-8081-26f3db124d24": {
       "attrs": {
        "height": 0.8,
        "width": 0.8,
        "x": 0.1,
        "y": 0.1
       },
       "content": {
        "cell": "5e1fa56b-2bc6-4991-96ad-ac6834f1e46e",
        "part": "whole"
       },
       "id": "d9534ab9-be4c-4763-8081-26f3db124d24"
      }
     }
    }
   },
   "themes": {}
  }
 },
 "nbformat": 4,
 "nbformat_minor": 2
}
