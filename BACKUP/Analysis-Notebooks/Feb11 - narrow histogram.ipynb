{
 "cells": [
  {
   "cell_type": "markdown",
   "metadata": {
    "nbpresent": {
     "id": "00f33ecf-ed6d-4252-8f8e-1d7a0ef216eb"
    }
   },
   "source": [
    "Looking at data from runs on Feb 10\n",
    "\n",
    "RE-doing Feb 9 (generated weights, tract lengths and conduction velocity, 10 nodes) but with constant weights and trying to find conduction velocity only \n",
    "\n",
    "(all random initial conditions)\n",
    "\n",
    "Trying to see if we get narrow histogram for conduction velocities\n",
    "\n",
    "constnat T, F\n",
    "seed 2000, 2001, 2002"
   ]
  },
  {
   "cell_type": "code",
   "execution_count": 1,
   "metadata": {
    "nbpresent": {
     "id": "2a2362ed-e353-48f1-b8d2-ffb62a04a43e"
    }
   },
   "outputs": [],
   "source": [
    "import sys\n",
    "import glob\n",
    "import numpy as np\n",
    "import seaborn as sns\n",
    "\n",
    "\n",
    "OUTPUT_PATH = '/scratch/l/lfefebvr/noorir/model/Output/'"
   ]
  },
  {
   "cell_type": "markdown",
   "metadata": {},
   "source": [
    "Quick Look"
   ]
  },
  {
   "cell_type": "code",
   "execution_count": 2,
   "metadata": {},
   "outputs": [
    {
     "name": "stderr",
     "output_type": "stream",
     "text": [
      "/gpfs/fs0/scratch/l/lfefebvr/noorir/model/helper_functions.py:11: UserWarning: \n",
      "This call to matplotlib.use() has no effect because the backend has already\n",
      "been chosen; matplotlib.use() must be called *before* pylab, matplotlib.pyplot,\n",
      "or matplotlib.backends is imported for the first time.\n",
      "\n",
      "The backend was *originally* set to 'module://ipykernel.pylab.backend_inline' by the following code:\n",
      "  File \"/scinet/niagara/software/2018a/opt/base/anaconda3/5.1.0-hub/lib/python3.6/runpy.py\", line 193, in _run_module_as_main\n",
      "    \"__main__\", mod_spec)\n",
      "  File \"/scinet/niagara/software/2018a/opt/base/anaconda3/5.1.0-hub/lib/python3.6/runpy.py\", line 85, in _run_code\n",
      "    exec(code, run_globals)\n",
      "  File \"/scinet/niagara/software/2018a/opt/base/anaconda3/5.1.0-hub/lib/python3.6/site-packages/ipykernel_launcher.py\", line 16, in <module>\n",
      "    app.launch_new_instance()\n",
      "  File \"/scinet/niagara/software/2018a/opt/base/anaconda3/5.1.0-hub/lib/python3.6/site-packages/traitlets/config/application.py\", line 658, in launch_instance\n",
      "    app.start()\n",
      "  File \"/scinet/niagara/software/2018a/opt/base/anaconda3/5.1.0-hub/lib/python3.6/site-packages/ipykernel/kernelapp.py\", line 486, in start\n",
      "    self.io_loop.start()\n",
      "  File \"/scinet/niagara/software/2018a/opt/base/anaconda3/5.1.0-hub/lib/python3.6/site-packages/zmq/eventloop/ioloop.py\", line 177, in start\n",
      "    super(ZMQIOLoop, self).start()\n",
      "  File \"/scinet/niagara/software/2018a/opt/base/anaconda3/5.1.0-hub/lib/python3.6/site-packages/tornado/ioloop.py\", line 888, in start\n",
      "    handler_func(fd_obj, events)\n",
      "  File \"/scinet/niagara/software/2018a/opt/base/anaconda3/5.1.0-hub/lib/python3.6/site-packages/tornado/stack_context.py\", line 277, in null_wrapper\n",
      "    return fn(*args, **kwargs)\n",
      "  File \"/scinet/niagara/software/2018a/opt/base/anaconda3/5.1.0-hub/lib/python3.6/site-packages/zmq/eventloop/zmqstream.py\", line 440, in _handle_events\n",
      "    self._handle_recv()\n",
      "  File \"/scinet/niagara/software/2018a/opt/base/anaconda3/5.1.0-hub/lib/python3.6/site-packages/zmq/eventloop/zmqstream.py\", line 472, in _handle_recv\n",
      "    self._run_callback(callback, msg)\n",
      "  File \"/scinet/niagara/software/2018a/opt/base/anaconda3/5.1.0-hub/lib/python3.6/site-packages/zmq/eventloop/zmqstream.py\", line 414, in _run_callback\n",
      "    callback(*args, **kwargs)\n",
      "  File \"/scinet/niagara/software/2018a/opt/base/anaconda3/5.1.0-hub/lib/python3.6/site-packages/tornado/stack_context.py\", line 277, in null_wrapper\n",
      "    return fn(*args, **kwargs)\n",
      "  File \"/scinet/niagara/software/2018a/opt/base/anaconda3/5.1.0-hub/lib/python3.6/site-packages/ipykernel/kernelbase.py\", line 283, in dispatcher\n",
      "    return self.dispatch_shell(stream, msg)\n",
      "  File \"/scinet/niagara/software/2018a/opt/base/anaconda3/5.1.0-hub/lib/python3.6/site-packages/ipykernel/kernelbase.py\", line 233, in dispatch_shell\n",
      "    handler(stream, idents, msg)\n",
      "  File \"/scinet/niagara/software/2018a/opt/base/anaconda3/5.1.0-hub/lib/python3.6/site-packages/ipykernel/kernelbase.py\", line 399, in execute_request\n",
      "    user_expressions, allow_stdin)\n",
      "  File \"/scinet/niagara/software/2018a/opt/base/anaconda3/5.1.0-hub/lib/python3.6/site-packages/ipykernel/ipkernel.py\", line 208, in do_execute\n",
      "    res = shell.run_cell(code, store_history=store_history, silent=silent)\n",
      "  File \"/scinet/niagara/software/2018a/opt/base/anaconda3/5.1.0-hub/lib/python3.6/site-packages/ipykernel/zmqshell.py\", line 537, in run_cell\n",
      "    return super(ZMQInteractiveShell, self).run_cell(*args, **kwargs)\n",
      "  File \"/scinet/niagara/software/2018a/opt/base/anaconda3/5.1.0-hub/lib/python3.6/site-packages/IPython/core/interactiveshell.py\", line 2739, in run_cell\n",
      "    self.events.trigger('post_run_cell')\n",
      "  File \"/scinet/niagara/software/2018a/opt/base/anaconda3/5.1.0-hub/lib/python3.6/site-packages/IPython/core/events.py\", line 73, in trigger\n",
      "    func(*args, **kwargs)\n",
      "  File \"/scinet/niagara/software/2018a/opt/base/anaconda3/5.1.0-hub/lib/python3.6/site-packages/ipykernel/pylab/backend_inline.py\", line 160, in configure_once\n",
      "    activate_matplotlib(backend)\n",
      "  File \"/scinet/niagara/software/2018a/opt/base/anaconda3/5.1.0-hub/lib/python3.6/site-packages/IPython/core/pylabtools.py\", line 308, in activate_matplotlib\n",
      "    matplotlib.pyplot.switch_backend(backend)\n",
      "  File \"/scinet/niagara/software/2018a/opt/base/anaconda3/5.1.0-hub/lib/python3.6/site-packages/matplotlib/pyplot.py\", line 232, in switch_backend\n",
      "    matplotlib.use(newbackend, warn=False, force=True)\n",
      "  File \"/scinet/niagara/software/2018a/opt/base/anaconda3/5.1.0-hub/lib/python3.6/site-packages/matplotlib/__init__.py\", line 1305, in use\n",
      "    reload(sys.modules['matplotlib.backends'])\n",
      "  File \"/scinet/niagara/software/2018a/opt/base/anaconda3/5.1.0-hub/lib/python3.6/importlib/__init__.py\", line 166, in reload\n",
      "    _bootstrap._exec(spec, module)\n",
      "  File \"/scinet/niagara/software/2018a/opt/base/anaconda3/5.1.0-hub/lib/python3.6/site-packages/matplotlib/backends/__init__.py\", line 14, in <module>\n",
      "    line for line in traceback.format_stack()\n",
      "\n",
      "\n",
      "  mpl.use('Agg')\n",
      "/scinet/niagara/software/2018a/opt/base/anaconda3/5.1.0-hub/lib/python3.6/site-packages/ipykernel_launcher.py:3: UserWarning: \n",
      "This call to matplotlib.use() has no effect because the backend has already\n",
      "been chosen; matplotlib.use() must be called *before* pylab, matplotlib.pyplot,\n",
      "or matplotlib.backends is imported for the first time.\n",
      "\n",
      "The backend was *originally* set to 'module://ipykernel.pylab.backend_inline' by the following code:\n",
      "  File \"/scinet/niagara/software/2018a/opt/base/anaconda3/5.1.0-hub/lib/python3.6/runpy.py\", line 193, in _run_module_as_main\n",
      "    \"__main__\", mod_spec)\n",
      "  File \"/scinet/niagara/software/2018a/opt/base/anaconda3/5.1.0-hub/lib/python3.6/runpy.py\", line 85, in _run_code\n",
      "    exec(code, run_globals)\n",
      "  File \"/scinet/niagara/software/2018a/opt/base/anaconda3/5.1.0-hub/lib/python3.6/site-packages/ipykernel_launcher.py\", line 16, in <module>\n",
      "    app.launch_new_instance()\n",
      "  File \"/scinet/niagara/software/2018a/opt/base/anaconda3/5.1.0-hub/lib/python3.6/site-packages/traitlets/config/application.py\", line 658, in launch_instance\n",
      "    app.start()\n",
      "  File \"/scinet/niagara/software/2018a/opt/base/anaconda3/5.1.0-hub/lib/python3.6/site-packages/ipykernel/kernelapp.py\", line 486, in start\n",
      "    self.io_loop.start()\n",
      "  File \"/scinet/niagara/software/2018a/opt/base/anaconda3/5.1.0-hub/lib/python3.6/site-packages/zmq/eventloop/ioloop.py\", line 177, in start\n",
      "    super(ZMQIOLoop, self).start()\n",
      "  File \"/scinet/niagara/software/2018a/opt/base/anaconda3/5.1.0-hub/lib/python3.6/site-packages/tornado/ioloop.py\", line 888, in start\n",
      "    handler_func(fd_obj, events)\n",
      "  File \"/scinet/niagara/software/2018a/opt/base/anaconda3/5.1.0-hub/lib/python3.6/site-packages/tornado/stack_context.py\", line 277, in null_wrapper\n",
      "    return fn(*args, **kwargs)\n",
      "  File \"/scinet/niagara/software/2018a/opt/base/anaconda3/5.1.0-hub/lib/python3.6/site-packages/zmq/eventloop/zmqstream.py\", line 440, in _handle_events\n",
      "    self._handle_recv()\n",
      "  File \"/scinet/niagara/software/2018a/opt/base/anaconda3/5.1.0-hub/lib/python3.6/site-packages/zmq/eventloop/zmqstream.py\", line 472, in _handle_recv\n",
      "    self._run_callback(callback, msg)\n",
      "  File \"/scinet/niagara/software/2018a/opt/base/anaconda3/5.1.0-hub/lib/python3.6/site-packages/zmq/eventloop/zmqstream.py\", line 414, in _run_callback\n",
      "    callback(*args, **kwargs)\n",
      "  File \"/scinet/niagara/software/2018a/opt/base/anaconda3/5.1.0-hub/lib/python3.6/site-packages/tornado/stack_context.py\", line 277, in null_wrapper\n",
      "    return fn(*args, **kwargs)\n",
      "  File \"/scinet/niagara/software/2018a/opt/base/anaconda3/5.1.0-hub/lib/python3.6/site-packages/ipykernel/kernelbase.py\", line 283, in dispatcher\n",
      "    return self.dispatch_shell(stream, msg)\n",
      "  File \"/scinet/niagara/software/2018a/opt/base/anaconda3/5.1.0-hub/lib/python3.6/site-packages/ipykernel/kernelbase.py\", line 233, in dispatch_shell\n",
      "    handler(stream, idents, msg)\n",
      "  File \"/scinet/niagara/software/2018a/opt/base/anaconda3/5.1.0-hub/lib/python3.6/site-packages/ipykernel/kernelbase.py\", line 399, in execute_request\n",
      "    user_expressions, allow_stdin)\n",
      "  File \"/scinet/niagara/software/2018a/opt/base/anaconda3/5.1.0-hub/lib/python3.6/site-packages/ipykernel/ipkernel.py\", line 208, in do_execute\n",
      "    res = shell.run_cell(code, store_history=store_history, silent=silent)\n",
      "  File \"/scinet/niagara/software/2018a/opt/base/anaconda3/5.1.0-hub/lib/python3.6/site-packages/ipykernel/zmqshell.py\", line 537, in run_cell\n",
      "    return super(ZMQInteractiveShell, self).run_cell(*args, **kwargs)\n",
      "  File \"/scinet/niagara/software/2018a/opt/base/anaconda3/5.1.0-hub/lib/python3.6/site-packages/IPython/core/interactiveshell.py\", line 2739, in run_cell\n",
      "    self.events.trigger('post_run_cell')\n",
      "  File \"/scinet/niagara/software/2018a/opt/base/anaconda3/5.1.0-hub/lib/python3.6/site-packages/IPython/core/events.py\", line 73, in trigger\n",
      "    func(*args, **kwargs)\n",
      "  File \"/scinet/niagara/software/2018a/opt/base/anaconda3/5.1.0-hub/lib/python3.6/site-packages/ipykernel/pylab/backend_inline.py\", line 160, in configure_once\n",
      "    activate_matplotlib(backend)\n",
      "  File \"/scinet/niagara/software/2018a/opt/base/anaconda3/5.1.0-hub/lib/python3.6/site-packages/IPython/core/pylabtools.py\", line 308, in activate_matplotlib\n",
      "    matplotlib.pyplot.switch_backend(backend)\n",
      "  File \"/scinet/niagara/software/2018a/opt/base/anaconda3/5.1.0-hub/lib/python3.6/site-packages/matplotlib/pyplot.py\", line 232, in switch_backend\n",
      "    matplotlib.use(newbackend, warn=False, force=True)\n",
      "  File \"/scinet/niagara/software/2018a/opt/base/anaconda3/5.1.0-hub/lib/python3.6/site-packages/matplotlib/__init__.py\", line 1305, in use\n",
      "    reload(sys.modules['matplotlib.backends'])\n",
      "  File \"/scinet/niagara/software/2018a/opt/base/anaconda3/5.1.0-hub/lib/python3.6/importlib/__init__.py\", line 166, in reload\n",
      "    _bootstrap._exec(spec, module)\n",
      "  File \"/scinet/niagara/software/2018a/opt/base/anaconda3/5.1.0-hub/lib/python3.6/site-packages/matplotlib/backends/__init__.py\", line 14, in <module>\n",
      "    line for line in traceback.format_stack()\n",
      "\n",
      "\n",
      "  This is separate from the ipykernel package so we can avoid doing imports until\n"
     ]
    },
    {
     "data": {
      "image/png": "[encoded data removed]",
      "text/plain": [
       "<matplotlib.figure.Figure at 0x2b8ecb0b2710>"
      ]
     },
     "metadata": {},
     "output_type": "display_data"
    }
   ],
   "source": [
    "import helper_functions as hf\n",
    "import matplotlib as mpl\n",
    "mpl.use('Agg')\n",
    "import matplotlib.pyplot as plt\n",
    "\n",
    "thing = np.load(\"/scratch/l/lfefebvr/noorir/model/Output/2019-02-10/934271/rank102_0.019255646837742682.npy\")\n",
    "plt.boxplot(thing)\n",
    "plt.show()"
   ]
  },
  {
   "cell_type": "code",
   "execution_count": 3,
   "metadata": {},
   "outputs": [
    {
     "data": {
      "image/png": "[encoded data removed]",
      "text/plain": [
       "<matplotlib.figure.Figure at 0x2b8ecc621710>"
      ]
     },
     "metadata": {},
     "output_type": "display_data"
    }
   ],
   "source": [
    "plt.hist(thing)\n",
    "plt.show()"
   ]
  },
  {
   "cell_type": "markdown",
   "metadata": {},
   "source": [
    "We don't see narrow histogram so try to see if there's a difference between conduc vel all 2000 vs all 8000"
   ]
  },
  {
   "cell_type": "markdown",
   "metadata": {
    "nbpresent": {
     "id": "1a3cae7d-dbd6-478d-adce-fef91768bc10"
    }
   },
   "source": [
    "Extra Helper Functions"
   ]
  },
  {
   "cell_type": "code",
   "execution_count": 6,
   "metadata": {
    "nbpresent": {
     "id": "2cb84aed-b22a-4757-8bd4-a213925b52a1"
    }
   },
   "outputs": [],
   "source": [
    "def plot_ts(nodes, all_ts):\n",
    "\n",
    "\n",
    "    plt.figure(2, figsize=(40, 6))\n",
    "    for sing_node in range(nodes):\n",
    "        plt.plot(np.array(all_ts)[sing_node])\n",
    "\n",
    "    plt.show()"
   ]
  },
  {
   "cell_type": "markdown",
   "metadata": {},
   "source": [
    "Choosing which jobs to analyze"
   ]
  },
  {
   "cell_type": "code",
   "execution_count": 7,
   "metadata": {
    "nbpresent": {
     "id": "cd5267bd-9938-4fc9-a500-f4c695fa79a4"
    }
   },
   "outputs": [],
   "source": [
    "# CHANGE THIS CELL ACCORDING TO DATA YOU ARE ANALYZING\n",
    "\"\"\"\n",
    "\n",
    "\"\"\"\n",
    "NTASKS =120\n",
    "JOB= ['934270','934271','934272']\n",
    "NUM_JOBS = len(JOB)"
   ]
  },
  {
   "cell_type": "markdown",
   "metadata": {
    "nbpresent": {
     "id": "1d213cc8-e9a9-4875-b33a-205219eaf1cd"
    }
   },
   "source": [
    "Loading all the data we need for analysis"
   ]
  },
  {
   "cell_type": "code",
   "execution_count": 8,
   "metadata": {
    "nbpresent": {
     "id": "452522e7-d6ca-46d8-93cc-0af9aef18548"
    }
   },
   "outputs": [
    {
     "name": "stdout",
     "output_type": "stream",
     "text": [
      "Loaded vars files successfully 3\n"
     ]
    },
    {
     "data": {
      "text/plain": [
       "{'934270': '/scratch/l/lfefebvr/noorir/model/Output/2019-02-10/934270/load_genvars_delays5.py',\n",
       " '934271': '/scratch/l/lfefebvr/noorir/model/Output/2019-02-10/934271/load_genvars_delays6.py',\n",
       " '934272': '/scratch/l/lfefebvr/noorir/model/Output/2019-02-10/934272/load_genvars_delays7.py'}"
      ]
     },
     "execution_count": 8,
     "metadata": {},
     "output_type": "execute_result"
    }
   ],
   "source": [
    "# Loading variable file names we will use for analysis into a dictionary\n",
    "\n",
    "load_files = {} #names of all the load_vars_ts_delays files\n",
    "\n",
    "for job in JOB:\n",
    "    var = glob.glob(OUTPUT_PATH+\"*/\"+job+\"/\"+\"load_genvars_delay*\")\n",
    "    if len(var) ==1:\n",
    "        load_files[job] = glob.glob(OUTPUT_PATH+\"*/\"+job+\"/\"+\"load_genvars_delay*\")[0]\n",
    "        \n",
    "        \n",
    "if len(load_files.keys()) == len(JOB):\n",
    "    print(\"Loaded vars files successfully\", len(JOB))\n",
    "load_files"
   ]
  },
  {
   "cell_type": "code",
   "execution_count": 9,
   "metadata": {
    "nbpresent": {
     "id": "2abec0de-20ee-4d4a-aa68-27bebcb71dcc"
    }
   },
   "outputs": [
    {
     "name": "stdout",
     "output_type": "stream",
     "text": [
      "0  Job: 934270, lowest MSE:  0.016219436512124905\n",
      "1  Job: 934271, lowest MSE:  0.009746591190851197\n",
      "2  Job: 934272, lowest MSE:  0.011629097950944871\n"
     ]
    }
   ],
   "source": [
    "# Retreive the best solution - all_res is dict with arrays with the conduction \n",
    "# velocities vector that had the lowest MSE at the end of the diff evol algorithm\n",
    "\n",
    "all_res = {} #dictionary of all the solution arrays\n",
    "i=0\n",
    "for job in JOB:\n",
    "    full_list = glob.glob(OUTPUT_PATH+\"*/\"+job+\"/\"+\"rank*\") #list of all results for a single job\n",
    "    if len(full_list) == NTASKS:\n",
    "        low = 1\n",
    "        for res in full_list:\n",
    "            start = res.index(\"_\")+1\n",
    "            end = res.index(\".npy\")\n",
    "            if float(res[start:end])< low:\n",
    "                low = float(res[start:end])\n",
    "        print(i,\" Job: \"+job+\", lowest MSE: \", low)\n",
    "        i = i+ 1\n",
    "        final_res = glob.glob(OUTPUT_PATH+\"*/\"+job+\"/\"+\"rank*\"+str(low)+\"*\")[0]\n",
    "        all_res[job]= np.load(final_res)\n",
    "    else:\n",
    "        print(\"Error\", job)\n",
    "        print(full_list)\n",
    "        break"
   ]
  },
  {
   "cell_type": "markdown",
   "metadata": {
    "nbpresent": {
     "id": "5cdc21b8-d5dc-4d10-ab16-c65602e99e13"
    }
   },
   "source": [
    "# STARTING ANALYSIS"
   ]
  },
  {
   "cell_type": "markdown",
   "metadata": {},
   "source": [
    "Plotting all histograms of all the conduction vel / weights estimates"
   ]
  },
  {
   "cell_type": "code",
   "execution_count": 10,
   "metadata": {},
   "outputs": [
    {
     "name": "stdout",
     "output_type": "stream",
     "text": [
      "1 JOB #:  934270 min: 2012.183999261043 max: 7812.6019203962815 avg: 4420.952225372492\n",
      "2 JOB #:  934271 min: 2009.4722994460176 max: 7733.425125422118 avg: 5081.7907076019455\n",
      "3 JOB #:  934272 min: 2029.573918936992 max: 7972.3512949677115 avg: 4706.35796742721\n"
     ]
    },
    {
     "data": {
      "image/png": "[encoded data removed]",
      "text/plain": [
       "<matplotlib.figure.Figure at 0x2b8ed9751d30>"
      ]
     },
     "metadata": {},
     "output_type": "display_data"
    }
   ],
   "source": [
    "import matplotlib.pyplot as plt\n",
    "%matplotlib inline\n",
    "\n",
    "plt.figure(figsize=(15.0,15.0))\n",
    "for i in range(NUM_JOBS): \n",
    "    plt.subplot(3, 3, i+1)\n",
    "\n",
    "\n",
    "    print(i+1, \"JOB #: \", JOB[i], \"min: {} max: {} avg: {}\".format(np.min(all_res[JOB[i]]), \n",
    "                                                                   np.max(all_res[JOB[i]]), np.average(all_res[JOB[i]])))\n",
    "    plt.hist(all_res[JOB[i]], range= (2000,8000))\n",
    "    #row major counting\n"
   ]
  },
  {
   "cell_type": "code",
   "execution_count": 11,
   "metadata": {},
   "outputs": [],
   "source": [
    "left  = 0.125  # the left side of the subplots of the figure\n",
    "right = 0.9    # the right side of the subplots of the figure\n",
    "bottom = 0.1   # the bottom of the subplots of the figure\n",
    "\n",
    "top = 0.9      # the top of the subplots of the figure\n",
    "wspace = 0.2   # the amount of width reserved for blank space between subplots\n",
    "hspace = 0.2   # the amount of height reserved for white space between subplots"
   ]
  },
  {
   "cell_type": "markdown",
   "metadata": {
    "nbpresent": {
     "id": "1844963f-f7a6-40a2-a212-7bbdf56ae6d9"
    }
   },
   "source": [
    "Looking at solution matrices"
   ]
  },
  {
   "cell_type": "code",
   "execution_count": 12,
   "metadata": {
    "scrolled": false
   },
   "outputs": [
    {
     "name": "stdout",
     "output_type": "stream",
     "text": [
      "JOB #: 934270, max: 7812.6019203962815 min: 2012.183999261043\n",
      "JOB #: 934271, max: 7733.425125422118 min: 2009.4722994460176\n",
      "JOB #: 934272, max: 7972.3512949677115 min: 2029.573918936992\n"
     ]
    },
    {
     "data": {
      "image/png": "[encoded data removed]",
      "text/plain": [
       "<matplotlib.figure.Figure at 0x2b8ed96c0588>"
      ]
     },
     "metadata": {},
     "output_type": "display_data"
    },
    {
     "data": {
      "image/png": "[encoded data removed]",
      "text/plain": [
       "<matplotlib.figure.Figure at 0x2b8ed98c3b70>"
      ]
     },
     "metadata": {},
     "output_type": "display_data"
    },
    {
     "data": {
      "image/png": "[encoded data removed]",
      "text/plain": [
       "<matplotlib.figure.Figure at 0x2b8edbfc5ef0>"
      ]
     },
     "metadata": {},
     "output_type": "display_data"
    }
   ],
   "source": [
    "# ALL THE RESULTS AT ONCE\n",
    "\n",
    "for i in range(NUM_JOBS):\n",
    "    exec(open(load_files[JOB[i]]).read()) #loading variables into the environment\n",
    "    ind = 0\n",
    "    mat = np.ones((nodes, nodes))\n",
    "    for row in range(0,nodes):\n",
    "        for col in range(row+1, nodes):\n",
    "            mat[row,col] = all_res[JOB[i]][ind]\n",
    "            mat[col,row] = all_res[JOB[i]][ind]\n",
    "            ind += 1\n",
    "    np.fill_diagonal(mat,0)\n",
    "    print(\"JOB #: {}, max: {} min: {}\".format(JOB[i],np.max(all_res[JOB[i]]), np.min(all_res[JOB[i]])))\n",
    "    plt.figure()\n",
    "    sns.heatmap(mat, vmax = 8000, vmin = 2000, cmap = \"viridis\")"
   ]
  },
  {
   "cell_type": "code",
   "execution_count": 13,
   "metadata": {},
   "outputs": [
    {
     "name": "stdout",
     "output_type": "stream",
     "text": [
      "here\n",
      "2002\n",
      "not constant\n",
      "10\n"
     ]
    },
    {
     "data": {
      "image/png": "[encoded data removed]",
      "text/plain": [
       "<matplotlib.figure.Figure at 0x2b8ed97effd0>"
      ]
     },
     "metadata": {},
     "output_type": "display_data"
    },
    {
     "name": "stdout",
     "output_type": "stream",
     "text": [
      "JOB #: 934270, max: 7812.6019203962815 min: 2012.183999261043\n",
      "here\n",
      "2001\n",
      "not constant\n",
      "10\n"
     ]
    },
    {
     "data": {
      "image/png": "[encoded data removed]",
      "text/plain": [
       "<matplotlib.figure.Figure at 0x2b8ed97c1d68>"
      ]
     },
     "metadata": {},
     "output_type": "display_data"
    },
    {
     "name": "stdout",
     "output_type": "stream",
     "text": [
      "JOB #: 934271, max: 7733.425125422118 min: 2009.4722994460176\n",
      "here\n",
      "2000\n",
      "not constant\n",
      "10\n"
     ]
    },
    {
     "data": {
      "image/png": "[encoded data removed]",
      "text/plain": [
       "<matplotlib.figure.Figure at 0x2b8efff81d30>"
      ]
     },
     "metadata": {},
     "output_type": "display_data"
    },
    {
     "name": "stdout",
     "output_type": "stream",
     "text": [
      "JOB #: 934272, max: 7972.3512949677115 min: 2029.573918936992\n"
     ]
    }
   ],
   "source": [
    "\"\"\"\n",
    "    if plot == \"corr\":\n",
    "        np.fill_diagonal(exp_data, 0)\n",
    "        plot_mat(exp_data,\"opt corr\", 1, -1)\n",
    "        print(\"MSE\", res)\n",
    "    if plot == \"delay\":\n",
    "        plot_mat(delays,\"Delays\")\n",
    "    if plot == \"cw\":\n",
    "        if optim ==\"c\":\n",
    "            plot_mat(cmat, \"opt c\",  0.0005, 0)\n",
    "        if optim ==\"w\":\n",
    "            plot_mat(wmat, \"opt w\", 0, 1)\n",
    "\"\"\"\n",
    "for i in range(NUM_JOBS):\n",
    "    exec(open(load_files[JOB[i]]).read()) #loading variables into the environment\n",
    "    \n",
    "    if evol_params['optim'] =='w':\n",
    "        MAT = c_mat\n",
    "    elif evol_params['optim'] =='c':\n",
    "        MAT = w_mat\n",
    "    hf.residuals_cw_corr(all_res[JOB[i]], wc_params, targ_data, nodes, tract_mat, MAT, skip, \n",
    "                         wc_seed, evol_params['optim'],plot = \"delay\")\n",
    "\n",
    "    print(\"JOB #: {}, max: {} min: {}\".format(JOB[i],np.max(all_res[JOB[i]]), np.min(all_res[JOB[i]])))"
   ]
  },
  {
   "cell_type": "markdown",
   "metadata": {},
   "source": [
    "Observation: Delay matrices more consistent than weight matrices or conduction velocity"
   ]
  },
  {
   "cell_type": "code",
   "execution_count": null,
   "metadata": {},
   "outputs": [],
   "source": []
  }
 ],
 "metadata": {
  "kernelspec": {
   "display_name": "Python 3",
   "language": "python",
   "name": "python3"
  },
  "language_info": {
   "codemirror_mode": {
    "name": "ipython",
    "version": 3
   },
   "file_extension": ".py",
   "mimetype": "text/x-python",
   "name": "python",
   "nbconvert_exporter": "python",
   "pygments_lexer": "ipython3",
   "version": "3.6.4"
  }
 },
 "nbformat": 4,
 "nbformat_minor": 2
}
