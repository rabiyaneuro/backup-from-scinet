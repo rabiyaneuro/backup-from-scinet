{
 "cells": [
  {
   "cell_type": "code",
   "execution_count": null,
   "metadata": {},
   "outputs": [],
   "source": [
    "%matplotlib inline"
   ]
  },
  {
   "cell_type": "markdown",
   "metadata": {},
   "source": [
    "\n",
    "Source object (SourceObj) : complete tutorial\n",
    "=============================================\n",
    "\n",
    "This example illustrate the main functionalities and inputs of the source\n",
    "object i.e :\n",
    "\n",
    "    * Add sources with text\n",
    "    * Control the marker symbol and color\n",
    "    * Mask sources\n",
    "    * Analyze anatomical locations of sources using region of interest\n",
    "    * Color sources according to a data vector or to an anatomical location\n",
    "    * Display only sources in the left // right hemisphere\n",
    "    * Force source to fit to a mesh\n",
    "    * Display only sources inside // outside a mesh\n",
    "\n",
    "The source objects can interact with several other objects :\n",
    "\n",
    "    * BrainObj : source's activity and repartition can be projected on the\n",
    "      surface of the brain\n",
    "    * RoiObj : source's activity and repartition can be projected on the\n",
    "      surface of region of interest. In addition, ROI objects can also be used\n",
    "      to get anatomical informations of sources\n",
    "\n"
   ]
  },
  {
   "cell_type": "code",
   "execution_count": null,
   "metadata": {},
   "outputs": [],
   "source": [
    "import numpy as np\n",
    "\n",
    "from visbrain.objects import SourceObj, SceneObj, ColorbarObj, BrainObj, RoiObj\n",
    "from visbrain.io import download_file"
   ]
  },
  {
   "cell_type": "markdown",
   "metadata": {},
   "source": [
    "<div class=\"alert alert-danger\"><h4>Warning</h4><p>To be clear with the vocabulary used, the SourceObj has a different\n",
    "    meaning depending on the recording type. For scalp or intracranial EEG,\n",
    "    sources reflect electrode, in MEG it could be sensors or source\n",
    "    reconstruction.</p></div>\n",
    "\n"
   ]
  },
  {
   "cell_type": "markdown",
   "metadata": {},
   "source": [
    "Download data\n",
    "##############################################################################\n",
    " To illustrate the functionalities of the source object, here, we download an\n",
    " intracranial dataset consisting of 583 deep recording sites.\n",
    "\n"
   ]
  },
  {
   "cell_type": "code",
   "execution_count": null,
   "metadata": {},
   "outputs": [],
   "source": [
    "# Download the file and get the (x, y, z) MNI coordinates of the 583 recording\n",
    "# sites\n",
    "mat = np.load(download_file('xyz_sample.npz', astype='example_data'))\n",
    "xyz = mat['xyz']\n",
    "n_sources = xyz.shape[0]\n",
    "text = ['S' + str(k) for k in range(n_sources)]"
   ]
  },
  {
   "cell_type": "markdown",
   "metadata": {},
   "source": [
    "Scene creation\n",
    "##############################################################################\n",
    " As said in other tutorials, the scene is equivalent with Matplotlib subplots.\n",
    " So here, we define a scene that is going to centralize objects in subplots\n",
    "\n"
   ]
  },
  {
   "cell_type": "code",
   "execution_count": null,
   "metadata": {},
   "outputs": [],
   "source": [
    "# Define the default camera state used for each subplot\n",
    "CAM_STATE = dict(azimuth=0,        # azimuth angle\n",
    "                 elevation=90,     # elevation angle\n",
    "                 scale_factor=180  # distance to the camera\n",
    "                 )\n",
    "S_KW = dict(camera_state=CAM_STATE)\n",
    "# Create the scene\n",
    "sc = SceneObj(size=(1600, 1000))\n",
    "CBAR_STATE = dict(cbtxtsz=12, txtsz=10., width=.5, cbtxtsh=3.,\n",
    "                  rect=(1., -2., 1., 4.))"
   ]
  },
  {
   "cell_type": "markdown",
   "metadata": {},
   "source": [
    "Basic source object\n",
    "##############################################################################\n",
    " The first example consist of only plotting the source, without any\n",
    " modifications of the inputs\n",
    "\n"
   ]
  },
  {
   "cell_type": "code",
   "execution_count": null,
   "metadata": {},
   "outputs": [],
   "source": [
    "# Create the source objects and add this object to the scene\n",
    "s_obj_basic = SourceObj('Basic', xyz)\n",
    "sc.add_to_subplot(s_obj_basic, row=0, col=0, title='Default configuration',\n",
    "                  **S_KW)"
   ]
  },
  {
   "cell_type": "markdown",
   "metadata": {},
   "source": [
    "Text, symbol and color control\n",
    "##############################################################################\n",
    " Now, we attach text to each source (bold and yellow) and use a gray squares\n",
    " symbol\n",
    "\n"
   ]
  },
  {
   "cell_type": "code",
   "execution_count": null,
   "metadata": {},
   "outputs": [],
   "source": [
    "# The color definition could either be uniform (e.g 'green', 'blue'...), a list\n",
    "# of colors or an array of RGB(A) colors\n",
    "# s_color = 'blue'  # uniform definition\n",
    "s_color = [\"#D72638\"] * 100 + [\"#3772FF\"] * 100 + [\"#008148\"] * 200 + \\\n",
    "    [\"#C17D11\"] * 183  # list definition\n",
    "# Define the source object and add this object to the scene\n",
    "s_obj_col = SourceObj('S2', xyz, text=text, text_size=4., text_color='yellow',\n",
    "                      text_bold=True, color=s_color, symbol='square')\n",
    "sc.add_to_subplot(s_obj_col, row=0, row_span=2, col=1,\n",
    "                  title='Text, color and symbol', **S_KW)"
   ]
  },
  {
   "cell_type": "markdown",
   "metadata": {},
   "source": [
    "Assigning data to sources and radius control\n",
    "##############################################################################\n",
    " This example illustrate how to assign some data to sources and how to control\n",
    " the dynamic of radius sources\n",
    "\n"
   ]
  },
  {
   "cell_type": "code",
   "execution_count": null,
   "metadata": {},
   "outputs": [],
   "source": [
    "# Create some random data of shape (n_sources,)\n",
    "rnd_data = np.random.uniform(low=-100, high=100, size=(n_sources,))\n",
    "# Control the radius range of sources\n",
    "radius_min = 7.\n",
    "radius_max = 25.\n",
    "s_color = np.random.uniform(0., 1., (n_sources, 3))  # array definition\n",
    "# Define the source object and add this object to the scene\n",
    "s_rad = SourceObj('rad', xyz, color=s_color, data=rnd_data,\n",
    "                  radius_min=radius_min, radius_max=radius_max)\n",
    "sc.add_to_subplot(s_rad, row=0, col=2, title='Assigning data to sources ',\n",
    "                  **S_KW)"
   ]
  },
  {
   "cell_type": "markdown",
   "metadata": {},
   "source": [
    "Mask sources\n",
    "##############################################################################\n",
    " Sometimes, it could be usefull to mask some sources and display those sources\n",
    " with a different color (using `mask_color`).\n",
    "\n"
   ]
  },
  {
   "cell_type": "code",
   "execution_count": null,
   "metadata": {},
   "outputs": [],
   "source": [
    "# Define the mask for sources that have a x coordinate between [-20, 20] and\n",
    "# set the color of those masked sources to orange\n",
    "mask = np.logical_and(xyz[:, 0] >= -20., xyz[:, 0] <= 20.)\n",
    "mask_color = 'orange'\n",
    "s_obj_mask = SourceObj('S3', xyz, mask=mask, mask_color=mask_color,\n",
    "                       color=s_color, data=rnd_data, radius_min=radius_min,\n",
    "                       radius_max=radius_max)\n",
    "sc.add_to_subplot(s_obj_mask, row=0, col=3,\n",
    "                  title='Masked sources between [-20., 20.]\\nare orange',\n",
    "                  **S_KW)"
   ]
  },
  {
   "cell_type": "markdown",
   "metadata": {},
   "source": [
    "Get anatomical informations of sources\n",
    "##############################################################################\n",
    " The region of interest object (RoiObj) is basically a volume where each voxel\n",
    " is known to be part of an anatomical region. Hence, you can define the RoiObj\n",
    " and use it to get the anatomical informations of each source\n",
    "\n"
   ]
  },
  {
   "cell_type": "code",
   "execution_count": null,
   "metadata": {},
   "outputs": [],
   "source": [
    "# First, create a basic source object\n",
    "s_obj_ba = SourceObj('S4', xyz)\n",
    "# Then, we define a region of interest object (RoiObj). We use brodmann areas\n",
    "# but you should take a look to the complete tutorial on ROIs because visbrain\n",
    "# povides several templates (Brodmann, AAL, Talairach and MIST)\n",
    "roi_obj = RoiObj('brodmann')\n",
    "# If you want to see labels associated with the brodmann areas, uncomment the\n",
    "# following line\n",
    "# print(roi_obj.get_labels())\n",
    "# Now, analyse sources using the RoiObj. The argument returned by the\n",
    "# `SourceObj.analyse_sources` method is a Pandas dataframe\n",
    "df_brod = s_obj_ba.analyse_sources(roi_obj=roi_obj)\n",
    "# The dataframe contains a column `brodmann` which is the name of the\n",
    "# associated brodmann area. Hence, we use it to color sources according to the\n",
    "# name of brodmann area\n",
    "s_obj_ba.color_sources(analysis=df_brod, color_by='brodmann')\n",
    "# Finally, add the object to the scene\n",
    "sc.add_to_subplot(s_obj_ba, row=1, col=0,\n",
    "                  title='Color sources according to\\n Brodmann area', **S_KW)"
   ]
  },
  {
   "cell_type": "markdown",
   "metadata": {},
   "source": [
    "Color sources, using predefined colors, according to the AAL location\n",
    "##############################################################################\n",
    " Similarly to the example above, here, we color sources according to the\n",
    " Automated Anatomical Labeling (AAL)\n",
    "\n"
   ]
  },
  {
   "cell_type": "code",
   "execution_count": null,
   "metadata": {},
   "outputs": [],
   "source": [
    "\"\"\"Analyse where sources are located using the AAL ROI template and color\n",
    "only the precentral left (green), right (orange), insula right (blue). Others\n",
    "ROI are turn into white.\n",
    "\"\"\"\n",
    "# Create a basic source object\n",
    "s_obj_aal = SourceObj('S5', xyz)\n",
    "# Define the RoiObj using AAL and analyse sources locations\n",
    "roi_obj = RoiObj('aal')\n",
    "# print(roi_obj.get_labels())\n",
    "df_aal = s_obj_aal.analyse_sources(roi_obj='aal')\n",
    "# Then, define one color per ROI and color others in gray\n",
    "aal_col = {'Precentral (R)': 'green',\n",
    "           'Precentral (L)': 'orange',\n",
    "           'Insula (R)': 'blue'}\n",
    "color_others = 'gray'\n",
    "# Color sources and add the object to the scene\n",
    "s_obj_aal.color_sources(analysis=df_aal, color_by='aal', roi_to_color=aal_col,\n",
    "                        color_others=color_others)\n",
    "sc.add_to_subplot(s_obj_aal, row=1, col=2,\n",
    "                  title='Color only sources in\\n precentral and insula',\n",
    "                  **S_KW)"
   ]
  },
  {
   "cell_type": "markdown",
   "metadata": {},
   "source": [
    "Color sources according to data\n",
    "##############################################################################\n",
    " A more simple example, but it's also possible to color your sources\n",
    " according to a data vector\n",
    "\n"
   ]
  },
  {
   "cell_type": "code",
   "execution_count": null,
   "metadata": {},
   "outputs": [],
   "source": [
    "# Define the source object\n",
    "s_obj_data = SourceObj('S3', xyz, data=rnd_data, radius_min=radius_min,\n",
    "                       radius_max=radius_max)\n",
    "# Color sources according to a data vector\n",
    "s_obj_data.color_sources(data=rnd_data, cmap='viridis', clim=(-100, 100),)\n",
    "# Get the colorbar of the source object\n",
    "cb_data = ColorbarObj(s_obj_data, cblabel='Random data', border=False,\n",
    "                      **CBAR_STATE)\n",
    "# Add the source and colorbar objects to the scene\n",
    "sc.add_to_subplot(s_obj_data, row=1, col=3, title='Color sources using data',\n",
    "                  **S_KW)\n",
    "sc.add_to_subplot(cb_data, row=1, col=4, width_max=60)"
   ]
  },
  {
   "cell_type": "markdown",
   "metadata": {},
   "source": [
    "Project source's activity on the surface of the brain\n",
    "##############################################################################\n",
    " As explained in the BrainObj tutorial, source's activity can be projected on\n",
    " the surface of the brain which can be particularly convenient for represent\n",
    " source's activity across several intracranially implanted subjects\n",
    "\n"
   ]
  },
  {
   "cell_type": "code",
   "execution_count": null,
   "metadata": {},
   "outputs": [],
   "source": [
    "# Define the source and brain objects\n",
    "s_proj = SourceObj('proj', xyz, data=rnd_data)\n",
    "b_proj = BrainObj('B3', translucent=False)\n",
    "# Project source's activity on the surface of the brain\n",
    "s_proj.project_sources(b_proj, cmap='inferno')\n",
    "sc.add_to_subplot(b_proj, row=2, col=0, title=\"Project source's activity\")"
   ]
  },
  {
   "cell_type": "markdown",
   "metadata": {},
   "source": [
    "Project masked source's activity on the surface of the brain\n",
    "##############################################################################\n",
    " This is the exact same example as above, except that we also project masked\n",
    " sources\n",
    "\n"
   ]
  },
  {
   "cell_type": "code",
   "execution_count": null,
   "metadata": {},
   "outputs": [],
   "source": [
    "# Define the source and brain objects\n",
    "s_mask = SourceObj('mask', xyz, data=rnd_data, mask=mask, mask_color='gray')\n",
    "b_mask = BrainObj('B3', translucent=False)\n",
    "# Project source's activity on the surface of the brain\n",
    "s_mask.project_sources(b_mask, cmap='viridis', radius=15.)\n",
    "sc.add_to_subplot(b_mask, row=2, col=1,\n",
    "                  title=\"Project masked source's activity\")"
   ]
  },
  {
   "cell_type": "markdown",
   "metadata": {},
   "source": [
    "Project source's activity on the surface of the DMN\n",
    "##############################################################################\n",
    " Here, we first use the MIST ROI to get represent the default mode network and\n",
    " then, we project source's activity onto the surface of the DMN\n",
    "\n"
   ]
  },
  {
   "cell_type": "code",
   "execution_count": null,
   "metadata": {},
   "outputs": [],
   "source": [
    "# Define the source and brain objects\n",
    "s_dmn = SourceObj('dmn', xyz, data=rnd_data, mask=mask, mask_color='gray')\n",
    "b_mask = BrainObj('B3')\n",
    "# Define the MIST roi object\n",
    "roi_dmn = RoiObj('mist_7')\n",
    "# print(roi_dmn.get_labels())\n",
    "# Get the index of the DMN and get the mesh\n",
    "dmn_idx = roi_dmn.where_is('Default mode network')\n",
    "roi_dmn.select_roi(dmn_idx)\n",
    "# Project source's activity on the surface of the DMN\n",
    "s_dmn.project_sources(roi_dmn, cmap='viridis', radius=15.)\n",
    "sc.add_to_subplot(b_mask, row=2, col=2, use_this_cam=True, row_span=2,\n",
    "                  title=\"Project source's activity\\non the DMN\")\n",
    "sc.add_to_subplot(roi_dmn, row=2, col=2, row_span=2)"
   ]
  },
  {
   "cell_type": "markdown",
   "metadata": {},
   "source": [
    "Project source's repartition on the surface of the brain\n",
    "##############################################################################\n",
    " Similarly to the example above, we project here the repartition of sources\n",
    " which mean the number of contributing sources per vertex\n",
    "\n"
   ]
  },
  {
   "cell_type": "code",
   "execution_count": null,
   "metadata": {},
   "outputs": [],
   "source": [
    "# Define the source and brain objects\n",
    "s_rep = SourceObj('proj', xyz, data=rnd_data)\n",
    "b_rep = BrainObj('B3', translucent=False)\n",
    "# Project source's activity on the surface of the brain\n",
    "s_rep.project_sources(b_rep, cmap='viridis', project='repartition')\n",
    "# Get the colorbar of the brain object\n",
    "cb_rep = ColorbarObj(b_rep, cblabel='Number of sources\\nper vertex',\n",
    "                     border=False, **CBAR_STATE)\n",
    "sc.add_to_subplot(b_rep, row=2, col=3, title=\"Project source's repartition\")\n",
    "sc.add_to_subplot(cb_rep, row=2, col=4)"
   ]
  },
  {
   "cell_type": "markdown",
   "metadata": {},
   "source": [
    "Display only sources in the left hemisphere\n",
    "##############################################################################\n",
    " In this little example, we illustrate how to only display sources in the left\n",
    " hemisphere\n",
    "\n"
   ]
  },
  {
   "cell_type": "code",
   "execution_count": null,
   "metadata": {},
   "outputs": [],
   "source": [
    "# Define the source object\n",
    "s_obj_left = SourceObj('S_left', xyz, color='#ab4642')\n",
    "# Select only sources that belong to the left hemisphere and add the object to\n",
    "# the scene\n",
    "s_obj_left.set_visible_sources('left')\n",
    "sc.add_to_subplot(s_obj_left, row=3, col=0,\n",
    "                  title='Display sources in left hemisphere', **S_KW)"
   ]
  },
  {
   "cell_type": "markdown",
   "metadata": {},
   "source": [
    "Force sources to fit to the surface of the brain\n",
    "##############################################################################\n",
    " First, we force sources to fit to the white matter of the brain. Then, we use\n",
    " the talaich ROI to identify which sources belong to the left or right\n",
    " hemisphere and color them accordingly\n",
    "\n"
   ]
  },
  {
   "cell_type": "code",
   "execution_count": null,
   "metadata": {},
   "outputs": [],
   "source": [
    "# Define the Brain and Source objects\n",
    "s_obj_fit = SourceObj('Fit', xyz, symbol='diamond')\n",
    "b_obj_fit = BrainObj('white', translucent=True)\n",
    "# Get the vertices of the brain object and force sources to fit to those\n",
    "# vertices\n",
    "b_obj_vert = b_obj_fit.vertices\n",
    "s_obj_fit.fit_to_vertices(b_obj_vert)\n",
    "# Analyse source's anatomical location using the Talairach atlas\n",
    "df_tal = s_obj_fit.analyse_sources(roi_obj='talairach')\n",
    "# Color sources accordingly to the hemisphere (left='purple', right='yellow')\n",
    "s_obj_fit.color_sources(analysis=df_tal, color_by='hemisphere',\n",
    "                        roi_to_color={'Left': 'purple', 'Right': 'yellow'})\n",
    "# Finally, add those objects to the scene\n",
    "sc.add_to_subplot(s_obj_fit, row=3, col=1,\n",
    "                  title=\"Force sources to fit to the\\nsurface of the brain\")\n",
    "sc.add_to_subplot(b_obj_fit, row=3, col=1, use_this_cam=True)"
   ]
  },
  {
   "cell_type": "markdown",
   "metadata": {},
   "source": [
    "Display only sources inside the brain\n",
    "##############################################################################\n",
    " In this little example, we illustrate how to only display sources inside the\n",
    " brain\n",
    "\n"
   ]
  },
  {
   "cell_type": "code",
   "execution_count": null,
   "metadata": {},
   "outputs": [],
   "source": [
    "s_obj_inside = SourceObj('In', xyz, symbol='cross', color='firebrick')\n",
    "s_obj_inside.set_visible_sources('inside', b_obj_vert)\n",
    "sc.add_to_subplot(s_obj_inside, row=3, col=3,\n",
    "                  title='Display only sources inside the brain', **S_KW)"
   ]
  },
  {
   "cell_type": "markdown",
   "metadata": {},
   "source": [
    "Take a screenshot of the scene\n",
    "##############################################################################\n",
    "\n"
   ]
  },
  {
   "cell_type": "code",
   "execution_count": null,
   "metadata": {},
   "outputs": [],
   "source": [
    "# Screenshot of the scene\n",
    "# sc.screenshot('ex_source_obj.png', transparent=True)\n",
    "\n",
    "# If you need, you can link the rotation off all cameras but this can\n",
    "# considerably slow down visualization updates\n",
    "# sc.link(-1)\n",
    "\n",
    "# Display the scene\n",
    "sc.preview()"
   ]
  }
 ],
 "metadata": {
  "kernelspec": {
   "display_name": "Python [py36]",
   "language": "python",
   "name": "conda-env-py36-py"
  },
  "language_info": {
   "codemirror_mode": {
    "name": "ipython",
    "version": 3
   },
   "file_extension": ".py",
   "mimetype": "text/x-python",
   "name": "python",
   "nbconvert_exporter": "python",
   "pygments_lexer": "ipython3",
   "version": "3.6.8"
  }
 },
 "nbformat": 4,
 "nbformat_minor": 1
}
